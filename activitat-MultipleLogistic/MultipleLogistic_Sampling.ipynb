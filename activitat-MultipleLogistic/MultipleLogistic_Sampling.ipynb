{
  "nbformat": 4,
  "nbformat_minor": 0,
  "metadata": {
    "colab": {
      "provenance": []
    },
    "kernelspec": {
      "name": "python3",
      "display_name": "Python 3"
    },
    "language_info": {
      "name": "python"
    }
  },
  "cells": [
    {
      "cell_type": "markdown",
      "source": [
        "## MULTIPLE LOGISTIC REGRESSION"
      ],
      "metadata": {
        "id": "XcDuVOb1o-NL"
      }
    },
    {
      "cell_type": "markdown",
      "source": [
        "Del dataset churn, ajusta un modelo de estado de abandono con las dos variables explicativas del conjunto de datos: la duración de la relación con el cliente y la antigüedad de la compra, y su interacción."
      ],
      "metadata": {
        "id": "ox6a_iUZqch8"
      }
    },
    {
      "cell_type": "code",
      "execution_count": null,
      "metadata": {
        "id": "iV9vk5wxo6oy"
      },
      "outputs": [],
      "source": []
    },
    {
      "cell_type": "markdown",
      "source": [
        "Para todas las combinaciones posibles de tiempo de relación con el cliente de -2 a 4 aumentando en tramos de 0.1 y antigüedad de compra de -1 a 6, en tramos de 0.1, predice si se darán de baja o no. (La predicción debe ser o 0 o 1)"
      ],
      "metadata": {
        "id": "7OC-LpVwqyzs"
      }
    },
    {
      "cell_type": "code",
      "source": [],
      "metadata": {
        "id": "Wx2rK3M_rYiZ"
      },
      "execution_count": null,
      "outputs": []
    },
    {
      "cell_type": "markdown",
      "source": [
        "Muestra en un mismo gràfico los valores reales y nuestras perdicciones (el gráfico se ve que flipas). Responde la siguiente pregunta a ojo:\n",
        "- Un usuario con antigüedad valor 3, cuanto debe hacer que no compra para que considere que se va a dar de baja?"
      ],
      "metadata": {
        "id": "EQVTiW2OrZ9I"
      }
    },
    {
      "cell_type": "code",
      "source": [],
      "metadata": {
        "id": "0B-1EAD6scaA"
      },
      "execution_count": null,
      "outputs": []
    },
    {
      "cell_type": "markdown",
      "source": [
        "A través de la matriz de confusión, obtén la accuracy del modelo. ¿Te parece bueno?"
      ],
      "metadata": {
        "id": "63xzPCApscok"
      }
    },
    {
      "cell_type": "code",
      "source": [],
      "metadata": {
        "id": "EdjcjnA-simv"
      },
      "execution_count": null,
      "outputs": []
    },
    {
      "cell_type": "markdown",
      "source": [
        "## Sampling en python"
      ],
      "metadata": {
        "id": "SvGQU2HlsjFH"
      }
    },
    {
      "cell_type": "markdown",
      "source": [
        "Del DataSet Attrition, muestra la media de desgaste (attrition) para cada grupo de Sataisfacción en sus relaciones.\n",
        "Posteriormente haz lo mismo para una muestra de 10,luego para una de 1000 y finalmente para el 25% (usa el parametro frac).\n",
        "Saca tus conclusiones y escribe:"
      ],
      "metadata": {
        "id": "5B1NEUjBslu-"
      }
    },
    {
      "cell_type": "code",
      "source": [],
      "metadata": {
        "id": "X9WPGaVpwgwC"
      },
      "execution_count": null,
      "outputs": []
    },
    {
      "cell_type": "markdown",
      "source": [
        "Queremos que siga la misma proporcion que el dataset original, así que obtén el 25% de muestras de cada grupo. Muestra los valores que se pedian antes y saca tus conlusiones:"
      ],
      "metadata": {
        "id": "6O50O9ziw24A"
      }
    },
    {
      "cell_type": "code",
      "source": [],
      "metadata": {
        "id": "lwzr0eWbxQb_"
      },
      "execution_count": null,
      "outputs": []
    },
    {
      "cell_type": "markdown",
      "source": [
        "Obtén el mismo número de muestras de cada grupo 50. Muestra los valores y reflexiona para cuando podría ser útil este tipo de muestreo:"
      ],
      "metadata": {
        "id": "14Gv4_FcxSzZ"
      }
    },
    {
      "cell_type": "code",
      "source": [],
      "metadata": {
        "id": "Ofd7xskVxf21"
      },
      "execution_count": null,
      "outputs": []
    }
  ]
}