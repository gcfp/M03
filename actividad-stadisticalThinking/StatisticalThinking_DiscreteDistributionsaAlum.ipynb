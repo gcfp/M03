{
  "cells": [
    {
      "cell_type": "markdown",
      "metadata": {
        "id": "v4aM2FfW-o66"
      },
      "source": [
        "# DISTRIBUCIÓN DE BERNOUILLI / BINOMIAL\n",
        "\n",
        "La distribución binomial describe la probabilidad de obtener k éxitos en n experimentos binomiales .\n",
        "\n",
        "La distribución de Bernoulli es un modelo teórico utilizado para representar una variable aleatoria discreta la cual solo puede finalizar en dos resultados mutuamente excluyentes.\n",
        "\n",
        "\n",
        "---\n",
        "\n"
      ]
    },
    {
      "cell_type": "code",
      "execution_count": 2,
      "metadata": {},
      "outputs": [
        {
          "data": {
            "image/png": "[encoded data removed]",
            "text/plain": [
              "<Figure size 640x480 with 1 Axes>"
            ]
          },
          "metadata": {},
          "output_type": "display_data"
        }
      ],
      "source": [
        "import numpy as np\n",
        "import matplotlib.pyplot as plt\n",
        "# Fijamos aleatoriedad\n",
        "np.random.seed(42)\n",
        "random_results = np.empty(100)\n",
        "# Generamos pruebas aleatorias\n",
        "for i in range(100):\n",
        "    random_results[i] = np.random.random()\n",
        "    if random_results[i] >= 0.5:\n",
        "        random_results[i] = 1\n",
        "    else:\n",
        "        random_results[i] = 0\n",
        "np.sum(random_results)/100\n",
        "plt.hist(random_results)\n",
        "plt.show()"
      ]
    },
    {
      "cell_type": "markdown",
      "metadata": {
        "id": "GvoZERGdJfJb"
      },
      "source": [
        "## Ejercicio 1\n",
        "\n",
        "* Si tiro 4 monedas durante 10 experimientos, calcula la probabilidad de que salgan 4 caras\n",
        "*   Haz lo mismo para 10000 experimientos"
      ]
    },
    {
      "cell_type": "code",
      "execution_count": 3,
      "metadata": {},
      "outputs": [
        {
          "name": "stdout",
          "output_type": "stream",
          "text": [
            "1\n"
          ]
        }
      ],
      "source": [
        "numTodoCaras = 0\n",
        "for _ in range(10):\n",
        "    tiradas = np.random.random(size=4) >= 0.5\n",
        "    numCaras = np.sum(tiradas)\n",
        "    if numCaras == 4:\n",
        "        numTodoCaras +=1\n",
        "print(numTodoCaras)\n"
      ]
    },
    {
      "cell_type": "code",
      "execution_count": 4,
      "metadata": {},
      "outputs": [
        {
          "name": "stdout",
          "output_type": "stream",
          "text": [
            "0.0612\n"
          ]
        }
      ],
      "source": [
        "tiradas = np.random.binomial(4,0.5,10000)\n",
        "print(np.sum(tiradas==4)/10000)"
      ]
    },
    {
      "cell_type": "markdown",
      "metadata": {
        "id": "IMeGb7WOFyA7"
      },
      "source": [
        "## Ejercicio 2 \n",
        "\n",
        "Me gusta ir al casino, voy semanalmente y me juego 10€ al número 11 durante 100 tiradas (1000€ al dia, nada mal). \n",
        "\n",
        "\n",
        "*   A final de año (52 semanas) cuanto dinero he ganado/perdido, si cada vez que me toca gano 360€\n",
        "*   Si algún dia voy y vuelvo con las manos vacías (no me toca ni una vez) puedo tener un problema grave en casa, ¿Cual és la probabilidad de que eso suceda?)\n",
        "\n"
      ]
    },
    {
      "cell_type": "code",
      "execution_count": 5,
      "metadata": {},
      "outputs": [
        {
          "name": "stdout",
          "output_type": "stream",
          "text": [
            "Tu balance es: -4120\n",
            "0.038461538461538464\n"
          ]
        }
      ],
      "source": [
        "resultado = np.random.binomial(100,1/37,52)\n",
        "print('Tu balance es:', np.sum(resultado)*360-52000)\n",
        "print(np.sum(resultado==0)/52)"
      ]
    },
    {
      "cell_type": "markdown",
      "metadata": {
        "id": "QOqIhjQUaSch"
      },
      "source": [
        "# DISTRIBUCIÓN DE POISSON\n",
        "\n",
        "La distribución de Poisson describe la probabilidad de experimentar k eventos durante un intervalo de tiempo fijo."
      ]
    },
    {
      "cell_type": "markdown",
      "metadata": {
        "id": "LQfaVkrwbKyz"
      },
      "source": [
        "## Ejercicio 1\n",
        "* Una empresa de tecnología quiere modelar la probabilidad de que ocurra una cierta cantidad de fallas en la red en una semana determinada. Suponga que se sabe que se producen un promedio de 4 fallas de red cada semana. Sea X el número de fallos de red en una semana determinada. ¿Qué tipo de distribución sigue la variable aleatoria X ? Discreta\n",
        "\n",
        "* Tyler hace el 70% de todos los tiros libres que intenta. Supongamos que lanza 10 tiros libres. Sea X el número de veces que Tyler hace una canasta durante los 10 intentos. ¿Qué tipo de distribución sigue la variable aleatoria X ? Binomial"
      ]
    },
    {
      "cell_type": "markdown",
      "metadata": {
        "id": "CIX7KK5UE_gk"
      },
      "source": [
        "## Ejercicio 2\n",
        "\n",
        "\n",
        "En el béisbol, un juego sin hits es un juego en el que un lanzador no permite que el otro equipo consiga un hit. Este es un evento raro, y desde el comienzo de la llamada era moderna del béisbol (que comenzó en 1901), solo ha habido 251 de ellos hasta la temporada 2015 en más de 200,000 juegos.\n",
        "\n",
        "En 1990 y 2015 presentaron la mayor cantidad de juegos sin hits de cualquier temporada de béisbol (hubo siete). Dado que hay un promedio de 251/115 juegos sin hits por temporada, ¿cuál es la probabilidad de tener siete o más en una temporada?"
      ]
    },
    {
      "cell_type": "code",
      "execution_count": 6,
      "metadata": {},
      "outputs": [
        {
          "name": "stdout",
          "output_type": "stream",
          "text": [
            "Probabilidad:  0.006985\n"
          ]
        }
      ],
      "source": [
        "import seaborn as sns\n",
        "n_sinHits = np.random.poisson(251/115,200000) >= 7\n",
        "print('Probabilidad: ',np.sum(n_sinHits)/200000)"
      ]
    },
    {
      "cell_type": "markdown",
      "metadata": {
        "id": "Vcryvw0oL_4p"
      },
      "source": [
        "# ACTIVIDADES"
      ]
    },
    {
      "cell_type": "markdown",
      "metadata": {
        "id": "ntri99J4DRqD"
      },
      "source": [
        "## ACTIVIDAD 1 - PROGRAMAR ESTADÍSITICAS"
      ]
    },
    {
      "cell_type": "markdown",
      "metadata": {
        "id": "HO35s2noDYo0"
      },
      "source": [
        "Vamos a simular el lanzamiento de dos dados 100 veces:\n",
        "* mediante un histograma indica los números a los que más me sale a cuenta apostar?\n",
        "\n",
        "* Indica la probabilidad de que me salga dos veces el mismo número\n",
        "\n",
        "* Upgrade: Si te sale tres veces dados repetidos, te vas a la carcel, cual es la probabilidad de que eso suceda?"
      ]
    },
    {
      "cell_type": "code",
      "execution_count": 40,
      "metadata": {},
      "outputs": [
        {
          "name": "stdout",
          "output_type": "stream",
          "text": [
            "[ 8  8 10  5  6  4  7 11  3  2  8  3  7  8 11  2  8  7 10  7  9  6  4  8\n",
            " 11  5  4  4  3 10  5  6  7  4  7 10  4  6 11 11  7 10  7  6 11  4  2  2\n",
            "  6  3 10  9 10 10  6  7  8  5 10  2  6  2  8  2  7 10  9 11  4  5  9  8\n",
            "  7  6  4  8  5  5  6  9  7  9  4  5  4  8 10  8  7 11  8  8  6 11 10  7\n",
            "  4  9  9  8]\n"
          ]
        },
        {
          "data": {
            "image/png": "[encoded data removed]",
            "text/plain": [
              "<Figure size 640x480 with 1 Axes>"
            ]
          },
          "metadata": {},
          "output_type": "display_data"
        },
        {
          "name": "stdout",
          "output_type": "stream",
          "text": [
            "Probabilidad:  0.16666666666666666\n"
          ]
        }
      ],
      "source": []
    },
    {
      "cell_type": "markdown",
      "metadata": {
        "id": "QalxxbQNME8F"
      },
      "source": [
        "## ACTIVIDAD 2 - BINOMIAL\n",
        "Somos un banco y sabemos que la probabilidad de que un usuario al que le hacemos un prestamo deje de pagar es de p=0.05. \n",
        "\n",
        "Vamos a hacer una simulación y dejar 100 prestamos: ¿Cuántos nos han dejado de pagar?"
      ]
    },
    {
      "cell_type": "markdown",
      "metadata": {
        "id": "C5Xqn0wDQDJD"
      },
      "source": [
        "Ahora vamos a dejar 100 prestamos 1000 veces. ¿Cuantas veces nos han dejado de pagar más de 7 usuarios?"
      ]
    },
    {
      "cell_type": "markdown",
      "metadata": {
        "id": "eDwb3lkgRBBX"
      },
      "source": [
        "Si nos dejan de pagar más de 10 veces al dejar 100 prestamos, entramos en bancarota cual es la probabilidad de que eso suceda"
      ]
    },
    {
      "cell_type": "code",
      "execution_count": null,
      "metadata": {},
      "outputs": [],
      "source": []
    },
    {
      "cell_type": "markdown",
      "metadata": {
        "id": "83qC4FFrHRdb"
      },
      "source": [
        "## ACTIVIDAD 3 - POISSON\n",
        "\n",
        "Pensando en Sergio Ramos, la probabilidad de que un jugador concreto meta un gol que ha acabado siendo decisivo una eliminatoria a partir del minuto 92, ha pasado 25 veces en 540 eliminatorias. \n",
        "\n",
        "Sergio Ramos eso lo ha hecho dos veces:\n",
        "\n",
        "\n",
        "*   ¿Cual és la probabilidad que un jugador decida dos eliminatorias con un gol a partir del min 92?\n",
        "\n",
        "* Si sergio Ramos ha jugado 110 eliminatorias, ¿cual deberia ser la cifra estimada de goles decisivos marcados?\n",
        "\n"
      ]
    },
    {
      "cell_type": "code",
      "execution_count": null,
      "metadata": {},
      "outputs": [],
      "source": []
    }
  ],
  "metadata": {
    "colab": {
      "provenance": []
    },
    "kernelspec": {
      "display_name": "Python 3.9.13 ('base')",
      "language": "python",
      "name": "python3"
    },
    "language_info": {
      "codemirror_mode": {
        "name": "ipython",
        "version": 3
      },
      "file_extension": ".py",
      "mimetype": "text/x-python",
      "name": "python",
      "nbconvert_exporter": "python",
      "pygments_lexer": "ipython3",
      "version": "3.9.13"
    },
    "vscode": {
      "interpreter": {
        "hash": "48ed48f5542fe07e8f725768fb6d295eb9c66c05001f1d4e389bf0879d8b38cd"
      }
    }
  },
  "nbformat": 4,
  "nbformat_minor": 0
}
