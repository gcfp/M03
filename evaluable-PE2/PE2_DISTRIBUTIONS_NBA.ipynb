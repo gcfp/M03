{
  "cells": [
    {
      "cell_type": "markdown",
      "metadata": {
        "id": "R9lt8bBJSQS1"
      },
      "source": [
        "# PE EVALUABLE: NBA\n",
        "\n",
        "Vamos a aplicar los contenidos aprendidos tratando un caso real, los datos de la NBA de 2022-2023. En este sentido yo voy a proponer diferentes preguntas, pero tenéis total libertad para hacer el análisis que considereis oportuno siempre y cuando se trabajane las diferentes correlaciones.\n",
        "\n",
        "En todos los casos, partiremos de nuestros datos para despúes a través de neustros conocimientos de distribuciones realitzar los cálculos de manera inferencial."
      ]
    },
    {
      "cell_type": "markdown",
      "metadata": {
        "id": "t1QYbsti7htp"
      },
      "source": [
        "## A1: Anàlisis del DataSet\n",
        "\n",
        "Vamos a utilizar el dataSet https://www.nbastuffer.com/2022-2023-nba-player-stats/:\n",
        "\n",
        "* Solo queremos jugadores titulares (más de 25min pp) y que hayan dispustado màs de 10 partidos ¿De cuántos jugadores tenemos datos?\n",
        "* Para nuestro anàlisis no nos interesan todas las columnas. Nos quedaremos únicamente con Nombre, Equipo, Edad, Posición Partidos Jugados, Minutos por partido, Media de puntos, Media rebotes, Media de Pèrdidas, %TL anotados\n"
      ]
    },
    {
      "cell_type": "code",
      "execution_count": 1,
      "metadata": {
        "id": "0OFgOvjfcFy8"
      },
      "outputs": [
        {
          "name": "stdout",
          "output_type": "stream",
          "text": [
            "Tenemos a 165 jugadores titulares\n"
          ]
        },
        {
          "data": {
            "text/html": [
              "<div>\n",
              "<style scoped>\n",
              "    .dataframe tbody tr th:only-of-type {\n",
              "        vertical-align: middle;\n",
              "    }\n",
              "\n",
              "    .dataframe tbody tr th {\n",
              "        vertical-align: top;\n",
              "    }\n",
              "\n",
              "    .dataframe thead th {\n",
              "        text-align: right;\n",
              "    }\n",
              "</style>\n",
              "<table border=\"1\" class=\"dataframe\">\n",
              "  <thead>\n",
              "    <tr style=\"text-align: right;\">\n",
              "      <th></th>\n",
              "      <th>FULL NAME</th>\n",
              "      <th>TEAM</th>\n",
              "      <th>AGE</th>\n",
              "      <th>POS</th>\n",
              "      <th>GP</th>\n",
              "      <th>MPG</th>\n",
              "      <th>PPG</th>\n",
              "      <th>RPG</th>\n",
              "      <th>SPG</th>\n",
              "      <th>FT%</th>\n",
              "    </tr>\n",
              "  </thead>\n",
              "  <tbody>\n",
              "    <tr>\n",
              "      <th>1</th>\n",
              "      <td>Steven Adams</td>\n",
              "      <td>Mem</td>\n",
              "      <td>29.42</td>\n",
              "      <td>C</td>\n",
              "      <td>26</td>\n",
              "      <td>26.5</td>\n",
              "      <td>8.1</td>\n",
              "      <td>10.2</td>\n",
              "      <td>0.85</td>\n",
              "      <td>0.333</td>\n",
              "    </tr>\n",
              "    <tr>\n",
              "      <th>2</th>\n",
              "      <td>Bam Adebayo</td>\n",
              "      <td>Mia</td>\n",
              "      <td>25.42</td>\n",
              "      <td>C-F</td>\n",
              "      <td>28</td>\n",
              "      <td>35.0</td>\n",
              "      <td>20.7</td>\n",
              "      <td>9.8</td>\n",
              "      <td>1.00</td>\n",
              "      <td>0.841</td>\n",
              "    </tr>\n",
              "    <tr>\n",
              "      <th>6</th>\n",
              "      <td>Grayson Allen</td>\n",
              "      <td>Mil</td>\n",
              "      <td>27.20</td>\n",
              "      <td>G</td>\n",
              "      <td>26</td>\n",
              "      <td>27.2</td>\n",
              "      <td>10.9</td>\n",
              "      <td>3.6</td>\n",
              "      <td>0.73</td>\n",
              "      <td>0.930</td>\n",
              "    </tr>\n",
              "    <tr>\n",
              "      <th>7</th>\n",
              "      <td>Jarrett Allen</td>\n",
              "      <td>Cle</td>\n",
              "      <td>24.66</td>\n",
              "      <td>C</td>\n",
              "      <td>24</td>\n",
              "      <td>33.4</td>\n",
              "      <td>13.7</td>\n",
              "      <td>10.3</td>\n",
              "      <td>0.67</td>\n",
              "      <td>0.719</td>\n",
              "    </tr>\n",
              "    <tr>\n",
              "      <th>10</th>\n",
              "      <td>Giannis Antetokounmpo</td>\n",
              "      <td>Mil</td>\n",
              "      <td>28.04</td>\n",
              "      <td>F</td>\n",
              "      <td>24</td>\n",
              "      <td>32.7</td>\n",
              "      <td>30.6</td>\n",
              "      <td>11.1</td>\n",
              "      <td>0.88</td>\n",
              "      <td>0.628</td>\n",
              "    </tr>\n",
              "  </tbody>\n",
              "</table>\n",
              "</div>"
            ],
            "text/plain": [
              "                FULL NAME TEAM    AGE  POS  GP   MPG   PPG   RPG   SPG    FT%\n",
              "1            Steven Adams  Mem  29.42    C  26  26.5   8.1  10.2  0.85  0.333\n",
              "2             Bam Adebayo  Mia  25.42  C-F  28  35.0  20.7   9.8  1.00  0.841\n",
              "6           Grayson Allen  Mil  27.20    G  26  27.2  10.9   3.6  0.73  0.930\n",
              "7           Jarrett Allen  Cle  24.66    C  24  33.4  13.7  10.3  0.67  0.719\n",
              "10  Giannis Antetokounmpo  Mil  28.04    F  24  32.7  30.6  11.1  0.88  0.628"
            ]
          },
          "execution_count": 1,
          "metadata": {},
          "output_type": "execute_result"
        }
      ],
      "source": [
        "import pandas as pd\n",
        "\n",
        "nba_ds = pd.read_csv('nba.csv', sep=';')\n",
        "\n",
        "titulares = nba_ds[(nba_ds['MPG'] > 25) & (nba_ds['GP'] > 10)]\n",
        "print('Tenemos a',titulares.shape[0],'jugadores titulares')\n",
        "\n",
        "titulares_filtrado = titulares[['FULL NAME', 'TEAM', 'AGE', 'POS', 'GP', 'MPG', 'PPG', 'RPG', 'SPG', 'FT%']]\n",
        "titulares_filtrado.head()"
      ]
    },
    {
      "cell_type": "markdown",
      "metadata": {
        "id": "JSFh9wudVZaL"
      },
      "source": [
        "## A2: Anàlisis de la Edad\n",
        "\n",
        "No nos vamos a centrar únicamente en nuestro caso de jugadores, sino que obtendremos estadísiticos básicos para poder realizar cálculo inferencial\n",
        "\n",
        "Tenemos la sensación de que los jugadores cada vez juegan más años, así que que queremos responder a las siguientes preguntas:\n",
        "\n",
        "* ¿Cuál es la probabilidad de que un jugador (de los importantes, filtro inicial) tegan una edad inferior a 23 años?\n",
        "* ¿Cuál es la probabilidad de que un jugador (de los importantes, filtro inicial) tegan una edad superior a 34 años?\n",
        "* ¿Cuál es la probabilidad de que un jugador (de los importantes, filtro inicial) tegan una edad entre 28 a 32 años?\n",
        "* ¿Cuál es la edad a partir de la qual el 90% de los jugadores son menores?\n"
      ]
    },
    {
      "cell_type": "code",
      "execution_count": 21,
      "metadata": {
        "id": "MGBGmVYdYv-E"
      },
      "outputs": [
        {
          "name": "stdout",
          "output_type": "stream",
          "text": [
            "La probabilidad de que un jugador tenga una edad inferior a 23 años es de 16.66 %\n",
            "La probabilidad de que un jugador tenga una edad superior a 34 años es de 5.06 %\n",
            "La probabilidad de que un jugador tenga una edad entre 28 y 32 años es de 29.21 %\n",
            "La edad a partir de la cual el 90% de los jugadores son menores es de 32.49 años\n"
          ]
        }
      ],
      "source": [
        "from scipy.stats import norm\n",
        "\n",
        "mean = titulares_filtrado['AGE'].mean()\n",
        "dev = titulares_filtrado['AGE'].std()\n",
        "\n",
        "print('La probabilidad de que un jugador tenga una edad inferior a 23 años es de',round(norm.cdf(23, mean, dev)*100,2),'%')\n",
        "print('La probabilidad de que un jugador tenga una edad superior a 34 años es de',round((norm.sf(34, mean, dev))*100,2),'%')\n",
        "print('La probabilidad de que un jugador tenga una edad entre 28 y 32 años es de',round((norm.cdf(32, mean, dev)-norm.cdf(28, mean, dev))*100,2),'%')\n",
        "print('La edad a partir de la cual el 90% de los jugadores son menores es de', round(norm.ppf(0.9, mean, dev),2),'años')"
      ]
    },
    {
      "cell_type": "markdown",
      "metadata": {
        "id": "i-for-3FYwUi"
      },
      "source": [
        "Con nuestros datos obervacionales: \n",
        "\n",
        "* Muestra un gràfico BoxPlot diferenciando entre Centers i Guards, y haz una reflexión sobre sus medias y su dispersión.\n",
        "\n",
        "* El Sentido me dice que cuanta más edad mayor restricción de minutos, eso se cumple, existe una correlación entre esas dos variables?"
      ]
    },
    {
      "cell_type": "code",
      "execution_count": 3,
      "metadata": {
        "id": "0hS5SC9BZvKJ"
      },
      "outputs": [
        {
          "data": {
            "image/png": "[encoded data removed]",
            "text/plain": [
              "<Figure size 1000x500 with 1 Axes>"
            ]
          },
          "metadata": {},
          "output_type": "display_data"
        },
        {
          "name": "stdout",
          "output_type": "stream",
          "text": [
            "Los jugadores de posición Center tienen una edad media mayor que los de posición Guard, y la dispersión de los jugadores de posición Guard es mayor que la de los de posición Center\n"
          ]
        },
        {
          "data": {
            "image/png": "[encoded data removed]",
            "text/plain": [
              "<Figure size 1000x500 with 1 Axes>"
            ]
          },
          "metadata": {},
          "output_type": "display_data"
        },
        {
          "name": "stdout",
          "output_type": "stream",
          "text": [
            "No existe una correlación entre la edad y los minutos por partido, ya que los jugadores de mayor edad no tienen una restricción de minutos mayor que los de menor edad\n"
          ]
        }
      ],
      "source": [
        "import matplotlib.pyplot as plt\n",
        "\n",
        "ages_centers = titulares_filtrado[titulares_filtrado['POS'] == 'C']['AGE']\n",
        "ages_guards = titulares_filtrado[titulares_filtrado['POS'] == 'G']['AGE']\n",
        "plt.figure(figsize=(10,5))\n",
        "plt.title('BoxPlot de Edad por Posición')\n",
        "plt.xlabel('Posición')\n",
        "plt.ylabel('Edad')\n",
        "plt.boxplot([ages_centers, ages_guards], labels=['Center', 'Guard'])\n",
        "plt.show()\n",
        "print('Los jugadores de posición Center tienen una edad media mayor que los de posición Guard, y la dispersión de los jugadores de posición Guard es mayor que la de los de posición Center')\n",
        "\n",
        "plt.figure(figsize=(10,5))\n",
        "plt.title('Gráfico de dispersión entre Edad y Minutos por partido')\n",
        "plt.xlabel('Edad')\n",
        "plt.ylabel('Minutos por partido')\n",
        "plt.scatter(titulares_filtrado['AGE'],titulares_filtrado['MPG'])\n",
        "plt.show()\n",
        "print('No existe una correlación entre la edad y los minutos por partido, ya que los jugadores de mayor edad no tienen una restricción de minutos mayor que los de menor edad')"
      ]
    },
    {
      "cell_type": "markdown",
      "metadata": {
        "id": "Eltoe7RhZvYt"
      },
      "source": [
        "## A2: Triples de Lebron\n",
        "\n",
        "Parece que este año lebron no está muy acertado en el triple. Suponiendo que tirara 5 triples por partido, responde a las siguientes preguntas:\n",
        "\n",
        "* ¿Cuál es la probabilidad de que no meta ninguno?\n",
        "* ¿Cuál es la probabilidad de que los meta todos?"
      ]
    },
    {
      "cell_type": "code",
      "execution_count": 4,
      "metadata": {
        "id": "hGa3WBzwbKZj"
      },
      "outputs": [
        {
          "name": "stdout",
          "output_type": "stream",
          "text": [
            "La probabilidad que lebron meta 0 triples es de 15.41 %\n",
            "La probabilidad que lebron meta 5 triples es de 0.3 %\n"
          ]
        }
      ],
      "source": [
        "from scipy.stats import binom\n",
        "\n",
        "porcentaje = titulares[titulares['FULL NAME'] == 'LeBron James']['3P%'].values[0]\n",
        "\n",
        "print('La probabilidad que lebron meta 0 triples es de', round(binom.pmf(0,5,porcentaje)*100,2),'%')\n",
        "print('La probabilidad que lebron meta 5 triples es de', round(binom.pmf(5,5,porcentaje)*100,2),'%')"
      ]
    },
    {
      "cell_type": "markdown",
      "metadata": {
        "id": "A6M8AORsbKjL"
      },
      "source": [
        "Muestra su función de distribución acumulada empírica y responde las siguientes preguntas:\n",
        "\n",
        "* ¿Cuál es la probabilidad de que meta uno o menos? (Partido de poco acierto)\n",
        "* ¿Cuál es la probabilidad de que meta tres o màs? (Partido de mucho acierto)"
      ]
    },
    {
      "cell_type": "code",
      "execution_count": 5,
      "metadata": {
        "id": "SAMz7sl2dUQA"
      },
      "outputs": [
        {
          "name": "stdout",
          "output_type": "stream",
          "text": [
            "La probabilidad que lebron meta 1 o menos triples es de 50.37 %\n",
            "La probabilidad que lebron meta 3 o más triples es de 17.93 %\n"
          ]
        }
      ],
      "source": [
        "print('La probabilidad que lebron meta 1 o menos triples es de', round(binom.cdf(1,5,porcentaje)*100,2),'%')\n",
        "print('La probabilidad que lebron meta 3 o más triples es de', round((binom.sf(2,5,porcentaje))*100,2),'%')"
      ]
    },
    {
      "cell_type": "markdown",
      "metadata": {
        "id": "G8Pl-BOSdGTe"
      },
      "source": [
        "## A3 Picadas de Lebron tirando triples\n",
        "\n",
        "Para hacer este apartado necesitamos el número de triples que se ha tirado lebron en cada partido. Tienes dos opciones:\n",
        "* Dummy: Mirarlo manualmente y crear un array a mano\n",
        "* Upgrade: Llamar a la api https://www.balldontlie.io/ (Stats) y obtener los datos\n",
        "\n"
      ]
    },
    {
      "cell_type": "code",
      "execution_count": 6,
      "metadata": {
        "id": "HYMW-t4Eew2t"
      },
      "outputs": [
        {
          "data": {
            "text/html": [
              "<div>\n",
              "<style scoped>\n",
              "    .dataframe tbody tr th:only-of-type {\n",
              "        vertical-align: middle;\n",
              "    }\n",
              "\n",
              "    .dataframe tbody tr th {\n",
              "        vertical-align: top;\n",
              "    }\n",
              "\n",
              "    .dataframe thead th {\n",
              "        text-align: right;\n",
              "    }\n",
              "</style>\n",
              "<table border=\"1\" class=\"dataframe\">\n",
              "  <thead>\n",
              "    <tr style=\"text-align: right;\">\n",
              "      <th></th>\n",
              "      <th>id</th>\n",
              "      <th>ast</th>\n",
              "      <th>blk</th>\n",
              "      <th>dreb</th>\n",
              "      <th>fg3_pct</th>\n",
              "      <th>fg3a</th>\n",
              "      <th>fg3m</th>\n",
              "      <th>fg_pct</th>\n",
              "      <th>fga</th>\n",
              "      <th>fgm</th>\n",
              "      <th>...</th>\n",
              "      <th>game</th>\n",
              "      <th>min</th>\n",
              "      <th>oreb</th>\n",
              "      <th>pf</th>\n",
              "      <th>player</th>\n",
              "      <th>pts</th>\n",
              "      <th>reb</th>\n",
              "      <th>stl</th>\n",
              "      <th>team</th>\n",
              "      <th>turnover</th>\n",
              "    </tr>\n",
              "  </thead>\n",
              "  <tbody>\n",
              "    <tr>\n",
              "      <th>0</th>\n",
              "      <td>12068860</td>\n",
              "      <td>6</td>\n",
              "      <td>2</td>\n",
              "      <td>8</td>\n",
              "      <td>0.250000</td>\n",
              "      <td>8</td>\n",
              "      <td>2</td>\n",
              "      <td>0.411765</td>\n",
              "      <td>17</td>\n",
              "      <td>7</td>\n",
              "      <td>...</td>\n",
              "      <td>{'id': 857369, 'date': '2022-10-20T00:00:00.00...</td>\n",
              "      <td>37</td>\n",
              "      <td>2</td>\n",
              "      <td>3</td>\n",
              "      <td>{'id': 237, 'first_name': 'LeBron', 'height_fe...</td>\n",
              "      <td>20</td>\n",
              "      <td>10</td>\n",
              "      <td>1</td>\n",
              "      <td>{'id': 14, 'abbreviation': 'LAL', 'city': 'Los...</td>\n",
              "      <td>2</td>\n",
              "    </tr>\n",
              "    <tr>\n",
              "      <th>1</th>\n",
              "      <td>12069595</td>\n",
              "      <td>8</td>\n",
              "      <td>2</td>\n",
              "      <td>7</td>\n",
              "      <td>0.222222</td>\n",
              "      <td>9</td>\n",
              "      <td>2</td>\n",
              "      <td>0.545455</td>\n",
              "      <td>22</td>\n",
              "      <td>12</td>\n",
              "      <td>...</td>\n",
              "      <td>{'id': 857391, 'date': '2022-10-23T00:00:00.00...</td>\n",
              "      <td>38</td>\n",
              "      <td>1</td>\n",
              "      <td>3</td>\n",
              "      <td>{'id': 237, 'first_name': 'LeBron', 'height_fe...</td>\n",
              "      <td>31</td>\n",
              "      <td>8</td>\n",
              "      <td>2</td>\n",
              "      <td>{'id': 14, 'abbreviation': 'LAL', 'city': 'Los...</td>\n",
              "      <td>4</td>\n",
              "    </tr>\n",
              "    <tr>\n",
              "      <th>2</th>\n",
              "      <td>12096558</td>\n",
              "      <td>9</td>\n",
              "      <td>0</td>\n",
              "      <td>5</td>\n",
              "      <td>0.250000</td>\n",
              "      <td>8</td>\n",
              "      <td>2</td>\n",
              "      <td>0.380952</td>\n",
              "      <td>21</td>\n",
              "      <td>8</td>\n",
              "      <td>...</td>\n",
              "      <td>{'id': 857411, 'date': '2022-10-26T00:00:00.00...</td>\n",
              "      <td>35</td>\n",
              "      <td>2</td>\n",
              "      <td>1</td>\n",
              "      <td>{'id': 237, 'first_name': 'LeBron', 'height_fe...</td>\n",
              "      <td>19</td>\n",
              "      <td>7</td>\n",
              "      <td>1</td>\n",
              "      <td>{'id': 14, 'abbreviation': 'LAL', 'city': 'Los...</td>\n",
              "      <td>8</td>\n",
              "    </tr>\n",
              "    <tr>\n",
              "      <th>3</th>\n",
              "      <td>12159440</td>\n",
              "      <td>5</td>\n",
              "      <td>0</td>\n",
              "      <td>4</td>\n",
              "      <td>0.166667</td>\n",
              "      <td>6</td>\n",
              "      <td>1</td>\n",
              "      <td>0.416667</td>\n",
              "      <td>24</td>\n",
              "      <td>10</td>\n",
              "      <td>...</td>\n",
              "      <td>{'id': 857429, 'date': '2022-10-28T00:00:00.00...</td>\n",
              "      <td>37</td>\n",
              "      <td>3</td>\n",
              "      <td>2</td>\n",
              "      <td>{'id': 237, 'first_name': 'LeBron', 'height_fe...</td>\n",
              "      <td>28</td>\n",
              "      <td>7</td>\n",
              "      <td>4</td>\n",
              "      <td>{'id': 14, 'abbreviation': 'LAL', 'city': 'Los...</td>\n",
              "      <td>3</td>\n",
              "    </tr>\n",
              "    <tr>\n",
              "      <th>4</th>\n",
              "      <td>12399558</td>\n",
              "      <td>3</td>\n",
              "      <td>0</td>\n",
              "      <td>6</td>\n",
              "      <td>0.300000</td>\n",
              "      <td>10</td>\n",
              "      <td>3</td>\n",
              "      <td>0.363636</td>\n",
              "      <td>22</td>\n",
              "      <td>8</td>\n",
              "      <td>...</td>\n",
              "      <td>{'id': 857660, 'date': '2022-11-28T00:00:00.00...</td>\n",
              "      <td>36</td>\n",
              "      <td>1</td>\n",
              "      <td>1</td>\n",
              "      <td>{'id': 237, 'first_name': 'LeBron', 'height_fe...</td>\n",
              "      <td>21</td>\n",
              "      <td>7</td>\n",
              "      <td>1</td>\n",
              "      <td>{'id': 14, 'abbreviation': 'LAL', 'city': 'Los...</td>\n",
              "      <td>1</td>\n",
              "    </tr>\n",
              "  </tbody>\n",
              "</table>\n",
              "<p>5 rows × 23 columns</p>\n",
              "</div>"
            ],
            "text/plain": [
              "         id  ast  blk  dreb   fg3_pct  fg3a  fg3m    fg_pct  fga  fgm  ...  \\\n",
              "0  12068860    6    2     8  0.250000     8     2  0.411765   17    7  ...   \n",
              "1  12069595    8    2     7  0.222222     9     2  0.545455   22   12  ...   \n",
              "2  12096558    9    0     5  0.250000     8     2  0.380952   21    8  ...   \n",
              "3  12159440    5    0     4  0.166667     6     1  0.416667   24   10  ...   \n",
              "4  12399558    3    0     6  0.300000    10     3  0.363636   22    8  ...   \n",
              "\n",
              "                                                game  min  oreb pf  \\\n",
              "0  {'id': 857369, 'date': '2022-10-20T00:00:00.00...   37     2  3   \n",
              "1  {'id': 857391, 'date': '2022-10-23T00:00:00.00...   38     1  3   \n",
              "2  {'id': 857411, 'date': '2022-10-26T00:00:00.00...   35     2  1   \n",
              "3  {'id': 857429, 'date': '2022-10-28T00:00:00.00...   37     3  2   \n",
              "4  {'id': 857660, 'date': '2022-11-28T00:00:00.00...   36     1  1   \n",
              "\n",
              "                                              player  pts  reb stl  \\\n",
              "0  {'id': 237, 'first_name': 'LeBron', 'height_fe...   20   10   1   \n",
              "1  {'id': 237, 'first_name': 'LeBron', 'height_fe...   31    8   2   \n",
              "2  {'id': 237, 'first_name': 'LeBron', 'height_fe...   19    7   1   \n",
              "3  {'id': 237, 'first_name': 'LeBron', 'height_fe...   28    7   4   \n",
              "4  {'id': 237, 'first_name': 'LeBron', 'height_fe...   21    7   1   \n",
              "\n",
              "                                                team  turnover  \n",
              "0  {'id': 14, 'abbreviation': 'LAL', 'city': 'Los...         2  \n",
              "1  {'id': 14, 'abbreviation': 'LAL', 'city': 'Los...         4  \n",
              "2  {'id': 14, 'abbreviation': 'LAL', 'city': 'Los...         8  \n",
              "3  {'id': 14, 'abbreviation': 'LAL', 'city': 'Los...         3  \n",
              "4  {'id': 14, 'abbreviation': 'LAL', 'city': 'Los...         1  \n",
              "\n",
              "[5 rows x 23 columns]"
            ]
          },
          "execution_count": 6,
          "metadata": {},
          "output_type": "execute_result"
        }
      ],
      "source": [
        "import requests\n",
        "\n",
        "r = requests.get('https://www.balldontlie.io/api/v1/stats?seasons[]=2022&player_ids[]=237')\n",
        "lebron = pd.DataFrame(r.json()['data'])\n",
        "lebron.head()"
      ]
    },
    {
      "cell_type": "markdown",
      "metadata": {
        "id": "_nX1SX8mez85"
      },
      "source": [
        "Muestra en un histograma los triples lanzados por lebron, en cuàntos partidos ha lanzado 5 o más?"
      ]
    },
    {
      "cell_type": "code",
      "execution_count": 7,
      "metadata": {
        "id": "uJw_keviezgb"
      },
      "outputs": [
        {
          "data": {
            "image/png": "[encoded data removed]",
            "text/plain": [
              "<Figure size 1000x500 with 1 Axes>"
            ]
          },
          "metadata": {},
          "output_type": "display_data"
        },
        {
          "name": "stdout",
          "output_type": "stream",
          "text": [
            "Lebron ha lanzado 5 o más triples en 15 partidos\n"
          ]
        }
      ],
      "source": [
        "plt.figure(figsize=(10,5))\n",
        "plt.title('Histograma de triples lanzados por partido')\n",
        "plt.xlabel('Número de triples lanzados')\n",
        "plt.ylabel('Número de partidos')\n",
        "plt.hist(lebron['fg3a'],bins=10)\n",
        "plt.show()\n",
        "print('Lebron ha lanzado 5 o más triples en',lebron[lebron['fg3a'] >= 5].shape[0],'partidos')"
      ]
    },
    {
      "cell_type": "markdown",
      "metadata": {
        "id": "7zEs2XDvfjeY"
      },
      "source": [
        "A partir de estos datos, vamos a hacer cálculo inferencial imaginando que juega infinitos partidos. Respondemos a la siguientes preguntas:\n",
        "\n",
        "* ¿Cuál es la probabilidad de que lebron se tire 5 o más triples por partido?\n",
        "* Como entrenador le he recomendado que tire 3 triples por partido, ¿cuál es la probabilidad de que eso suceda?"
      ]
    },
    {
      "cell_type": "code",
      "execution_count": 8,
      "metadata": {
        "id": "P_94mBF8fiXW"
      },
      "outputs": [
        {
          "name": "stdout",
          "output_type": "stream",
          "text": [
            "La probabilidad de que lebron se tire 5 o más triples por partido es de 45.39 %\n",
            "La probabilidad de que lebron se tire 3 o más triples por partido es de 78.67 %\n"
          ]
        }
      ],
      "source": [
        "from scipy.stats import poisson\n",
        "\n",
        "porcentaje = lebron['fg3a'].sum()/lebron.shape[0]\n",
        "\n",
        "print('La probabilidad de que lebron se tire 5 o más triples por partido es de',round((poisson.sf(5,porcentaje))*100,2),'%')\n",
        "print('La probabilidad de que lebron se tire 3 o más triples por partido es de',round((poisson.sf(3,porcentaje))*100,2),'%')"
      ]
    },
    {
      "cell_type": "markdown",
      "metadata": {
        "id": "32SZGk2-hD5X"
      },
      "source": [
        "## A4 Tiempo entre lanzamiento\n",
        "\n",
        "Lebron se tira un triple en promedio cada 12 minutos jugados en pista. Responde las siguientes preguntas:\n",
        "\n",
        "* ¿Cuál és la probabilidad de que pase màs de 20 min sin tirarse un triple?\n",
        "* ¿Cuál és la probabilidad de que se tire un triple entre el min 8 y 15min después del lanzamiento de triple anterior?"
      ]
    },
    {
      "cell_type": "code",
      "execution_count": 25,
      "metadata": {},
      "outputs": [
        {
          "name": "stdout",
          "output_type": "stream",
          "text": [
            "La probabilidad de que pase más de 20 minutos sin tirarse un triple es de 18.89 %\n",
            "La probabilidad de que se tire un triple entre el min 8 y 15 minutos después del lanzamiento de triple anterior es de 22.69 %\n"
          ]
        }
      ],
      "source": [
        "from scipy.stats import expon\n",
        "\n",
        "print('La probabilidad de que pase más de 20 minutos sin tirarse un triple es de',round((expon.sf(20,scale=12))*100,2),'%')\n",
        "print('La probabilidad de que se tire un triple entre el min 8 y 15 minutos después del lanzamiento de triple anterior es de',round((expon.cdf(15,scale=12)-expon.cdf(8,scale=12))*100,2),'%')"
      ]
    }
  ],
  "metadata": {
    "colab": {
      "provenance": []
    },
    "kernelspec": {
      "display_name": "base",
      "language": "python",
      "name": "python3"
    },
    "language_info": {
      "codemirror_mode": {
        "name": "ipython",
        "version": 3
      },
      "file_extension": ".py",
      "mimetype": "text/x-python",
      "name": "python",
      "nbconvert_exporter": "python",
      "pygments_lexer": "ipython3",
      "version": "3.9.13"
    },
    "vscode": {
      "interpreter": {
        "hash": "48ed48f5542fe07e8f725768fb6d295eb9c66c05001f1d4e389bf0879d8b38cd"
      }
    }
  },
  "nbformat": 4,
  "nbformat_minor": 0
}
