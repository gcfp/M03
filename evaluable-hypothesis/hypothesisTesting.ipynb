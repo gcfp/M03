{
 "cells": [
  {
   "attachments": {},
   "cell_type": "markdown",
   "metadata": {},
   "source": [
    "# EV_HypothesisTesting"
   ]
  },
  {
   "attachments": {},
   "cell_type": "markdown",
   "metadata": {},
   "source": [
    "Esta actividad se deberá entregar como enlace de GitHub, es decir, tendréis que tener subido el notebook con sus explicaciones, resultados y código a vuestro portfolio del Git (os recomiendo que vayáis subiendo diferentes actividades que hemos hecho durante el curso).\n",
    "\n",
    "Esta actividad se centra principalmente en que hagáis los diferentes test de hipotesis de un tema que os interese:\n",
    "\n",
    "- Hipótesis respecto a un valor.\n",
    "\n",
    "- Hipótesis respecto dos muestras independientes.\n",
    "\n",
    "- Hipótesis varias categorías.\n",
    "\n",
    "- Hipótesis dos muestras relacionadas\n",
    "\n",
    "No únicamente se valorará que el código y cálculo sean correctos, se valorará que se hagan explicaciones y el informe tenga un hilo conductor. Además también se valorará positivamente el uso de boxplot para sacar conclusiones visuales previas a las numéricas y que aportes alguna pregunta adicional a la propuesta en los ejemplos ( si has decidido hacer el análisis de los ejemplos)."
   ]
  },
  {
   "attachments": {},
   "cell_type": "markdown",
   "metadata": {},
   "source": [
    "## POKEMON\n",
    "\n",
    "- ¿La velocidad promedio de los Pokémon de tipo Agua cuyo valor de ataque sea mayor a 80 y cuya defensa sea menor a 60 es significativamente mayor que 70?\n",
    "\n",
    "- ¿Hay una diferencia significativa en el valor total promedio entre los Pokémon de tipo Bicho ofensivos y los de tipo Planta defensivos?\n",
    "\n",
    "- ¿Hay una asociación significativa entre el tipo de Pokémon, su generación y su rareza legendaria?\n",
    "\n",
    "- ¿Hay una diferencia significativa en el ataque promedio de los Pokémon que cambian de tipo durante su megaevolución en comparación con los que mantienen el mismo tipo?"
   ]
  },
  {
   "cell_type": "code",
   "execution_count": 37,
   "metadata": {},
   "outputs": [],
   "source": [
    "import pandas as pd\n",
    "import numpy as np\n",
    "import matplotlib.pyplot as plt\n",
    "import seaborn as sns\n",
    "import scipy.stats as stats\n",
    "import statsmodels.api as sm\n",
    "from statsmodels.formula.api import ols\n",
    "\n"
   ]
  },
  {
   "cell_type": "code",
   "execution_count": 41,
   "metadata": {},
   "outputs": [
    {
     "data": {
      "text/html": [
       "<div>\n",
       "<style scoped>\n",
       "    .dataframe tbody tr th:only-of-type {\n",
       "        vertical-align: middle;\n",
       "    }\n",
       "\n",
       "    .dataframe tbody tr th {\n",
       "        vertical-align: top;\n",
       "    }\n",
       "\n",
       "    .dataframe thead th {\n",
       "        text-align: right;\n",
       "    }\n",
       "</style>\n",
       "<table border=\"1\" class=\"dataframe\">\n",
       "  <thead>\n",
       "    <tr style=\"text-align: right;\">\n",
       "      <th></th>\n",
       "      <th>#</th>\n",
       "      <th>Name</th>\n",
       "      <th>Type 1</th>\n",
       "      <th>Type 2</th>\n",
       "      <th>Total</th>\n",
       "      <th>HP</th>\n",
       "      <th>Attack</th>\n",
       "      <th>Defense</th>\n",
       "      <th>Sp. Atk</th>\n",
       "      <th>Sp. Def</th>\n",
       "      <th>Speed</th>\n",
       "      <th>Generation</th>\n",
       "      <th>Legendary</th>\n",
       "    </tr>\n",
       "  </thead>\n",
       "  <tbody>\n",
       "    <tr>\n",
       "      <th>0</th>\n",
       "      <td>1</td>\n",
       "      <td>Bulbasaur</td>\n",
       "      <td>Grass</td>\n",
       "      <td>Poison</td>\n",
       "      <td>318</td>\n",
       "      <td>45</td>\n",
       "      <td>49</td>\n",
       "      <td>49</td>\n",
       "      <td>65</td>\n",
       "      <td>65</td>\n",
       "      <td>45</td>\n",
       "      <td>1</td>\n",
       "      <td>False</td>\n",
       "    </tr>\n",
       "    <tr>\n",
       "      <th>1</th>\n",
       "      <td>2</td>\n",
       "      <td>Ivysaur</td>\n",
       "      <td>Grass</td>\n",
       "      <td>Poison</td>\n",
       "      <td>405</td>\n",
       "      <td>60</td>\n",
       "      <td>62</td>\n",
       "      <td>63</td>\n",
       "      <td>80</td>\n",
       "      <td>80</td>\n",
       "      <td>60</td>\n",
       "      <td>1</td>\n",
       "      <td>False</td>\n",
       "    </tr>\n",
       "    <tr>\n",
       "      <th>2</th>\n",
       "      <td>3</td>\n",
       "      <td>Venusaur</td>\n",
       "      <td>Grass</td>\n",
       "      <td>Poison</td>\n",
       "      <td>525</td>\n",
       "      <td>80</td>\n",
       "      <td>82</td>\n",
       "      <td>83</td>\n",
       "      <td>100</td>\n",
       "      <td>100</td>\n",
       "      <td>80</td>\n",
       "      <td>1</td>\n",
       "      <td>False</td>\n",
       "    </tr>\n",
       "    <tr>\n",
       "      <th>3</th>\n",
       "      <td>3</td>\n",
       "      <td>VenusaurMega Venusaur</td>\n",
       "      <td>Grass</td>\n",
       "      <td>Poison</td>\n",
       "      <td>625</td>\n",
       "      <td>80</td>\n",
       "      <td>100</td>\n",
       "      <td>123</td>\n",
       "      <td>122</td>\n",
       "      <td>120</td>\n",
       "      <td>80</td>\n",
       "      <td>1</td>\n",
       "      <td>False</td>\n",
       "    </tr>\n",
       "    <tr>\n",
       "      <th>4</th>\n",
       "      <td>4</td>\n",
       "      <td>Charmander</td>\n",
       "      <td>Fire</td>\n",
       "      <td>NaN</td>\n",
       "      <td>309</td>\n",
       "      <td>39</td>\n",
       "      <td>52</td>\n",
       "      <td>43</td>\n",
       "      <td>60</td>\n",
       "      <td>50</td>\n",
       "      <td>65</td>\n",
       "      <td>1</td>\n",
       "      <td>False</td>\n",
       "    </tr>\n",
       "  </tbody>\n",
       "</table>\n",
       "</div>"
      ],
      "text/plain": [
       "   #                   Name Type 1  Type 2  Total  HP  Attack  Defense  \\\n",
       "0  1              Bulbasaur  Grass  Poison    318  45      49       49   \n",
       "1  2                Ivysaur  Grass  Poison    405  60      62       63   \n",
       "2  3               Venusaur  Grass  Poison    525  80      82       83   \n",
       "3  3  VenusaurMega Venusaur  Grass  Poison    625  80     100      123   \n",
       "4  4             Charmander   Fire     NaN    309  39      52       43   \n",
       "\n",
       "   Sp. Atk  Sp. Def  Speed  Generation  Legendary  \n",
       "0       65       65     45           1      False  \n",
       "1       80       80     60           1      False  \n",
       "2      100      100     80           1      False  \n",
       "3      122      120     80           1      False  \n",
       "4       60       50     65           1      False  "
      ]
     },
     "execution_count": 41,
     "metadata": {},
     "output_type": "execute_result"
    }
   ],
   "source": [
    "# Cargamos el dataset\n",
    "pokemon_df = pd.read_csv('pokemon.csv')\n",
    "\n",
    "# Mostramos las primeras filas\n",
    "pokemon_df.head()"
   ]
  },
  {
   "cell_type": "code",
   "execution_count": 48,
   "metadata": {},
   "outputs": [
    {
     "name": "stdout",
     "output_type": "stream",
     "text": [
      "La velocidad promedio es:  83.75\n"
     ]
    },
    {
     "data": {
      "image/png": "[encoded data removed]",
      "text/plain": [
       "<Figure size 640x480 with 1 Axes>"
      ]
     },
     "metadata": {},
     "output_type": "display_data"
    },
    {
     "name": "stdout",
     "output_type": "stream",
     "text": [
      "La hipótesis es verdadera, ya que la velocidad promedio es significativamente mayor a 70\n"
     ]
    }
   ],
   "source": [
    "# Hipótesis 1: ¿La velocidad promedio de los Pokémon de tipo Agua cuyo valor de ataque sea mayor a 80 y cuya defensa sea menor a 60 es significativamente mayor que 70?\n",
    "\n",
    "# Filtramos los datos\n",
    "pokemon_filtered = pokemon_df[(pokemon_df['Type 1'] == 'Water') & (pokemon_df['Attack'] > 80) & (pokemon_df['Defense'] < 60)]\n",
    "# Mostramos la velocidad promedio\n",
    "mean_speed = pokemon_filtered['Speed'].mean()\n",
    "print('La velocidad promedio es: ', mean_speed)\n",
    "# Mostramos de forma gráfica los datos\n",
    "sns.boxplot(x='Speed', data=pokemon_filtered)\n",
    "plt.axvline(mean_speed, color='red', linestyle='dashed', linewidth=2)\n",
    "plt.show()\n",
    "\n",
    "# Respuesta:\n",
    "print('La hipótesis es verdadera, ya que la velocidad promedio es significativamente mayor a 70')"
   ]
  },
  {
   "cell_type": "code",
   "execution_count": 97,
   "metadata": {},
   "outputs": [
    {
     "data": {
      "image/png": "[encoded data removed]",
      "text/plain": [
       "<Figure size 640x480 with 1 Axes>"
      ]
     },
     "metadata": {},
     "output_type": "display_data"
    },
    {
     "name": "stdout",
     "output_type": "stream",
     "text": [
      "Test de normalidad para los Pokémon bicho ofensivos\n",
      "ShapiroResult(statistic=0.9612798094749451, pvalue=0.15441195666790009)\n",
      "Test de normalidad para los Pokémon planta defensivos\n",
      "LeveneResult(statistic=0.12908830032711777, pvalue=0.7202808019588169)\n",
      "Ttest_indResult(statistic=-1.9401973184338772, pvalue=0.055710816441149766)\n",
      "Ttest_indResult(statistic=-1.9401973184338772, pvalue=0.05571387119282511)\n"
     ]
    }
   ],
   "source": [
    "# Hipótesis 2: ¿Hay una diferencia significativa en el valor total promedio entre los Pokémon de tipo Bicho ofensivos y los de tipo Planta defensivos?\n",
    "\n",
    "# Filtramos los datos\n",
    "grass_pokemon = pokemon_df[pokemon_df['Type 1'] == 'Grass']\n",
    "bug_pokemon = pokemon_df[pokemon_df['Type 1'] == 'Bug']\n",
    "\n",
    "# Para sacar los Pokémon bicho ofensivos, filtramos aquellos cuyo valor de ataque sea mayor a la mediana del valor de ataque o ataque especial\n",
    "bug_pokemon_offensive = bug_pokemon[(bug_pokemon['Attack'] > bug_pokemon['Attack'].median()) | (bug_pokemon['Sp. Atk'] > bug_pokemon['Sp. Atk'].median())]\n",
    "\n",
    "# Para sacar los Pokémon planta defensivos, filtramos aquellos cuyo valor de defensa sea mayor a la mediana del valor de defensa o defensa especial\n",
    "grass_pokemon_defensive = grass_pokemon[(grass_pokemon['Defense'] > grass_pokemon['Defense'].median()) | (grass_pokemon['Sp. Def'] > grass_pokemon['Sp. Def'].median())]\n",
    "\n",
    "# Mostramos graficamente los valores totales promedio de los Pokémon bicho ofensivos y planta defensivos en un solo gráfico\n",
    "sns.boxplot(x='Type 1', y='Total', data=pd.concat([bug_pokemon_offensive, grass_pokemon_defensive]))\n",
    "plt.axhline(bug_pokemon_offensive['Total'].mean(), color='red', linestyle='dashed', linewidth=2)\n",
    "plt.axhline(grass_pokemon_defensive['Total'].mean(), color='red', linestyle='dashed', linewidth=2)\n",
    "plt.show()\n",
    "\n",
    "\n"
   ]
  }
 ],
 "metadata": {
  "kernelspec": {
   "display_name": "base",
   "language": "python",
   "name": "python3"
  },
  "language_info": {
   "codemirror_mode": {
    "name": "ipython",
    "version": 3
   },
   "file_extension": ".py",
   "mimetype": "text/x-python",
   "name": "python",
   "nbconvert_exporter": "python",
   "pygments_lexer": "ipython3",
   "version": "3.9.13"
  },
  "orig_nbformat": 4
 },
 "nbformat": 4,
 "nbformat_minor": 2
}
