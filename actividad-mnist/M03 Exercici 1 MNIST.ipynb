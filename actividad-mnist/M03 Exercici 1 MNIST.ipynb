{
  "cells": [
    {
      "cell_type": "code",
      "execution_count": 3,
      "metadata": {
        "id": "mWFsUjctZ8tX"
      },
      "outputs": [],
      "source": [
        "import tensorflow as tf\n",
        "from tensorflow import keras\n",
        "import numpy as np\n",
        "\n",
        "tf.__version__\n",
        "mnist = tf.keras.datasets.mnist\n",
        "(x_train, y_train), (x_test, y_test) = mnist.load_data()"
      ]
    },
    {
      "cell_type": "markdown",
      "metadata": {
        "id": "b2lBpBM4Z8tY"
      },
      "source": [
        "# Anàlsis de dades"
      ]
    },
    {
      "cell_type": "code",
      "execution_count": 4,
      "metadata": {
        "colab": {
          "base_uri": "https://localhost:8080/"
        },
        "id": "NmLA0ZASZ8tZ",
        "outputId": "88003cd6-d3a5-40b2-b9ba-22c5d2951b27"
      },
      "outputs": [
        {
          "output_type": "stream",
          "name": "stdout",
          "text": [
            "(60000, 28, 28)\n",
            "uint8\n",
            "[[  0   0   0   0   0   0   0   0   0   0   0   0   0   0   0   0   0   0\n",
            "    0   0   0   0   0   0   0   0   0   0]\n",
            " [  0   0   0   0   0   0   0   0   0   0   0   0   0   0   0   0   0   0\n",
            "    0   0   0   0   0   0   0   0   0   0]\n",
            " [  0   0   0   0   0   0   0   0   0   0   0   0   0   0   0   0   0   0\n",
            "    0   0   0   0   0   0   0   0   0   0]\n",
            " [  0   0   0   0   0   0   0   0   0   0   0   0   0   0   0   0   0   0\n",
            "    0   0   0   0   0   0   0   0   0   0]\n",
            " [  0   0   0   0   0   0   0   0   0   0   8  76 202 254 255 163  37   2\n",
            "    0   0   0   0   0   0   0   0   0   0]\n",
            " [  0   0   0   0   0   0   0   0   0  13 182 253 253 253 253 253 253  23\n",
            "    0   0   0   0   0   0   0   0   0   0]\n",
            " [  0   0   0   0   0   0   0   0  15 179 253 253 212  91 218 253 253 179\n",
            "  109   0   0   0   0   0   0   0   0   0]\n",
            " [  0   0   0   0   0   0   0   0 105 253 253 160  35 156 253 253 253 253\n",
            "  250 113   0   0   0   0   0   0   0   0]\n",
            " [  0   0   0   0   0   0   0  19 212 253 253  88 121 253 233 128  91 245\n",
            "  253 248 114   0   0   0   0   0   0   0]\n",
            " [  0   0   0   0   0   0   0 104 253 253 110   2 142 253  90   0   0  26\n",
            "  199 253 248  63   0   0   0   0   0   0]\n",
            " [  0   0   0   0   0   0   1 173 253 253  29   0  84 228  39   0   0   0\n",
            "   72 251 253 215  29   0   0   0   0   0]\n",
            " [  0   0   0   0   0   0  36 253 253 203  13   0   0   0   0   0   0   0\n",
            "    0  82 253 253 170   0   0   0   0   0]\n",
            " [  0   0   0   0   0   0  36 253 253 164   0   0   0   0   0   0   0   0\n",
            "    0  11 198 253 184   6   0   0   0   0]\n",
            " [  0   0   0   0   0   0  36 253 253  82   0   0   0   0   0   0   0   0\n",
            "    0   0 138 253 253  35   0   0   0   0]\n",
            " [  0   0   0   0   0   0 128 253 253  47   0   0   0   0   0   0   0   0\n",
            "    0   0  48 253 253  35   0   0   0   0]\n",
            " [  0   0   0   0   0   0 154 253 253  47   0   0   0   0   0   0   0   0\n",
            "    0   0  48 253 253  35   0   0   0   0]\n",
            " [  0   0   0   0   0   0 102 253 253  99   0   0   0   0   0   0   0   0\n",
            "    0   0  48 253 253  35   0   0   0   0]\n",
            " [  0   0   0   0   0   0  36 253 253 164   0   0   0   0   0   0   0   0\n",
            "    0  16 208 253 211  17   0   0   0   0]\n",
            " [  0   0   0   0   0   0  32 244 253 175   4   0   0   0   0   0   0   0\n",
            "    0  44 253 253 156   0   0   0   0   0]\n",
            " [  0   0   0   0   0   0   0 171 253 253  29   0   0   0   0   0   0   0\n",
            "   30 217 253 188  19   0   0   0   0   0]\n",
            " [  0   0   0   0   0   0   0 171 253 253  59   0   0   0   0   0   0  60\n",
            "  217 253 253  70   0   0   0   0   0   0]\n",
            " [  0   0   0   0   0   0   0  78 253 253 231  48   0   0   0  26 128 249\n",
            "  253 244  94  15   0   0   0   0   0   0]\n",
            " [  0   0   0   0   0   0   0   8 151 253 253 234 101 121 219 229 253 253\n",
            "  201  80   0   0   0   0   0   0   0   0]\n",
            " [  0   0   0   0   0   0   0   0  38 232 253 253 253 253 253 253 253 201\n",
            "   66   0   0   0   0   0   0   0   0   0]\n",
            " [  0   0   0   0   0   0   0   0   0   0   0   0   0   0   0   0   0   0\n",
            "    0   0   0   0   0   0   0   0   0   0]\n",
            " [  0   0   0   0   0   0   0   0   0   0   0   0   0   0   0   0   0   0\n",
            "    0   0   0   0   0   0   0   0   0   0]\n",
            " [  0   0   0   0   0   0   0   0   0   0   0   0   0   0   0   0   0   0\n",
            "    0   0   0   0   0   0   0   0   0   0]\n",
            " [  0   0   0   0   0   0   0   0   0   0   0   0   0   0   0   0   0   0\n",
            "    0   0   0   0   0   0   0   0   0   0]]\n"
          ]
        }
      ],
      "source": [
        "# Revisem la forma i tipus de dades\n",
        "print(x_train.shape)\n",
        "print(x_train.dtype)\n",
        "print(x_train[88])"
      ]
    },
    {
      "cell_type": "code",
      "execution_count": 5,
      "metadata": {
        "colab": {
          "base_uri": "https://localhost:8080/",
          "height": 282
        },
        "id": "fmIOHYksZ8ta",
        "outputId": "b8625de0-aef9-4ec3-aab7-416aa23355f1"
      },
      "outputs": [
        {
          "output_type": "execute_result",
          "data": {
            "text/plain": [
              "<matplotlib.image.AxesImage at 0x7f1166c649d0>"
            ]
          },
          "metadata": {},
          "execution_count": 5
        },
        {
          "output_type": "display_data",
          "data": {
            "text/plain": [
              "<Figure size 432x288 with 1 Axes>"
            ],
            "image/png": "[encoded data removed]"
          },
          "metadata": {
            "needs_background": "light"
          }
        }
      ],
      "source": [
        "#Visualitzem la imatge\n",
        "import matplotlib.pyplot as plt\n",
        "plt.imshow(x_train[88], cmap=plt.cm.binary)"
      ]
    },
    {
      "cell_type": "markdown",
      "metadata": {
        "id": "QMUcNnJVZ8ta"
      },
      "source": [
        "# Pre-processament de les dades"
      ]
    },
    {
      "cell_type": "code",
      "execution_count": 6,
      "metadata": {
        "id": "WoIOWDmAZ8tb"
      },
      "outputs": [],
      "source": [
        "# Primer convertirem del tipus uint8 a float32 oer tenir representació decimal\n",
        "x_train = x_train.astype(np.float32)\n",
        "x_test = x_test.astype(np.float32)\n",
        "# Normalizar\n",
        "x_train = x_train / 255\n",
        "x_test = x_test / 255"
      ]
    },
    {
      "cell_type": "code",
      "execution_count": 7,
      "metadata": {
        "colab": {
          "base_uri": "https://localhost:8080/"
        },
        "id": "pkHvwiUoZ8tb",
        "outputId": "93a648ff-c4de-4fc8-b8c7-12c744747725"
      },
      "outputs": [
        {
          "output_type": "stream",
          "name": "stdout",
          "text": [
            "(60000, 784)\n",
            "(10000, 784)\n"
          ]
        }
      ],
      "source": [
        "# conversio de la matriu 28 x 28 a vector unidimensional de 784\n",
        "x_train = x_train.reshape(60000, 784)\n",
        "x_test = x_test.reshape(10000, 784)\n",
        "# comprova el resultat\n",
        "print(x_train.shape)\n",
        "print(x_test.shape)"
      ]
    },
    {
      "cell_type": "code",
      "execution_count": 8,
      "metadata": {
        "colab": {
          "base_uri": "https://localhost:8080/"
        },
        "id": "iCPMw95oZ8tb",
        "outputId": "cf0a3cad-e1fb-43fe-9a11-0646fc8e8433"
      },
      "outputs": [
        {
          "output_type": "stream",
          "name": "stdout",
          "text": [
            "[1. 0. 0. 0. 0. 0. 0. 0. 0. 0.]\n"
          ]
        }
      ],
      "source": [
        "# Transformem la sortida a un vector bolea de mida 10\n",
        "from tensorflow.keras.utils import to_categorical\n",
        "\n",
        "y_train = to_categorical(y_train, num_classes=10)\n",
        "y_test = to_categorical(y_test, num_classes=10)\n",
        "# Comprovem el resultat\n",
        "print(y_train[88])"
      ]
    },
    {
      "cell_type": "markdown",
      "metadata": {
        "id": "GHnWU2UTZ8tc"
      },
      "source": [
        "# Crear xarxa neuronal"
      ]
    },
    {
      "cell_type": "code",
      "execution_count": 20,
      "metadata": {
        "colab": {
          "base_uri": "https://localhost:8080/"
        },
        "id": "gfvFtBLzZ8tc",
        "outputId": "a8605047-fdf9-496d-fdf2-9ab2ae45510b"
      },
      "outputs": [
        {
          "output_type": "stream",
          "name": "stdout",
          "text": [
            "Model: \"sequential_1\"\n",
            "_________________________________________________________________\n",
            " Layer (type)                Output Shape              Param #   \n",
            "=================================================================\n",
            " dense_2 (Dense)             (None, 10)                7850      \n",
            "                                                                 \n",
            " dense_3 (Dense)             (None, 10)                110       \n",
            "                                                                 \n",
            "=================================================================\n",
            "Total params: 7,960\n",
            "Trainable params: 7,960\n",
            "Non-trainable params: 0\n",
            "_________________________________________________________________\n"
          ]
        }
      ],
      "source": [
        "# Importem les llibreries necessaries\n",
        "from keras.models import Sequential\n",
        "from keras.layers import Dense\n",
        "\n",
        "# Definim el tipus de xarxa neuronal\n",
        "model = Sequential()\n",
        "\n",
        "# Afegim una capa de 10 neurones amb 784 entrades i funció d'activació simoidea\n",
        "model.add(Dense(10, activation='sigmoid', input_shape=(784,)))\n",
        "\n",
        "# Afegim una capa de sortida de 10 neurones amb la funció d'activació softmax\n",
        "model.add(Dense(10, activation='softmax'))\n",
        "\n",
        "# Visualitzem l'estructura de la xarxa neuronal\n",
        "model.summary()"
      ]
    },
    {
      "cell_type": "markdown",
      "metadata": {
        "id": "fSH7-_r3Z8tc"
      },
      "source": [
        "# Procés d'entrenament"
      ]
    },
    {
      "cell_type": "code",
      "execution_count": 25,
      "metadata": {
        "colab": {
          "base_uri": "https://localhost:8080/"
        },
        "id": "WH6Ew1RgZ8td",
        "outputId": "f7b26dff-a578-435b-93db-8df0a572d96f"
      },
      "outputs": [
        {
          "output_type": "stream",
          "name": "stdout",
          "text": [
            "Epoch 1/10\n",
            "1875/1875 [==============================] - 7s 3ms/step - loss: 0.6154 - accuracy: 0.8585\n",
            "Epoch 2/10\n",
            "1875/1875 [==============================] - 4s 2ms/step - loss: 0.5588 - accuracy: 0.8677\n",
            "Epoch 3/10\n",
            "1875/1875 [==============================] - 4s 2ms/step - loss: 0.5172 - accuracy: 0.8736\n",
            "Epoch 4/10\n",
            "1875/1875 [==============================] - 4s 2ms/step - loss: 0.4855 - accuracy: 0.8789\n",
            "Epoch 5/10\n",
            "1875/1875 [==============================] - 4s 2ms/step - loss: 0.4605 - accuracy: 0.8843\n",
            "Epoch 6/10\n",
            "1875/1875 [==============================] - 4s 2ms/step - loss: 0.4403 - accuracy: 0.8874\n",
            "Epoch 7/10\n",
            "1875/1875 [==============================] - 5s 2ms/step - loss: 0.4235 - accuracy: 0.8903\n",
            "Epoch 8/10\n",
            "1875/1875 [==============================] - 5s 3ms/step - loss: 0.4095 - accuracy: 0.8927\n",
            "Epoch 9/10\n",
            "1875/1875 [==============================] - 4s 2ms/step - loss: 0.3974 - accuracy: 0.8956\n",
            "Epoch 10/10\n",
            "1875/1875 [==============================] - 4s 2ms/step - loss: 0.3870 - accuracy: 0.8977\n"
          ]
        },
        {
          "output_type": "execute_result",
          "data": {
            "text/plain": [
              "<keras.callbacks.History at 0x7f115dc11490>"
            ]
          },
          "metadata": {},
          "execution_count": 25
        }
      ],
      "source": [
        "# Configuració del procés d'entrenament\n",
        "model.compile(loss='categorical_crossentropy', optimizer='sgd', metrics=['accuracy'])\n",
        "\n",
        "# Inici d'entrenament\n",
        "model.fit(x_train, y_train, epochs=10)"
      ]
    },
    {
      "cell_type": "code",
      "execution_count": 27,
      "metadata": {
        "colab": {
          "base_uri": "https://localhost:8080/"
        },
        "id": "hrERoolqZ8td",
        "outputId": "6a956938-862c-4ffd-c808-c92867fbc8ea"
      },
      "outputs": [
        {
          "output_type": "stream",
          "name": "stdout",
          "text": [
            "313/313 [==============================] - 1s 2ms/step - loss: 0.3731 - accuracy: 0.9001\n",
            "loss: 0.37307366728782654\n",
            "accuracy: 0.9000999927520752\n"
          ]
        }
      ],
      "source": [
        "test_loss, test_acc = model.evaluate(x_test, y_test)\n",
        "print('loss:',test_loss)\n",
        "print('accuracy:', test_acc)"
      ]
    },
    {
      "cell_type": "code",
      "execution_count": 26,
      "metadata": {
        "colab": {
          "base_uri": "https://localhost:8080/"
        },
        "id": "7e1Lek2VZ8td",
        "outputId": "95e65028-2e39-4b7f-e71b-e781e3a6b46b"
      },
      "outputs": [
        {
          "output_type": "stream",
          "name": "stdout",
          "text": [
            "1/1 [==============================] - 0s 49ms/step\n",
            "[[5.4063690e-03 1.3011791e-03 1.2610538e-03 3.8177783e-03 2.9632915e-04\n",
            "  1.8901734e-03 5.7678018e-05 9.4510031e-01 2.3185054e-03 3.8550727e-02]]\n",
            "Prediccio:  7\n",
            "Resposta:  7\n"
          ]
        }
      ],
      "source": [
        "prediccio = model.predict(np.array([x_test[0]]))\n",
        "\n",
        "print(prediccio)\n",
        "print('Prediccio: ', np.argmax(prediccio))\n",
        "print('Resposta: ', np.argmax(y_test[0]))"
      ]
    },
    {
      "cell_type": "code",
      "source": [
        "plt.imshow(x_test[0].reshape(28,28), cmap=plt.cm.binary)"
      ],
      "metadata": {
        "colab": {
          "base_uri": "https://localhost:8080/",
          "height": 282
        },
        "id": "UP3fFmMnavqr",
        "outputId": "ec5e4fa7-87ad-4fe0-81fd-717a9b7140ea"
      },
      "execution_count": 24,
      "outputs": [
        {
          "output_type": "execute_result",
          "data": {
            "text/plain": [
              "<matplotlib.image.AxesImage at 0x7f115db18a50>"
            ]
          },
          "metadata": {},
          "execution_count": 24
        },
        {
          "output_type": "display_data",
          "data": {
            "text/plain": [
              "<Figure size 432x288 with 1 Axes>"
            ],
            "image/png": "[encoded data removed]"
          },
          "metadata": {
            "needs_background": "light"
          }
        }
      ]
    }
  ],
  "metadata": {
    "kernelspec": {
      "display_name": "Python 3.9.13 ('base')",
      "language": "python",
      "name": "python3"
    },
    "language_info": {
      "codemirror_mode": {
        "name": "ipython",
        "version": 3
      },
      "file_extension": ".py",
      "mimetype": "text/x-python",
      "name": "python",
      "nbconvert_exporter": "python",
      "pygments_lexer": "ipython3",
      "version": "3.9.13"
    },
    "vscode": {
      "interpreter": {
        "hash": "48ed48f5542fe07e8f725768fb6d295eb9c66c05001f1d4e389bf0879d8b38cd"
      }
    },
    "colab": {
      "provenance": []
    }
  },
  "nbformat": 4,
  "nbformat_minor": 0
}