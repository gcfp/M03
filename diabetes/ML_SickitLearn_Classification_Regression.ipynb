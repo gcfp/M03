{
  "cells": [
    {
      "cell_type": "markdown",
      "metadata": {
        "id": "7gui7yakGQxA"
      },
      "source": [
        "# Classifcation Model"
      ]
    },
    {
      "cell_type": "markdown",
      "metadata": {
        "id": "5TJrNizJGl6I"
      },
      "source": [
        "## KNN Vecinos Cercanos"
      ]
    },
    {
      "cell_type": "markdown",
      "metadata": {
        "id": "5dvGuWA5G3s4"
      },
      "source": [
        "![image.png](data:image/png;base64,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)"
      ]
    },
    {
      "cell_type": "markdown",
      "metadata": {
        "id": "8x5oKAkLJWwI"
      },
      "source": [
        "## Ejemplo"
      ]
    },
    {
      "cell_type": "code",
      "execution_count": 126,
      "metadata": {
        "id": "RXK4_rD5GKLW"
      },
      "outputs": [
        {
          "data": {
            "text/plain": [
              "(768, 9)"
            ]
          },
          "execution_count": 126,
          "metadata": {},
          "output_type": "execute_result"
        }
      ],
      "source": [
        "import pandas as pd\n",
        "\n",
        "# leemos dataset\n",
        "\n",
        "df_diabetes = pd.read_csv('diabetes_clean.csv')\n",
        "\n",
        "df_diabetes.head()\n",
        "\n",
        "df_diabetes.shape"
      ]
    },
    {
      "cell_type": "code",
      "execution_count": 127,
      "metadata": {},
      "outputs": [
        {
          "data": {
            "text/plain": [
              "0    1\n",
              "1    0\n",
              "2    1\n",
              "3    0\n",
              "4    1\n",
              "Name: diabetes, dtype: int64"
            ]
          },
          "execution_count": 127,
          "metadata": {},
          "output_type": "execute_result"
        }
      ],
      "source": [
        "# Antes de dividir dataset en entrenamiento y test, tengo que quitar la columna a predecir\n",
        "\n",
        "X = df_diabetes.drop(columns=['diabetes'])\n",
        "\n",
        "# Vemos que X es el dataset original sin la columna a predecir\n",
        "X.head()\n",
        "\n",
        "# Me guardo en un array los valores a predecir\n",
        "\n",
        "y = df_diabetes['diabetes']\n",
        "\n",
        "y.head()"
      ]
    },
    {
      "cell_type": "code",
      "execution_count": 128,
      "metadata": {},
      "outputs": [],
      "source": [
        "# Separamos entre entrenamiento y test\n",
        "\n",
        "from sklearn.model_selection import train_test_split\n",
        "\n",
        "# Separamos dataset\n",
        "\n",
        "X_train, X_test, y_train, y_test = train_test_split(X, y, test_size=0.2, random_state=42, stratify=y)"
      ]
    },
    {
      "cell_type": "code",
      "execution_count": 129,
      "metadata": {},
      "outputs": [
        {
          "data": {
            "text/plain": [
              "KNeighborsClassifier(n_neighbors=3)"
            ]
          },
          "execution_count": 129,
          "metadata": {},
          "output_type": "execute_result"
        }
      ],
      "source": [
        "# Entrenamos Modelo\n",
        "\n",
        "from sklearn.neighbors import KNeighborsClassifier\n",
        "\n",
        "# Creamos KNN\n",
        "\n",
        "knn = KNeighborsClassifier(n_neighbors=3)\n",
        "\n",
        "# Entrenamos modelo\n",
        "\n",
        "knn.fit(X_train, y_train)"
      ]
    },
    {
      "cell_type": "code",
      "execution_count": 130,
      "metadata": {},
      "outputs": [
        {
          "name": "stderr",
          "output_type": "stream",
          "text": [
            "c:\\Users\\informatica\\anaconda3\\lib\\site-packages\\sklearn\\base.py:493: FutureWarning: The feature names should match those that were passed during fit. Starting version 1.2, an error will be raised.\n",
            "Feature names unseen at fit time:\n",
            "- dialostic\n",
            "Feature names seen at fit time, yet now missing:\n",
            "- diastolic\n",
            "\n",
            "  warnings.warn(message, FutureWarning)\n"
          ]
        },
        {
          "data": {
            "text/plain": [
              "array([0], dtype=int64)"
            ]
          },
          "execution_count": 130,
          "metadata": {},
          "output_type": "execute_result"
        }
      ],
      "source": [
        "# Testeamos modelo\n",
        "\n",
        "res = knn.predict(X_test)\n",
        "\n",
        "# Nos llega un paciente\n",
        "\n",
        "data_predict = pd.DataFrame([{'pregnancies': 2, 'glucose': 148, 'dialostic': 76, 'triceps': 30, 'insulin': 70, 'bmi': 30, 'dpf': 0.5, 'age': 45}])\n",
        "\n",
        "knn.predict(data_predict)"
      ]
    },
    {
      "cell_type": "code",
      "execution_count": 131,
      "metadata": {},
      "outputs": [
        {
          "data": {
            "text/plain": [
              "0.6948051948051948"
            ]
          },
          "execution_count": 131,
          "metadata": {},
          "output_type": "execute_result"
        }
      ],
      "source": [
        "# Miramos calidad del modelo\n",
        "\n",
        "knn.score(X_test, y_test)"
      ]
    },
    {
      "cell_type": "code",
      "execution_count": 132,
      "metadata": {},
      "outputs": [
        {
          "name": "stdout",
          "output_type": "stream",
          "text": [
            "0.7135557253204311\n"
          ]
        }
      ],
      "source": [
        "# Comprobamos la calidad real del modelo haciendo cross validation\n",
        "\n",
        "from sklearn.model_selection import cross_val_score\n",
        "import numpy as np\n",
        "\n",
        "# Hacemos lo que equivaldria a un train split 5 veces\n",
        "\n",
        "cv_scores = cross_val_score(knn, X, y, cv=5)\n",
        "\n",
        "# Miramos los resultados\n",
        "\n",
        "print(np.mean(cv_scores))"
      ]
    },
    {
      "cell_type": "code",
      "execution_count": 133,
      "metadata": {},
      "outputs": [
        {
          "name": "stdout",
          "output_type": "stream",
          "text": [
            "0.7357185298361768\n"
          ]
        }
      ],
      "source": [
        "# Miramos para otro numero de n_neighbors\n",
        "\n",
        "# Creamos KNN\n",
        "\n",
        "knn = KNeighborsClassifier(n_neighbors=7)\n",
        "\n",
        "# Entrenamos modelo\n",
        "\n",
        "knn.fit(X_train, y_train)\n",
        "\n",
        "# Hacemos lo que equivaldria a un train split 5 veces\n",
        "\n",
        "cv_scores = cross_val_score(knn, X, y, cv=5)\n",
        "\n",
        "print(np.mean(cv_scores))"
      ]
    },
    {
      "cell_type": "code",
      "execution_count": 134,
      "metadata": {},
      "outputs": [
        {
          "data": {
            "text/plain": [
              "GridSearchCV(cv=5, estimator=KNeighborsClassifier(),\n",
              "             param_grid={'n_neighbors': array([ 1,  2,  3,  4,  5,  6,  7,  8,  9, 10, 11, 12, 13, 14, 15, 16, 17,\n",
              "       18, 19, 20, 21, 22, 23, 24, 25, 26, 27, 28, 29, 30, 31, 32, 33, 34,\n",
              "       35, 36, 37, 38, 39, 40, 41, 42, 43, 44, 45, 46, 47, 48, 49])})"
            ]
          },
          "execution_count": 134,
          "metadata": {},
          "output_type": "execute_result"
        }
      ],
      "source": [
        "from sklearn.model_selection import GridSearchCV\n",
        "\n",
        "# Creamos modelo\n",
        "\n",
        "knn_opt = KNeighborsClassifier()\n",
        "\n",
        "# Creamos diccionario con los parametros a probar\n",
        "\n",
        "param = {'n_neighbors': np.arange(1, 50)}\n",
        "\n",
        "# Creamos GridSearch\n",
        "\n",
        "knn_gscv = GridSearchCV(knn_opt, param, cv=5)\n",
        "\n",
        "# Entrenamos modelo\n",
        "\n",
        "knn_gscv.fit(X, y)"
      ]
    },
    {
      "cell_type": "code",
      "execution_count": 135,
      "metadata": {},
      "outputs": [
        {
          "data": {
            "text/plain": [
              "{'n_neighbors': 14}"
            ]
          },
          "execution_count": 135,
          "metadata": {},
          "output_type": "execute_result"
        }
      ],
      "source": [
        "# Dame la cantidad optima de vecinos\n",
        "\n",
        "knn_gscv.best_params_"
      ]
    },
    {
      "cell_type": "code",
      "execution_count": 136,
      "metadata": {},
      "outputs": [
        {
          "data": {
            "text/plain": [
              "0.7578558696205755"
            ]
          },
          "execution_count": 136,
          "metadata": {},
          "output_type": "execute_result"
        }
      ],
      "source": [
        "# Dame la accuracy con 14\n",
        "\n",
        "knn_gscv.best_score_"
      ]
    },
    {
      "cell_type": "markdown",
      "metadata": {
        "id": "K9hFLULTJVzO"
      },
      "source": [
        "### Ejercicio"
      ]
    },
    {
      "cell_type": "markdown",
      "metadata": {
        "id": "EUz5K5dQJfaw"
      },
      "source": [
        "En este ejercicio, construiremos un modelo de clasificación utilizando el conjunto de datos telecom_churn.\n",
        "\n",
        "Utilizando el método KNN queremos clasificar si una cliente se va a dara de bajar a partir de su  'account_length' y de su 'customer_service_calls'.\n",
        "\n",
        "Obtén las predicciones de tu modelo.\n"
      ]
    },
    {
      "cell_type": "code",
      "execution_count": 137,
      "metadata": {
        "id": "648YgJlmJcVL"
      },
      "outputs": [
        {
          "name": "stdout",
          "output_type": "stream",
          "text": [
            "0.8500749625187406\n",
            "0.8598876237556897\n"
          ]
        }
      ],
      "source": [
        "# Importamos dataset telecom_churn_clean.csv teniendo el cuenta que la primera columna es el indice\n",
        "\n",
        "telecom_churn_df = pd.read_csv('telecom_churn_clean.csv', index_col=0)\n",
        "\n",
        "telecom_churn_df.head()\n",
        "\n",
        "# Antes de dividir dataset en entrenamiento y test, tengo que quitar la columna a predecir\n",
        "\n",
        "X = telecom_churn_df.drop(columns=['churn'])\n",
        "\n",
        "# Vemos que X es el dataset original sin la columna a predecir\n",
        "X.head()\n",
        "\n",
        "# Me guardo en un array los valores a predecir\n",
        "\n",
        "y = telecom_churn_df['churn']\n",
        "\n",
        "y.head()\n",
        "\n",
        "# Separamos dataset\n",
        "\n",
        "X_train, X_test, y_train, y_test = train_test_split(X, y, test_size=0.2, random_state=42, stratify=y)\n",
        "\n",
        "# Creamos KNN\n",
        "\n",
        "knn = KNeighborsClassifier(n_neighbors=3)\n",
        "\n",
        "# Entrenamos modelo\n",
        "\n",
        "knn.fit(X_train, y_train)\n",
        "\n",
        "# Testeamos modelo\n",
        "\n",
        "res = knn.predict(X_test)\n",
        "\n",
        "# Miramos calidad del modelo\n",
        "\n",
        "print(knn.score(X_test, y_test))\n",
        "\n",
        "# Hacemos lo que equivaldria a un train split 5 veces\n",
        "\n",
        "cv_scores = cross_val_score(knn, X, y, cv=5)\n",
        "\n",
        "# Miramos los resultados\n",
        "\n",
        "print(np.mean(cv_scores))"
      ]
    },
    {
      "cell_type": "markdown",
      "metadata": {
        "id": "kXDG9huuKdmY"
      },
      "source": [
        "Mediante Cross validation, indica la accuracy de tu modelo. Prueba para n_neighbors de 4 a 11. Muestra las acuracys en un gràfico"
      ]
    },
    {
      "cell_type": "code",
      "execution_count": 138,
      "metadata": {
        "id": "5uK12vXlKdIA"
      },
      "outputs": [
        {
          "name": "stdout",
          "output_type": "stream",
          "text": [
            "0.8757891324607966\n",
            "0.8730877804341072\n",
            "0.8763879321600461\n",
            "0.8739864302083193\n",
            "0.8745874810342575\n",
            "0.8775873324598962\n",
            "0.8766877822350088\n",
            "0.8796885341113226\n"
          ]
        },
        {
          "data": {
            "image/png": "[encoded data removed]",
            "text/plain": [
              "<Figure size 640x480 with 1 Axes>"
            ]
          },
          "metadata": {},
          "output_type": "display_data"
        }
      ],
      "source": [
        "# Mediante Cross validation, indica la accuracy de tu modelo. Prueba para n_neighbors de 4 a 11. Muestra las acuracys en un gràfico\n",
        "\n",
        "# Creamos el grafico\n",
        "\n",
        "import matplotlib.pyplot as plt\n",
        "\n",
        "# Creamos un bucle para probar con diferentes n_neighbors\n",
        "for i in range(4, 12):\n",
        "    \n",
        "        # Creamos KNN\n",
        "    \n",
        "        knn = KNeighborsClassifier(n_neighbors=i)\n",
        "    \n",
        "        # Hacemos lo que equivaldria a un train split 5 veces\n",
        "    \n",
        "        cv_scores = cross_val_score(knn, X, y, cv=5)\n",
        "    \n",
        "        # Miramos los resultados\n",
        "    \n",
        "        print(np.mean(cv_scores))\n",
        "\n",
        "        # Creamos el grafico\n",
        "        plt.plot(i, np.mean(cv_scores), 'ro')\n",
        "\n",
        "# Mostramos el grafico\n",
        "plt.xlabel('n_neighbors')\n",
        "plt.ylabel('Accuracy')\n",
        "plt.title('Accuracy vs n_neighbors')\n",
        "plt.show()"
      ]
    },
    {
      "cell_type": "markdown",
      "metadata": {
        "id": "tVR-Mqk9LJsH"
      },
      "source": [
        "Mediante GridSearchCV obtén el n_neighbors óptimo e indica su accuracy. Vuelve a generar el modelo y predice si un cliente con: account_length = 103 y customer_service_calls = 25 se darà de baja."
      ]
    },
    {
      "cell_type": "code",
      "execution_count": 139,
      "metadata": {
        "id": "H-eNT48_NoiT"
      },
      "outputs": [
        {
          "name": "stdout",
          "output_type": "stream",
          "text": [
            "Mejor cantidad de vecinos: {'n_neighbors': 11} Mejor accuracy: 0.8796885341113226\n",
            "El cliente se queda\n"
          ]
        }
      ],
      "source": [
        "# Creamos modelo\n",
        "\n",
        "knn_opt = KNeighborsClassifier()\n",
        "\n",
        "# Creamos diccionario con los parametros a probar\n",
        "\n",
        "param = {'n_neighbors': np.arange(1, 50)}\n",
        "\n",
        "# Creamos GridSearch\n",
        "\n",
        "knn_gscv = GridSearchCV(knn_opt, param, cv=5)\n",
        "\n",
        "# Entrenamos modelo\n",
        "\n",
        "knn_gscv.fit(X, y)\n",
        "\n",
        "# Dame la cantidad optima de vecinos y su mejor accuracy\n",
        "\n",
        "print('Mejor cantidad de vecinos:',knn_gscv.best_params_, 'Mejor accuracy:', knn_gscv.best_score_)\n",
        "\n",
        "# Creamos KNN\n",
        "\n",
        "knn = KNeighborsClassifier(n_neighbors=11)\n",
        "\n",
        "# Entrenamos modelo\n",
        "\n",
        "knn.fit(X_train, y_train)\n",
        "\n",
        "# Nos llega un cliente\n",
        "data_predict = pd.DataFrame([{'account_length': 103, 'area_code': 415, 'international_plan': 0, 'voice_mail_plan': 0, 'number_vmail_messages': 0, 'total_day_minutes': 156.6, 'total_day_calls': 71, 'total_day_charge': 26.62, 'total_eve_minutes': 188.5, 'total_eve_calls': 94, 'total_eve_charge': 16.05, 'total_night_minutes': 215.8, 'total_night_calls': 90, 'total_night_charge': 9.72, 'total_intl_minutes': 10.1, 'total_intl_calls': 3, 'total_intl_charge': 2.73, 'customer_service_calls': 25}])\n",
        "\n",
        "res = knn.predict(data_predict)\n",
        "\n",
        "if res.item() == 1:\n",
        "    print('El cliente se va a ir')\n",
        "else:\n",
        "    print('El cliente se queda')"
      ]
    },
    {
      "cell_type": "markdown",
      "metadata": {
        "id": "3S7v8tZpNovh"
      },
      "source": [
        "## Linear regression SickitLearn"
      ]
    },
    {
      "cell_type": "markdown",
      "metadata": {
        "id": "4NlqK8JVNrcy"
      },
      "source": [
        "A partir del dataset sales df, entrena tu modelo para predecir las ventas a partir de la inversión en los diferentes medios.\n",
        "\n",
        "PD: Deberás hacer split en train/test.\n",
        "\n",
        "Indica la accuracy de tu modelo"
      ]
    },
    {
      "cell_type": "code",
      "execution_count": 156,
      "metadata": {
        "id": "uQCv5C7qQE2H"
      },
      "outputs": [
        {
          "name": "stdout",
          "output_type": "stream",
          "text": [
            "1.0\n"
          ]
        }
      ],
      "source": [
        "import pandas as pd\n",
        "from sklearn.linear_model import LinearRegression\n",
        "from sklearn.model_selection import train_test_split\n",
        "from sklearn.metrics import r2_score\n",
        "\n",
        "sales_df = pd.read_csv('advertising_and_sales_clean.csv')\n",
        "\n",
        "X = sales_df.drop('sales', axis=1)\n",
        "X = sales_df.drop('influencer', axis=1)\n",
        "y = sales_df['sales']\n",
        "\n",
        "X_train, X_test, y_train, y_test = train_test_split(X, y, test_size=0.2, random_state=42)\n",
        "\n",
        "# Creamos modelo\n",
        "\n",
        "model = LinearRegression()\n",
        "\n",
        "# Entrenamos modelo\n",
        "\n",
        "model.fit(X_train, y_train)\n",
        "\n",
        "# Testeamos modelo\n",
        "\n",
        "res = model.predict(X_test)\n",
        "\n",
        "# Miramos calidad del modelo\n",
        "\n",
        "print(r2_score(y_test, res))"
      ]
    },
    {
      "cell_type": "markdown",
      "metadata": {
        "id": "VXWi_7rAQFpK"
      },
      "source": [
        "Mediante cross validation obtén el valor de tu modelo.\n",
        "Al ser una regressión el método cross_val_score te da el Rsquared."
      ]
    },
    {
      "cell_type": "code",
      "execution_count": 157,
      "metadata": {
        "id": "iedrZzqiQVxH"
      },
      "outputs": [
        {
          "name": "stdout",
          "output_type": "stream",
          "text": [
            "-4.3684594379463185e-21\n"
          ]
        }
      ],
      "source": [
        "#Mediante cross validation obtén el valor de tu modelo.\n",
        "#Al ser una regressión el método cross_val_score te da el Rsquared.\n",
        "\n",
        "from sklearn.model_selection import cross_val_score\n",
        "\n",
        "# Creamos modelo\n",
        "\n",
        "model = LinearRegression()\n",
        "\n",
        "# Hacemos lo que equivaldria a un train split 5 veces\n",
        "\n",
        "cv_scores = cross_val_score(model, X, y, cv=5, scoring='neg_mean_squared_error')\n",
        "\n",
        "# Miramos los resultados\n",
        "\n",
        "print(np.mean(cv_scores))"
      ]
    }
  ],
  "metadata": {
    "colab": {
      "provenance": []
    },
    "kernelspec": {
      "display_name": "Python 3",
      "name": "python3"
    },
    "language_info": {
      "codemirror_mode": {
        "name": "ipython",
        "version": 3
      },
      "file_extension": ".py",
      "mimetype": "text/x-python",
      "name": "python",
      "nbconvert_exporter": "python",
      "pygments_lexer": "ipython3",
      "version": "3.9.13"
    }
  },
  "nbformat": 4,
  "nbformat_minor": 0
}
