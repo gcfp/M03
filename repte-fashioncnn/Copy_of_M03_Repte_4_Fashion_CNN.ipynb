{
  "nbformat": 4,
  "nbformat_minor": 0,
  "metadata": {
    "colab": {
      "provenance": []
    },
    "kernelspec": {
      "name": "python3",
      "display_name": "Python 3"
    },
    "language_info": {
      "name": "python"
    }
  },
  "cells": [
    {
      "cell_type": "markdown",
      "source": [
        "Nom 1: Guillem Calaf\n",
        "\n",
        "Nom 2: Guillem Duran"
      ],
      "metadata": {
        "id": "P9iqewdWEIxq"
      }
    },
    {
      "cell_type": "markdown",
      "source": [
        "# Repte 4: Fashion CNN"
      ],
      "metadata": {
        "id": "31QNYpMU6k4W"
      }
    },
    {
      "cell_type": "markdown",
      "source": [
        "## Enunciat\n",
        "\n",
        "En aquest repte classficarem les diferents peces de roba fent servir una **Xarxa Neuronal Convolucional**. "
      ],
      "metadata": {
        "id": "2UkgQ3eg6sNh"
      }
    },
    {
      "cell_type": "code",
      "execution_count": null,
      "metadata": {
        "id": "Y2LuZSRs6UFI"
      },
      "outputs": [],
      "source": [
        "# Descarrega i prepara les dades del dataset fashion_mnist. En aquest cas, no \n",
        "# transformarem la sortida del model a un vector de 0' i 1's, per tant, haurem \n",
        "# d'escollir bé la funció de pèrdua a l'hora de fer l'entrenament de la xarxa.\n"
      ]
    },
    {
      "cell_type": "code",
      "source": [
        "# Crea una Xarxa Neuronal amb 2 capes Convolucionals de 64 i 128 filtres, de\n",
        "# mides 7x7 i 3x3. A cada capa li aplicarem la operació MaxPooling 2x2. Afegeix\n",
        "# també una capa densa de 64 neurones abans de la capa de sortida. Experimenta\n",
        "# amb les diferents opcions de l'hiperparàmetre padding.\n"
      ],
      "metadata": {
        "id": "yiQoIl917qOO"
      },
      "execution_count": null,
      "outputs": []
    },
    {
      "cell_type": "code",
      "source": [
        "# Entrena el model i visualitza el resultat de l'evaluació amb les dades de validació\n"
      ],
      "metadata": {
        "id": "AEMr9fKk9Nip"
      },
      "execution_count": null,
      "outputs": []
    },
    {
      "cell_type": "markdown",
      "source": [
        "La capa **BatchNormalization** normalitza les entrades de la capa de manera que la mitja de la seva activació de sortida sigui 0 i la desviació estàndard 1.\n",
        "\n",
        "La capa **Dropout** ajuda a evitar els error per sobreentrenament (overfitting). Aquesta tècnica es basa en ignorar certs conjunts de neurones de manera aleatòria durant la fase d'entrenament."
      ],
      "metadata": {
        "id": "dbbKgK5T-rUQ"
      }
    },
    {
      "cell_type": "code",
      "source": [
        "# Crea i entrena una CNN amb 4 capes convolucionals de 32, 32, 64 i 128 filtres\n",
        "# i mida de 3x3. En comptes de la operació MaxPooling, aplicarem les capes\n",
        "# BatchNormalization i Dropout al 25% a cadascuna d'elles. Configurarem el padding\n",
        "# de manera que la sortida i l'entrada siguin de la mateixa mida.\n",
        "#\n",
        "# Per finalitzar la nostra xarxa, afegirem 2 capes denses de 512 i 128 neurones\n",
        "# amb les capes BatchNormalization i Dropout al 50% abans de la capa de sortida.\n"
      ],
      "metadata": {
        "id": "dyQkzhIs-fjR"
      },
      "execution_count": null,
      "outputs": []
    },
    {
      "cell_type": "markdown",
      "source": [
        "## Part opcional\n",
        "\n",
        "Experimenta amb diferents configuracions de xarxa modificant el número de capes, morfologia, hiperparàmetres, etc."
      ],
      "metadata": {
        "id": "9f0aagAMDYw5"
      }
    },
    {
      "cell_type": "code",
      "source": [],
      "metadata": {
        "id": "IyiNJDFXDpwn"
      },
      "execution_count": null,
      "outputs": []
    }
  ]
}