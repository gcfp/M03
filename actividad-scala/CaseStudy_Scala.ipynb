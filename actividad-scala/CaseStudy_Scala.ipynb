{
  "cells": [
    {
      "cell_type": "markdown",
      "id": "f5aa1e16-0799-4a71-8921-0cea85705cd6",
      "metadata": {
        "dc": {
          "key": "5"
        },
        "id": "f5aa1e16-0799-4a71-8921-0cea85705cd6",
        "run_control": {
          "frozen": true
        },
        "tags": [
          "context"
        ]
      },
      "source": [
        "## 1. Scala's real-world project repository data\n",
        "<p>With almost 30k commits and a history spanning over ten years, Scala is a mature programming language. It is a general-purpose programming language that has recently become another prominent language for data scientists.</p>\n",
        "<p>Scala is also an open source project. Open source projects have the advantage that their entire development histories -- who made changes, what was changed, code reviews, etc. -- are publicly available. </p>\n",
        "<p>We're going to read in, clean up, and visualize the real world project repository of Scala that spans data from a version control system (Git) as well as a project hosting site (GitHub). We will find out who has had the most influence on its development and who are the experts.</p>\n",
        "<p>The dataset we will use, which has been previously mined and extracted from GitHub, is comprised of three files:</p>\n",
        "<ol>\n",
        "<li><code>pulls_2011-2013.csv</code> contains the basic information about the pull requests, and spans from the end of 2011 up to (but not including) 2014.</li>\n",
        "<li><code>pulls_2014-2018.csv</code> contains identical information, and spans from 2014 up to 2018.</li>\n",
        "<li><code>pull_files.csv</code> contains the files that were modified by each pull request.</li>\n",
        "</ol>"
      ]
    },
    {
      "cell_type": "code",
      "execution_count": 1,
      "id": "zGkD_kxBO4rz",
      "metadata": {
        "colab": {
          "base_uri": "https://localhost:8080/",
          "height": 206
        },
        "id": "zGkD_kxBO4rz",
        "outputId": "5df72f4c-80e4-4467-ec2f-e32d72aff3f4"
      },
      "outputs": [
        {
          "data": {
            "text/html": [
              "<div>\n",
              "<style scoped>\n",
              "    .dataframe tbody tr th:only-of-type {\n",
              "        vertical-align: middle;\n",
              "    }\n",
              "\n",
              "    .dataframe tbody tr th {\n",
              "        vertical-align: top;\n",
              "    }\n",
              "\n",
              "    .dataframe thead th {\n",
              "        text-align: right;\n",
              "    }\n",
              "</style>\n",
              "<table border=\"1\" class=\"dataframe\">\n",
              "  <thead>\n",
              "    <tr style=\"text-align: right;\">\n",
              "      <th></th>\n",
              "      <th>pid</th>\n",
              "      <th>user</th>\n",
              "      <th>date</th>\n",
              "    </tr>\n",
              "  </thead>\n",
              "  <tbody>\n",
              "    <tr>\n",
              "      <th>0</th>\n",
              "      <td>11166973</td>\n",
              "      <td>VladimirNik</td>\n",
              "      <td>2013-12-31T23:10:55Z</td>\n",
              "    </tr>\n",
              "    <tr>\n",
              "      <th>1</th>\n",
              "      <td>11161892</td>\n",
              "      <td>Ichoran</td>\n",
              "      <td>2013-12-31T16:55:47Z</td>\n",
              "    </tr>\n",
              "    <tr>\n",
              "      <th>2</th>\n",
              "      <td>11153894</td>\n",
              "      <td>Ichoran</td>\n",
              "      <td>2013-12-31T02:41:13Z</td>\n",
              "    </tr>\n",
              "    <tr>\n",
              "      <th>3</th>\n",
              "      <td>11151917</td>\n",
              "      <td>rklaehn</td>\n",
              "      <td>2013-12-30T23:45:47Z</td>\n",
              "    </tr>\n",
              "    <tr>\n",
              "      <th>4</th>\n",
              "      <td>11131244</td>\n",
              "      <td>qerub</td>\n",
              "      <td>2013-12-29T17:21:01Z</td>\n",
              "    </tr>\n",
              "  </tbody>\n",
              "</table>\n",
              "</div>"
            ],
            "text/plain": [
              "        pid         user                  date\n",
              "0  11166973  VladimirNik  2013-12-31T23:10:55Z\n",
              "1  11161892      Ichoran  2013-12-31T16:55:47Z\n",
              "2  11153894      Ichoran  2013-12-31T02:41:13Z\n",
              "3  11151917      rklaehn  2013-12-30T23:45:47Z\n",
              "4  11131244        qerub  2013-12-29T17:21:01Z"
            ]
          },
          "execution_count": 1,
          "metadata": {},
          "output_type": "execute_result"
        }
      ],
      "source": [
        "#Importamos pandas\n",
        "import pandas as pd\n",
        "\n",
        "#Loading data\n",
        "pulls20112013 = pd.read_csv('pulls_2011-2013.csv')\n",
        "pulls20142018 = pd.read_csv('pulls_2014-2018.csv')\n",
        "pullsFiles = pd.read_csv('pull_files.csv')\n",
        "\n",
        "pulls20112013.head()\n"
      ]
    },
    {
      "cell_type": "code",
      "execution_count": 2,
      "id": "xhAK9IshPYSb",
      "metadata": {
        "colab": {
          "base_uri": "https://localhost:8080/"
        },
        "id": "xhAK9IshPYSb",
        "outputId": "994a41c0-f7b4-42e4-fe2c-3c102842feb1"
      },
      "outputs": [
        {
          "name": "stdout",
          "output_type": "stream",
          "text": [
            "<class 'pandas.core.frame.DataFrame'>\n",
            "RangeIndex: 3296 entries, 0 to 3295\n",
            "Data columns (total 3 columns):\n",
            " #   Column  Non-Null Count  Dtype \n",
            "---  ------  --------------  ----- \n",
            " 0   pid     3296 non-null   int64 \n",
            " 1   user    3296 non-null   object\n",
            " 2   date    3296 non-null   object\n",
            "dtypes: int64(1), object(2)\n",
            "memory usage: 77.4+ KB\n"
          ]
        }
      ],
      "source": [
        "pulls20112013.info()"
      ]
    },
    {
      "cell_type": "code",
      "execution_count": 3,
      "id": "B8g_TeHxQKNO",
      "metadata": {
        "colab": {
          "base_uri": "https://localhost:8080/"
        },
        "id": "B8g_TeHxQKNO",
        "outputId": "aff98102-aade-409b-af93-fd7a2bc11956"
      },
      "outputs": [
        {
          "data": {
            "text/plain": [
              "(2904, 3)"
            ]
          },
          "execution_count": 3,
          "metadata": {},
          "output_type": "execute_result"
        }
      ],
      "source": [
        "pulls20142018.shape"
      ]
    },
    {
      "cell_type": "markdown",
      "id": "6f3293e3-273e-4549-8b21-3a72cdabd34b",
      "metadata": {
        "dc": {
          "key": "12"
        },
        "id": "6f3293e3-273e-4549-8b21-3a72cdabd34b",
        "run_control": {
          "frozen": true
        },
        "tags": [
          "context"
        ]
      },
      "source": [
        "## 2. Preparing and cleaning the data\n",
        "<p>First, we will need to combine the data from the two separate pull DataFrames. </p>\n",
        "<p>Next, the raw data extracted from GitHub contains dates in the ISO8601 format. However, <code>pandas</code> imports them as regular strings. To make our analysis easier, we need to convert the strings into Python's <code>DateTime</code> objects. <code>DateTime</code> objects have the important property that they can be compared and sorted.</p>\n",
        "<p>The pull request times are all in UTC (also known as Coordinated Universal Time). The commit times, however, are in the local time of the author with time zone information (number of hours difference from UTC). To make comparisons easy, we should convert all times to UTC.</p>"
      ]
    },
    {
      "cell_type": "code",
      "execution_count": 4,
      "id": "PrzhxC2GQC8L",
      "metadata": {
        "colab": {
          "base_uri": "https://localhost:8080/"
        },
        "id": "PrzhxC2GQC8L",
        "outputId": "8bfd7c2d-696a-427c-f653-39f0237c6c7c"
      },
      "outputs": [
        {
          "data": {
            "text/plain": [
              "(6200, 3)"
            ]
          },
          "execution_count": 4,
          "metadata": {},
          "output_type": "execute_result"
        }
      ],
      "source": [
        "# Append datasets 2011-2013 and 2014-2018\n",
        "pulls = pd.concat([pulls20112013,pulls20142018])\n",
        "pulls.shape"
      ]
    },
    {
      "cell_type": "code",
      "execution_count": 5,
      "id": "E4heUBEtQpqs",
      "metadata": {
        "colab": {
          "base_uri": "https://localhost:8080/",
          "height": 206
        },
        "id": "E4heUBEtQpqs",
        "outputId": "c5f3c5b8-06df-460d-de8a-abe6cd8a505a"
      },
      "outputs": [
        {
          "data": {
            "text/html": [
              "<div>\n",
              "<style scoped>\n",
              "    .dataframe tbody tr th:only-of-type {\n",
              "        vertical-align: middle;\n",
              "    }\n",
              "\n",
              "    .dataframe tbody tr th {\n",
              "        vertical-align: top;\n",
              "    }\n",
              "\n",
              "    .dataframe thead th {\n",
              "        text-align: right;\n",
              "    }\n",
              "</style>\n",
              "<table border=\"1\" class=\"dataframe\">\n",
              "  <thead>\n",
              "    <tr style=\"text-align: right;\">\n",
              "      <th></th>\n",
              "      <th>pid</th>\n",
              "      <th>user</th>\n",
              "      <th>date</th>\n",
              "    </tr>\n",
              "  </thead>\n",
              "  <tbody>\n",
              "    <tr>\n",
              "      <th>0</th>\n",
              "      <td>11166973</td>\n",
              "      <td>VladimirNik</td>\n",
              "      <td>2013-12-31 23:10:55+00:00</td>\n",
              "    </tr>\n",
              "    <tr>\n",
              "      <th>1</th>\n",
              "      <td>11161892</td>\n",
              "      <td>Ichoran</td>\n",
              "      <td>2013-12-31 16:55:47+00:00</td>\n",
              "    </tr>\n",
              "    <tr>\n",
              "      <th>2</th>\n",
              "      <td>11153894</td>\n",
              "      <td>Ichoran</td>\n",
              "      <td>2013-12-31 02:41:13+00:00</td>\n",
              "    </tr>\n",
              "    <tr>\n",
              "      <th>3</th>\n",
              "      <td>11151917</td>\n",
              "      <td>rklaehn</td>\n",
              "      <td>2013-12-30 23:45:47+00:00</td>\n",
              "    </tr>\n",
              "    <tr>\n",
              "      <th>4</th>\n",
              "      <td>11131244</td>\n",
              "      <td>qerub</td>\n",
              "      <td>2013-12-29 17:21:01+00:00</td>\n",
              "    </tr>\n",
              "  </tbody>\n",
              "</table>\n",
              "</div>"
            ],
            "text/plain": [
              "        pid         user                      date\n",
              "0  11166973  VladimirNik 2013-12-31 23:10:55+00:00\n",
              "1  11161892      Ichoran 2013-12-31 16:55:47+00:00\n",
              "2  11153894      Ichoran 2013-12-31 02:41:13+00:00\n",
              "3  11151917      rklaehn 2013-12-30 23:45:47+00:00\n",
              "4  11131244        qerub 2013-12-29 17:21:01+00:00"
            ]
          },
          "execution_count": 5,
          "metadata": {},
          "output_type": "execute_result"
        }
      ],
      "source": [
        "# convert Date correct forma\n",
        "\n",
        "pulls['date'] = pd.to_datetime(pulls['date'], utc=True)\n",
        "\n",
        "pulls.head()\n"
      ]
    },
    {
      "cell_type": "markdown",
      "id": "1eedb206-b87b-45fe-9425-6ffcbc2e8c52",
      "metadata": {
        "dc": {
          "key": "19"
        },
        "id": "1eedb206-b87b-45fe-9425-6ffcbc2e8c52",
        "run_control": {
          "frozen": true
        },
        "tags": [
          "context"
        ]
      },
      "source": [
        "## 3. Merging the DataFrames\n",
        "<p>The data extracted comes in two separate files. Merging the two DataFrames will make it easier for us to analyze the data in the future tasks.</p>"
      ]
    },
    {
      "cell_type": "code",
      "execution_count": 6,
      "id": "xlw5CgmkRlD-",
      "metadata": {
        "colab": {
          "base_uri": "https://localhost:8080/",
          "height": 206
        },
        "id": "xlw5CgmkRlD-",
        "outputId": "dc2db291-ac71-4c04-e3db-f3169a613cec"
      },
      "outputs": [
        {
          "data": {
            "text/html": [
              "<div>\n",
              "<style scoped>\n",
              "    .dataframe tbody tr th:only-of-type {\n",
              "        vertical-align: middle;\n",
              "    }\n",
              "\n",
              "    .dataframe tbody tr th {\n",
              "        vertical-align: top;\n",
              "    }\n",
              "\n",
              "    .dataframe thead th {\n",
              "        text-align: right;\n",
              "    }\n",
              "</style>\n",
              "<table border=\"1\" class=\"dataframe\">\n",
              "  <thead>\n",
              "    <tr style=\"text-align: right;\">\n",
              "      <th></th>\n",
              "      <th>pid</th>\n",
              "      <th>user</th>\n",
              "      <th>date</th>\n",
              "      <th>file</th>\n",
              "    </tr>\n",
              "  </thead>\n",
              "  <tbody>\n",
              "    <tr>\n",
              "      <th>0</th>\n",
              "      <td>11166973</td>\n",
              "      <td>VladimirNik</td>\n",
              "      <td>2013-12-31 23:10:55+00:00</td>\n",
              "      <td>src/reflect/scala/reflect/api/Printers.scala</td>\n",
              "    </tr>\n",
              "    <tr>\n",
              "      <th>1</th>\n",
              "      <td>11166973</td>\n",
              "      <td>VladimirNik</td>\n",
              "      <td>2013-12-31 23:10:55+00:00</td>\n",
              "      <td>src/reflect/scala/reflect/internal/Printers.scala</td>\n",
              "    </tr>\n",
              "    <tr>\n",
              "      <th>2</th>\n",
              "      <td>11166973</td>\n",
              "      <td>VladimirNik</td>\n",
              "      <td>2013-12-31 23:10:55+00:00</td>\n",
              "      <td>test/files/run/reify_ann3.check</td>\n",
              "    </tr>\n",
              "    <tr>\n",
              "      <th>3</th>\n",
              "      <td>11166973</td>\n",
              "      <td>VladimirNik</td>\n",
              "      <td>2013-12-31 23:10:55+00:00</td>\n",
              "      <td>test/junit/scala/reflect/internal/PrintersTest...</td>\n",
              "    </tr>\n",
              "    <tr>\n",
              "      <th>4</th>\n",
              "      <td>11161892</td>\n",
              "      <td>Ichoran</td>\n",
              "      <td>2013-12-31 16:55:47+00:00</td>\n",
              "      <td>src/library/scala/collection/mutable/ArrayOps....</td>\n",
              "    </tr>\n",
              "  </tbody>\n",
              "</table>\n",
              "</div>"
            ],
            "text/plain": [
              "        pid         user                      date  \\\n",
              "0  11166973  VladimirNik 2013-12-31 23:10:55+00:00   \n",
              "1  11166973  VladimirNik 2013-12-31 23:10:55+00:00   \n",
              "2  11166973  VladimirNik 2013-12-31 23:10:55+00:00   \n",
              "3  11166973  VladimirNik 2013-12-31 23:10:55+00:00   \n",
              "4  11161892      Ichoran 2013-12-31 16:55:47+00:00   \n",
              "\n",
              "                                                file  \n",
              "0       src/reflect/scala/reflect/api/Printers.scala  \n",
              "1  src/reflect/scala/reflect/internal/Printers.scala  \n",
              "2                    test/files/run/reify_ann3.check  \n",
              "3  test/junit/scala/reflect/internal/PrintersTest...  \n",
              "4  src/library/scala/collection/mutable/ArrayOps....  "
            ]
          },
          "execution_count": 6,
          "metadata": {},
          "output_type": "execute_result"
        }
      ],
      "source": [
        "# Merge two dataFrames\n",
        "\n",
        "dataScala = pulls.merge(pullsFiles, on='pid')\n",
        "\n",
        "dataScala.head()"
      ]
    },
    {
      "cell_type": "markdown",
      "id": "e9a6c439-b865-4677-b895-d99d8c467879",
      "metadata": {
        "dc": {
          "key": "26"
        },
        "id": "e9a6c439-b865-4677-b895-d99d8c467879",
        "run_control": {
          "frozen": true
        },
        "tags": [
          "context"
        ]
      },
      "source": [
        "## 4. Is the project still actively maintained?\n",
        "<p>The activity in an open source project is not very consistent. Some projects might be active for many years after the initial release, while others can slowly taper out into oblivion. Before committing to contributing to a project, it is important to understand the state of the project. Is development going steadily, or is there a drop? Has the project been abandoned altogether?</p>\n",
        "<p>The data used in this project was collected in January of 2018. We are interested in the evolution of the number of contributions up to that date.</p>\n",
        "<p>For Scala, we will do this by plotting a chart of the project's activity. We will calculate the number of pull requests submitted each (calendar) month during the project's lifetime. We will then plot these numbers to see the trend of contributions.</p>\n",
        "<ul>\n"
      ]
    },
    {
      "cell_type": "code",
      "execution_count": 7,
      "id": "7jBYlmkiSolc",
      "metadata": {
        "colab": {
          "base_uri": "https://localhost:8080/",
          "height": 206
        },
        "id": "7jBYlmkiSolc",
        "outputId": "dabadb86-a24c-4a9d-a7a5-4f7853b05ab8"
      },
      "outputs": [
        {
          "data": {
            "text/html": [
              "<div>\n",
              "<style scoped>\n",
              "    .dataframe tbody tr th:only-of-type {\n",
              "        vertical-align: middle;\n",
              "    }\n",
              "\n",
              "    .dataframe tbody tr th {\n",
              "        vertical-align: top;\n",
              "    }\n",
              "\n",
              "    .dataframe thead th {\n",
              "        text-align: right;\n",
              "    }\n",
              "</style>\n",
              "<table border=\"1\" class=\"dataframe\">\n",
              "  <thead>\n",
              "    <tr style=\"text-align: right;\">\n",
              "      <th></th>\n",
              "      <th>pid</th>\n",
              "      <th>user</th>\n",
              "      <th>date</th>\n",
              "      <th>file</th>\n",
              "      <th>month</th>\n",
              "      <th>year</th>\n",
              "    </tr>\n",
              "  </thead>\n",
              "  <tbody>\n",
              "    <tr>\n",
              "      <th>0</th>\n",
              "      <td>11166973</td>\n",
              "      <td>VladimirNik</td>\n",
              "      <td>2013-12-31 23:10:55+00:00</td>\n",
              "      <td>src/reflect/scala/reflect/api/Printers.scala</td>\n",
              "      <td>12</td>\n",
              "      <td>2013</td>\n",
              "    </tr>\n",
              "    <tr>\n",
              "      <th>1</th>\n",
              "      <td>11166973</td>\n",
              "      <td>VladimirNik</td>\n",
              "      <td>2013-12-31 23:10:55+00:00</td>\n",
              "      <td>src/reflect/scala/reflect/internal/Printers.scala</td>\n",
              "      <td>12</td>\n",
              "      <td>2013</td>\n",
              "    </tr>\n",
              "    <tr>\n",
              "      <th>2</th>\n",
              "      <td>11166973</td>\n",
              "      <td>VladimirNik</td>\n",
              "      <td>2013-12-31 23:10:55+00:00</td>\n",
              "      <td>test/files/run/reify_ann3.check</td>\n",
              "      <td>12</td>\n",
              "      <td>2013</td>\n",
              "    </tr>\n",
              "    <tr>\n",
              "      <th>3</th>\n",
              "      <td>11166973</td>\n",
              "      <td>VladimirNik</td>\n",
              "      <td>2013-12-31 23:10:55+00:00</td>\n",
              "      <td>test/junit/scala/reflect/internal/PrintersTest...</td>\n",
              "      <td>12</td>\n",
              "      <td>2013</td>\n",
              "    </tr>\n",
              "    <tr>\n",
              "      <th>4</th>\n",
              "      <td>11161892</td>\n",
              "      <td>Ichoran</td>\n",
              "      <td>2013-12-31 16:55:47+00:00</td>\n",
              "      <td>src/library/scala/collection/mutable/ArrayOps....</td>\n",
              "      <td>12</td>\n",
              "      <td>2013</td>\n",
              "    </tr>\n",
              "  </tbody>\n",
              "</table>\n",
              "</div>"
            ],
            "text/plain": [
              "        pid         user                      date  \\\n",
              "0  11166973  VladimirNik 2013-12-31 23:10:55+00:00   \n",
              "1  11166973  VladimirNik 2013-12-31 23:10:55+00:00   \n",
              "2  11166973  VladimirNik 2013-12-31 23:10:55+00:00   \n",
              "3  11166973  VladimirNik 2013-12-31 23:10:55+00:00   \n",
              "4  11161892      Ichoran 2013-12-31 16:55:47+00:00   \n",
              "\n",
              "                                                file  month  year  \n",
              "0       src/reflect/scala/reflect/api/Printers.scala     12  2013  \n",
              "1  src/reflect/scala/reflect/internal/Printers.scala     12  2013  \n",
              "2                    test/files/run/reify_ann3.check     12  2013  \n",
              "3  test/junit/scala/reflect/internal/PrintersTest...     12  2013  \n",
              "4  src/library/scala/collection/mutable/ArrayOps....     12  2013  "
            ]
          },
          "execution_count": 7,
          "metadata": {},
          "output_type": "execute_result"
        }
      ],
      "source": [
        "# Create month an year column\n",
        "dataScala['month'] = dataScala['date'].dt.month\n",
        "dataScala['year'] = dataScala['date'].dt.year\n",
        "\n",
        "dataScala.head()\n"
      ]
    },
    {
      "cell_type": "code",
      "execution_count": 8,
      "id": "SMVMTGyETJSB",
      "metadata": {
        "colab": {
          "base_uri": "https://localhost:8080/",
          "height": 455
        },
        "id": "SMVMTGyETJSB",
        "outputId": "9ab237e1-a10b-4408-cae9-9f44f67b30eb"
      },
      "outputs": [
        {
          "data": {
            "text/html": [
              "<div>\n",
              "<style scoped>\n",
              "    .dataframe tbody tr th:only-of-type {\n",
              "        vertical-align: middle;\n",
              "    }\n",
              "\n",
              "    .dataframe tbody tr th {\n",
              "        vertical-align: top;\n",
              "    }\n",
              "\n",
              "    .dataframe thead th {\n",
              "        text-align: right;\n",
              "    }\n",
              "</style>\n",
              "<table border=\"1\" class=\"dataframe\">\n",
              "  <thead>\n",
              "    <tr style=\"text-align: right;\">\n",
              "      <th></th>\n",
              "      <th></th>\n",
              "      <th>pid</th>\n",
              "    </tr>\n",
              "    <tr>\n",
              "      <th>year</th>\n",
              "      <th>month</th>\n",
              "      <th></th>\n",
              "    </tr>\n",
              "  </thead>\n",
              "  <tbody>\n",
              "    <tr>\n",
              "      <th>2011</th>\n",
              "      <th>12</th>\n",
              "      <td>590</td>\n",
              "    </tr>\n",
              "    <tr>\n",
              "      <th rowspan=\"4\" valign=\"top\">2012</th>\n",
              "      <th>1</th>\n",
              "      <td>489</td>\n",
              "    </tr>\n",
              "    <tr>\n",
              "      <th>2</th>\n",
              "      <td>787</td>\n",
              "    </tr>\n",
              "    <tr>\n",
              "      <th>3</th>\n",
              "      <td>880</td>\n",
              "    </tr>\n",
              "    <tr>\n",
              "      <th>4</th>\n",
              "      <td>3354</td>\n",
              "    </tr>\n",
              "    <tr>\n",
              "      <th>...</th>\n",
              "      <th>...</th>\n",
              "      <td>...</td>\n",
              "    </tr>\n",
              "    <tr>\n",
              "      <th rowspan=\"4\" valign=\"top\">2017</th>\n",
              "      <th>9</th>\n",
              "      <td>578</td>\n",
              "    </tr>\n",
              "    <tr>\n",
              "      <th>10</th>\n",
              "      <td>535</td>\n",
              "    </tr>\n",
              "    <tr>\n",
              "      <th>11</th>\n",
              "      <td>172</td>\n",
              "    </tr>\n",
              "    <tr>\n",
              "      <th>12</th>\n",
              "      <td>224</td>\n",
              "    </tr>\n",
              "    <tr>\n",
              "      <th>2018</th>\n",
              "      <th>1</th>\n",
              "      <td>202</td>\n",
              "    </tr>\n",
              "  </tbody>\n",
              "</table>\n",
              "<p>74 rows × 1 columns</p>\n",
              "</div>"
            ],
            "text/plain": [
              "             pid\n",
              "year month      \n",
              "2011 12      590\n",
              "2012 1       489\n",
              "     2       787\n",
              "     3       880\n",
              "     4      3354\n",
              "...          ...\n",
              "2017 9       578\n",
              "     10      535\n",
              "     11      172\n",
              "     12      224\n",
              "2018 1       202\n",
              "\n",
              "[74 rows x 1 columns]"
            ]
          },
          "execution_count": 8,
          "metadata": {},
          "output_type": "execute_result"
        }
      ],
      "source": [
        "# Calculate contributions/ commits gropueb by year and month\n",
        "\n",
        "numberContributions = dataScala.groupby(['year','month']).agg({'pid': 'count'})\n",
        "\n",
        "numberContributions"
      ]
    },
    {
      "cell_type": "code",
      "execution_count": 9,
      "id": "-PgWuTH9UWIF",
      "metadata": {
        "colab": {
          "base_uri": "https://localhost:8080/",
          "height": 297
        },
        "id": "-PgWuTH9UWIF",
        "outputId": "0a459e47-da6c-4aa4-9b51-07d244f42c24"
      },
      "outputs": [
        {
          "data": {
            "text/plain": [
              "<AxesSubplot:xlabel='year,month'>"
            ]
          },
          "execution_count": 9,
          "metadata": {},
          "output_type": "execute_result"
        },
        {
          "data": {
            "image/png": "[encoded data removed]",
            "text/plain": [
              "<Figure size 864x288 with 1 Axes>"
            ]
          },
          "metadata": {
            "needs_background": "light"
          },
          "output_type": "display_data"
        }
      ],
      "source": [
        "# Show plot\n",
        "import matplotlib.pyplot as plt\n",
        "\n",
        "\n",
        "numberContributions.plot(kind='line', figsize=(12,4))"
      ]
    },
    {
      "cell_type": "markdown",
      "id": "fb2c9b69-3f27-4061-829d-2e1bb82d8a8f",
      "metadata": {
        "dc": {
          "key": "33"
        },
        "id": "fb2c9b69-3f27-4061-829d-2e1bb82d8a8f",
        "run_control": {
          "frozen": true
        },
        "tags": [
          "context"
        ]
      },
      "source": [
        "## 5. Is there camaraderie in the project?\n",
        "<p>The organizational structure varies from one project to another, and it can influence your success as a contributor. A project that has a very small community might not be the best one to start working on. The small community might indicate a high barrier of entry. This can be caused by several factors, including a community that is reluctant to accept pull requests from \"outsiders,\" that the code base is hard to work with, etc. However, a large community can serve as an indicator that the project is regularly accepting pull requests from new contributors. Such a project would be a good place to start.</p>\n",
        "<p>In order to evaluate the dynamics of the community, we will plot a histogram of the number of pull requests submitted by each user. A distribution that shows that there are few people that only contribute a small number of pull requests can be used as in indicator that the project is not welcoming of new contributors. </p>"
      ]
    },
    {
      "cell_type": "code",
      "execution_count": 10,
      "id": "UeeM2oHoWL1h",
      "metadata": {
        "colab": {
          "base_uri": "https://localhost:8080/"
        },
        "id": "UeeM2oHoWL1h",
        "outputId": "5a81b441-d314-494c-cc22-b00e3aecfcbb"
      },
      "outputs": [
        {
          "data": {
            "text/plain": [
              "user\n",
              "xeno-by           12649\n",
              "retronym          11430\n",
              "paulp             11260\n",
              "adriaanm           7722\n",
              "lrytz              6988\n",
              "                  ...  \n",
              "iliffwes              1\n",
              "jaceklaskowski        1\n",
              "jacobsallan           1\n",
              "jbdeboer              1\n",
              "zuvizudar             1\n",
              "Name: pid, Length: 464, dtype: int64"
            ]
          },
          "execution_count": 10,
          "metadata": {},
          "output_type": "execute_result"
        }
      ],
      "source": [
        "dataScalaUsers = dataScala.groupby('user').count()\n",
        "\n",
        "#plot hist\n",
        "\n",
        "\n",
        "\n",
        "dataScalaUsers['pid'].sort_values(ascending=False)\n",
        "\n",
        "#print(dataScalaUsers['pid'].median())\n",
        "\n",
        "#print(dataScalaUsers['pid'].mean())"
      ]
    },
    {
      "cell_type": "markdown",
      "id": "e5647135-ba87-4e54-b007-ce44685f7891",
      "metadata": {
        "dc": {
          "key": "40"
        },
        "id": "e5647135-ba87-4e54-b007-ce44685f7891",
        "run_control": {
          "frozen": true
        },
        "tags": [
          "context"
        ]
      },
      "source": [
        "## 6. What files were changed in the last ten pull requests?\n",
        "<p>Choosing the right place to make a contribution is as important as choosing the project to contribute to. Some parts of the code might be stable, some might be dead. Contributing there might not have the most impact. Therefore it is important to understand the parts of the system that have been recently changed. This allows us to pinpoint the \"hot\" areas of the code where most of the activity is happening. Focusing on those parts might not the most effective use of our times.</p>"
      ]
    },
    {
      "cell_type": "code",
      "execution_count": 11,
      "id": "owphh40HYfl3",
      "metadata": {
        "colab": {
          "base_uri": "https://localhost:8080/"
        },
        "id": "owphh40HYfl3",
        "outputId": "e296ccf2-e5ac-4c6f-e317-ff3c273c6bd7"
      },
      "outputs": [
        {
          "data": {
            "text/plain": [
              "array(['test/files/pos/t5638/Among.java',\n",
              "       'test/files/pos/t5638/Usage.scala', 'test/files/pos/t9291.scala',\n",
              "       'test/files/run/t8348.check',\n",
              "       'test/files/run/t8348/TableColumn.java',\n",
              "       'test/files/run/t8348/TableColumnImpl.java',\n",
              "       'test/files/run/t8348/Test.scala',\n",
              "       'src/library/scala/concurrent/Lock.scala',\n",
              "       'src/compiler/scala/tools/nsc/profile/AsyncHelper.scala',\n",
              "       'src/compiler/scala/tools/nsc/profile/Profiler.scala',\n",
              "       'src/compiler/scala/tools/nsc/backend/jvm/BCodeHelpers.scala',\n",
              "       'src/compiler/scala/tools/nsc/symtab/classfile/ClassfileParser.scala',\n",
              "       'src/reflect/scala/reflect/internal/pickling/ByteCodecs.scala',\n",
              "       'src/compiler/scala/reflect/reify/phases/Calculate.scala',\n",
              "       'src/library/scala/Predef.scala',\n",
              "       'test/files/neg/leibniz-liskov.check',\n",
              "       'test/files/neg/leibniz-liskov.scala',\n",
              "       'test/files/pos/leibniz-liskov.scala',\n",
              "       'test/files/pos/leibniz_liskov.scala',\n",
              "       'test/files/pos/t10568/Converter.java'], dtype=object)"
            ]
          },
          "execution_count": 11,
          "metadata": {},
          "output_type": "execute_result"
        }
      ],
      "source": [
        "#identify last 10 pull request\n",
        "last_10 = dataScala.sort_values(by='date', ascending = False)\n",
        "\n",
        "last_10['file'].unique()[0:20]"
      ]
    },
    {
      "cell_type": "markdown",
      "id": "63eaf111-bea1-4696-a7b6-cb57c02c050e",
      "metadata": {
        "dc": {
          "key": "47"
        },
        "id": "63eaf111-bea1-4696-a7b6-cb57c02c050e",
        "run_control": {
          "frozen": true
        },
        "tags": [
          "context"
        ]
      },
      "source": [
        "## 7. Who made the most pull requests to a given file?\n",
        "<p>When contributing to a project, we might need some guidance. We might find ourselves needing some information regarding the codebase. It is important direct any questions to the right person. Contributors to open source projects generally have other day jobs, so their time is limited. It is important to address our questions to the right people. One way to identify the right target for our inquiries is by using their contribution history.</p>\n",
        "<p>We identified <code>src/compiler/scala/reflect/reify/phases/Calculate.scala</code> as being recently changed. We are interested in the top 3 developers who changed that file. Those developers are the ones most likely to have the best understanding of the code.</p>"
      ]
    },
    {
      "cell_type": "code",
      "execution_count": 12,
      "id": "yz_whfa0ahLS",
      "metadata": {
        "colab": {
          "base_uri": "https://localhost:8080/",
          "height": 989
        },
        "id": "yz_whfa0ahLS",
        "outputId": "aae2b8cc-8b1b-4d24-c38a-1c223d9c1ef3"
      },
      "outputs": [
        {
          "data": {
            "text/html": [
              "<div>\n",
              "<style scoped>\n",
              "    .dataframe tbody tr th:only-of-type {\n",
              "        vertical-align: middle;\n",
              "    }\n",
              "\n",
              "    .dataframe tbody tr th {\n",
              "        vertical-align: top;\n",
              "    }\n",
              "\n",
              "    .dataframe thead th {\n",
              "        text-align: right;\n",
              "    }\n",
              "</style>\n",
              "<table border=\"1\" class=\"dataframe\">\n",
              "  <thead>\n",
              "    <tr style=\"text-align: right;\">\n",
              "      <th></th>\n",
              "      <th>pid</th>\n",
              "      <th>user</th>\n",
              "      <th>date</th>\n",
              "      <th>file</th>\n",
              "      <th>month</th>\n",
              "      <th>year</th>\n",
              "    </tr>\n",
              "  </thead>\n",
              "  <tbody>\n",
              "    <tr>\n",
              "      <th>1234</th>\n",
              "      <td>10587633</td>\n",
              "      <td>retronym</td>\n",
              "      <td>2013-12-06 10:04:43+00:00</td>\n",
              "      <td>src/compiler/scala/reflect/reify/phases/Calcul...</td>\n",
              "      <td>12</td>\n",
              "      <td>2013</td>\n",
              "    </tr>\n",
              "    <tr>\n",
              "      <th>12514</th>\n",
              "      <td>5320191</td>\n",
              "      <td>soc</td>\n",
              "      <td>2013-04-23 15:47:45+00:00</td>\n",
              "      <td>src/compiler/scala/reflect/reify/phases/Calcul...</td>\n",
              "      <td>4</td>\n",
              "      <td>2013</td>\n",
              "    </tr>\n",
              "    <tr>\n",
              "      <th>12823</th>\n",
              "      <td>5291974</td>\n",
              "      <td>bjornregnell</td>\n",
              "      <td>2013-04-22 13:56:06+00:00</td>\n",
              "      <td>src/compiler/scala/reflect/reify/phases/Calcul...</td>\n",
              "      <td>4</td>\n",
              "      <td>2013</td>\n",
              "    </tr>\n",
              "    <tr>\n",
              "      <th>13381</th>\n",
              "      <td>5050360</td>\n",
              "      <td>retronym</td>\n",
              "      <td>2013-04-09 06:13:57+00:00</td>\n",
              "      <td>src/compiler/scala/reflect/reify/phases/Calcul...</td>\n",
              "      <td>4</td>\n",
              "      <td>2013</td>\n",
              "    </tr>\n",
              "    <tr>\n",
              "      <th>13779</th>\n",
              "      <td>5026775</td>\n",
              "      <td>retronym</td>\n",
              "      <td>2013-04-08 07:07:45+00:00</td>\n",
              "      <td>src/compiler/scala/reflect/reify/phases/Calcul...</td>\n",
              "      <td>4</td>\n",
              "      <td>2013</td>\n",
              "    </tr>\n",
              "    <tr>\n",
              "      <th>14970</th>\n",
              "      <td>4786005</td>\n",
              "      <td>starblood</td>\n",
              "      <td>2013-03-25 02:48:48+00:00</td>\n",
              "      <td>src/compiler/scala/reflect/reify/phases/Calcul...</td>\n",
              "      <td>3</td>\n",
              "      <td>2013</td>\n",
              "    </tr>\n",
              "    <tr>\n",
              "      <th>17127</th>\n",
              "      <td>4295399</td>\n",
              "      <td>retronym</td>\n",
              "      <td>2013-02-24 21:43:43+00:00</td>\n",
              "      <td>src/compiler/scala/reflect/reify/phases/Calcul...</td>\n",
              "      <td>2</td>\n",
              "      <td>2013</td>\n",
              "    </tr>\n",
              "    <tr>\n",
              "      <th>18341</th>\n",
              "      <td>4019878</td>\n",
              "      <td>soc</td>\n",
              "      <td>2013-02-06 18:24:21+00:00</td>\n",
              "      <td>src/compiler/scala/reflect/reify/phases/Calcul...</td>\n",
              "      <td>2</td>\n",
              "      <td>2013</td>\n",
              "    </tr>\n",
              "    <tr>\n",
              "      <th>19174</th>\n",
              "      <td>3918789</td>\n",
              "      <td>gkossakowski</td>\n",
              "      <td>2013-01-31 00:43:19+00:00</td>\n",
              "      <td>src/compiler/scala/reflect/reify/phases/Calcul...</td>\n",
              "      <td>1</td>\n",
              "      <td>2013</td>\n",
              "    </tr>\n",
              "    <tr>\n",
              "      <th>19834</th>\n",
              "      <td>3854688</td>\n",
              "      <td>melloc</td>\n",
              "      <td>2013-01-26 22:47:32+00:00</td>\n",
              "      <td>src/compiler/scala/reflect/reify/phases/Calcul...</td>\n",
              "      <td>1</td>\n",
              "      <td>2013</td>\n",
              "    </tr>\n",
              "    <tr>\n",
              "      <th>24668</th>\n",
              "      <td>3290864</td>\n",
              "      <td>densh</td>\n",
              "      <td>2012-12-08 15:18:04+00:00</td>\n",
              "      <td>src/compiler/scala/reflect/reify/phases/Calcul...</td>\n",
              "      <td>12</td>\n",
              "      <td>2012</td>\n",
              "    </tr>\n",
              "    <tr>\n",
              "      <th>27074</th>\n",
              "      <td>2919907</td>\n",
              "      <td>paulp</td>\n",
              "      <td>2012-11-07 21:13:47+00:00</td>\n",
              "      <td>src/compiler/scala/reflect/reify/phases/Calcul...</td>\n",
              "      <td>11</td>\n",
              "      <td>2012</td>\n",
              "    </tr>\n",
              "    <tr>\n",
              "      <th>28951</th>\n",
              "      <td>2721711</td>\n",
              "      <td>soc</td>\n",
              "      <td>2012-10-21 19:58:20+00:00</td>\n",
              "      <td>src/compiler/scala/reflect/reify/phases/Calcul...</td>\n",
              "      <td>10</td>\n",
              "      <td>2012</td>\n",
              "    </tr>\n",
              "    <tr>\n",
              "      <th>35284</th>\n",
              "      <td>2089264</td>\n",
              "      <td>paulp</td>\n",
              "      <td>2012-08-17 16:15:26+00:00</td>\n",
              "      <td>src/compiler/scala/reflect/reify/phases/Calcul...</td>\n",
              "      <td>8</td>\n",
              "      <td>2012</td>\n",
              "    </tr>\n",
              "    <tr>\n",
              "      <th>35498</th>\n",
              "      <td>2072662</td>\n",
              "      <td>xeno-by</td>\n",
              "      <td>2012-08-16 05:39:22+00:00</td>\n",
              "      <td>src/compiler/scala/reflect/reify/phases/Calcul...</td>\n",
              "      <td>8</td>\n",
              "      <td>2012</td>\n",
              "    </tr>\n",
              "    <tr>\n",
              "      <th>35608</th>\n",
              "      <td>2071228</td>\n",
              "      <td>xeno-by</td>\n",
              "      <td>2012-08-15 23:41:59+00:00</td>\n",
              "      <td>src/compiler/scala/reflect/reify/phases/Calcul...</td>\n",
              "      <td>8</td>\n",
              "      <td>2012</td>\n",
              "    </tr>\n",
              "    <tr>\n",
              "      <th>36860</th>\n",
              "      <td>1984445</td>\n",
              "      <td>soc</td>\n",
              "      <td>2012-08-06 18:38:28+00:00</td>\n",
              "      <td>src/compiler/scala/reflect/reify/phases/Calcul...</td>\n",
              "      <td>8</td>\n",
              "      <td>2012</td>\n",
              "    </tr>\n",
              "    <tr>\n",
              "      <th>42404</th>\n",
              "      <td>1522783</td>\n",
              "      <td>xeno-by</td>\n",
              "      <td>2012-06-08 13:43:35+00:00</td>\n",
              "      <td>src/compiler/scala/reflect/reify/phases/Calcul...</td>\n",
              "      <td>6</td>\n",
              "      <td>2012</td>\n",
              "    </tr>\n",
              "    <tr>\n",
              "      <th>42712</th>\n",
              "      <td>1522613</td>\n",
              "      <td>xeno-by</td>\n",
              "      <td>2012-06-08 13:22:10+00:00</td>\n",
              "      <td>src/compiler/scala/reflect/reify/phases/Calcul...</td>\n",
              "      <td>6</td>\n",
              "      <td>2012</td>\n",
              "    </tr>\n",
              "    <tr>\n",
              "      <th>43102</th>\n",
              "      <td>1482038</td>\n",
              "      <td>xeno-by</td>\n",
              "      <td>2012-06-03 18:01:36+00:00</td>\n",
              "      <td>src/compiler/scala/reflect/reify/phases/Calcul...</td>\n",
              "      <td>6</td>\n",
              "      <td>2012</td>\n",
              "    </tr>\n",
              "    <tr>\n",
              "      <th>43435</th>\n",
              "      <td>1482035</td>\n",
              "      <td>xeno-by</td>\n",
              "      <td>2012-06-03 18:00:39+00:00</td>\n",
              "      <td>src/compiler/scala/reflect/reify/phases/Calcul...</td>\n",
              "      <td>6</td>\n",
              "      <td>2012</td>\n",
              "    </tr>\n",
              "    <tr>\n",
              "      <th>43751</th>\n",
              "      <td>1480230</td>\n",
              "      <td>xeno-by</td>\n",
              "      <td>2012-06-02 17:20:02+00:00</td>\n",
              "      <td>src/compiler/scala/reflect/reify/phases/Calcul...</td>\n",
              "      <td>6</td>\n",
              "      <td>2012</td>\n",
              "    </tr>\n",
              "    <tr>\n",
              "      <th>46086</th>\n",
              "      <td>1210959</td>\n",
              "      <td>xeno-by</td>\n",
              "      <td>2012-04-22 22:50:51+00:00</td>\n",
              "      <td>src/compiler/scala/reflect/reify/phases/Calcul...</td>\n",
              "      <td>4</td>\n",
              "      <td>2012</td>\n",
              "    </tr>\n",
              "    <tr>\n",
              "      <th>46789</th>\n",
              "      <td>1164069</td>\n",
              "      <td>odersky</td>\n",
              "      <td>2012-04-14 02:21:49+00:00</td>\n",
              "      <td>src/compiler/scala/reflect/reify/phases/Calcul...</td>\n",
              "      <td>4</td>\n",
              "      <td>2012</td>\n",
              "    </tr>\n",
              "    <tr>\n",
              "      <th>47089</th>\n",
              "      <td>1163831</td>\n",
              "      <td>odersky</td>\n",
              "      <td>2012-04-14 00:40:37+00:00</td>\n",
              "      <td>src/compiler/scala/reflect/reify/phases/Calcul...</td>\n",
              "      <td>4</td>\n",
              "      <td>2012</td>\n",
              "    </tr>\n",
              "    <tr>\n",
              "      <th>47702</th>\n",
              "      <td>1150233</td>\n",
              "      <td>xeno-by</td>\n",
              "      <td>2012-04-12 10:25:43+00:00</td>\n",
              "      <td>src/compiler/scala/reflect/reify/phases/Calcul...</td>\n",
              "      <td>4</td>\n",
              "      <td>2012</td>\n",
              "    </tr>\n",
              "    <tr>\n",
              "      <th>48016</th>\n",
              "      <td>1148013</td>\n",
              "      <td>xeno-by</td>\n",
              "      <td>2012-04-12 00:05:33+00:00</td>\n",
              "      <td>src/compiler/scala/reflect/reify/phases/Calcul...</td>\n",
              "      <td>4</td>\n",
              "      <td>2012</td>\n",
              "    </tr>\n",
              "    <tr>\n",
              "      <th>51415</th>\n",
              "      <td>162838837</td>\n",
              "      <td>zuvizudar</td>\n",
              "      <td>2018-01-14 19:16:16+00:00</td>\n",
              "      <td>src/compiler/scala/reflect/reify/phases/Calcul...</td>\n",
              "      <td>1</td>\n",
              "      <td>2018</td>\n",
              "    </tr>\n",
              "    <tr>\n",
              "      <th>78353</th>\n",
              "      <td>22845163</td>\n",
              "      <td>retronym</td>\n",
              "      <td>2014-10-16 10:23:42+00:00</td>\n",
              "      <td>src/compiler/scala/reflect/reify/phases/Calcul...</td>\n",
              "      <td>10</td>\n",
              "      <td>2014</td>\n",
              "    </tr>\n",
              "    <tr>\n",
              "      <th>84155</th>\n",
              "      <td>12102550</td>\n",
              "      <td>xeno-by</td>\n",
              "      <td>2014-02-01 01:19:58+00:00</td>\n",
              "      <td>src/compiler/scala/reflect/reify/phases/Calcul...</td>\n",
              "      <td>2</td>\n",
              "      <td>2014</td>\n",
              "    </tr>\n",
              "  </tbody>\n",
              "</table>\n",
              "</div>"
            ],
            "text/plain": [
              "             pid          user                      date  \\\n",
              "1234    10587633      retronym 2013-12-06 10:04:43+00:00   \n",
              "12514    5320191           soc 2013-04-23 15:47:45+00:00   \n",
              "12823    5291974  bjornregnell 2013-04-22 13:56:06+00:00   \n",
              "13381    5050360      retronym 2013-04-09 06:13:57+00:00   \n",
              "13779    5026775      retronym 2013-04-08 07:07:45+00:00   \n",
              "14970    4786005     starblood 2013-03-25 02:48:48+00:00   \n",
              "17127    4295399      retronym 2013-02-24 21:43:43+00:00   \n",
              "18341    4019878           soc 2013-02-06 18:24:21+00:00   \n",
              "19174    3918789  gkossakowski 2013-01-31 00:43:19+00:00   \n",
              "19834    3854688        melloc 2013-01-26 22:47:32+00:00   \n",
              "24668    3290864         densh 2012-12-08 15:18:04+00:00   \n",
              "27074    2919907         paulp 2012-11-07 21:13:47+00:00   \n",
              "28951    2721711           soc 2012-10-21 19:58:20+00:00   \n",
              "35284    2089264         paulp 2012-08-17 16:15:26+00:00   \n",
              "35498    2072662       xeno-by 2012-08-16 05:39:22+00:00   \n",
              "35608    2071228       xeno-by 2012-08-15 23:41:59+00:00   \n",
              "36860    1984445           soc 2012-08-06 18:38:28+00:00   \n",
              "42404    1522783       xeno-by 2012-06-08 13:43:35+00:00   \n",
              "42712    1522613       xeno-by 2012-06-08 13:22:10+00:00   \n",
              "43102    1482038       xeno-by 2012-06-03 18:01:36+00:00   \n",
              "43435    1482035       xeno-by 2012-06-03 18:00:39+00:00   \n",
              "43751    1480230       xeno-by 2012-06-02 17:20:02+00:00   \n",
              "46086    1210959       xeno-by 2012-04-22 22:50:51+00:00   \n",
              "46789    1164069       odersky 2012-04-14 02:21:49+00:00   \n",
              "47089    1163831       odersky 2012-04-14 00:40:37+00:00   \n",
              "47702    1150233       xeno-by 2012-04-12 10:25:43+00:00   \n",
              "48016    1148013       xeno-by 2012-04-12 00:05:33+00:00   \n",
              "51415  162838837     zuvizudar 2018-01-14 19:16:16+00:00   \n",
              "78353   22845163      retronym 2014-10-16 10:23:42+00:00   \n",
              "84155   12102550       xeno-by 2014-02-01 01:19:58+00:00   \n",
              "\n",
              "                                                    file  month  year  \n",
              "1234   src/compiler/scala/reflect/reify/phases/Calcul...     12  2013  \n",
              "12514  src/compiler/scala/reflect/reify/phases/Calcul...      4  2013  \n",
              "12823  src/compiler/scala/reflect/reify/phases/Calcul...      4  2013  \n",
              "13381  src/compiler/scala/reflect/reify/phases/Calcul...      4  2013  \n",
              "13779  src/compiler/scala/reflect/reify/phases/Calcul...      4  2013  \n",
              "14970  src/compiler/scala/reflect/reify/phases/Calcul...      3  2013  \n",
              "17127  src/compiler/scala/reflect/reify/phases/Calcul...      2  2013  \n",
              "18341  src/compiler/scala/reflect/reify/phases/Calcul...      2  2013  \n",
              "19174  src/compiler/scala/reflect/reify/phases/Calcul...      1  2013  \n",
              "19834  src/compiler/scala/reflect/reify/phases/Calcul...      1  2013  \n",
              "24668  src/compiler/scala/reflect/reify/phases/Calcul...     12  2012  \n",
              "27074  src/compiler/scala/reflect/reify/phases/Calcul...     11  2012  \n",
              "28951  src/compiler/scala/reflect/reify/phases/Calcul...     10  2012  \n",
              "35284  src/compiler/scala/reflect/reify/phases/Calcul...      8  2012  \n",
              "35498  src/compiler/scala/reflect/reify/phases/Calcul...      8  2012  \n",
              "35608  src/compiler/scala/reflect/reify/phases/Calcul...      8  2012  \n",
              "36860  src/compiler/scala/reflect/reify/phases/Calcul...      8  2012  \n",
              "42404  src/compiler/scala/reflect/reify/phases/Calcul...      6  2012  \n",
              "42712  src/compiler/scala/reflect/reify/phases/Calcul...      6  2012  \n",
              "43102  src/compiler/scala/reflect/reify/phases/Calcul...      6  2012  \n",
              "43435  src/compiler/scala/reflect/reify/phases/Calcul...      6  2012  \n",
              "43751  src/compiler/scala/reflect/reify/phases/Calcul...      6  2012  \n",
              "46086  src/compiler/scala/reflect/reify/phases/Calcul...      4  2012  \n",
              "46789  src/compiler/scala/reflect/reify/phases/Calcul...      4  2012  \n",
              "47089  src/compiler/scala/reflect/reify/phases/Calcul...      4  2012  \n",
              "47702  src/compiler/scala/reflect/reify/phases/Calcul...      4  2012  \n",
              "48016  src/compiler/scala/reflect/reify/phases/Calcul...      4  2012  \n",
              "51415  src/compiler/scala/reflect/reify/phases/Calcul...      1  2018  \n",
              "78353  src/compiler/scala/reflect/reify/phases/Calcul...     10  2014  \n",
              "84155  src/compiler/scala/reflect/reify/phases/Calcul...      2  2014  "
            ]
          },
          "execution_count": 12,
          "metadata": {},
          "output_type": "execute_result"
        }
      ],
      "source": [
        "# variable file\n",
        "file = 'src/compiler/scala/reflect/reify/phases/Calculate.scala'\n",
        "\n",
        "# filter dataset by file\n",
        "\n",
        "dfCalculateScale = dataScala.query(f\"file == '{file}'\")\n",
        "\n",
        "dfCalculateScale"
      ]
    },
    {
      "cell_type": "code",
      "execution_count": 13,
      "id": "stGJ1ynrcMo0",
      "metadata": {
        "colab": {
          "base_uri": "https://localhost:8080/"
        },
        "id": "stGJ1ynrcMo0",
        "outputId": "3826474f-6aab-4172-e2f8-2358c840d52f"
      },
      "outputs": [
        {
          "data": {
            "text/plain": [
              "user\n",
              "xeno-by     11\n",
              "retronym     5\n",
              "soc          4\n",
              "Name: pid, dtype: int64"
            ]
          },
          "execution_count": 13,
          "metadata": {},
          "output_type": "execute_result"
        }
      ],
      "source": [
        "dfCalculateScale.groupby('user')['pid'].count().nlargest(3)"
      ]
    },
    {
      "cell_type": "markdown",
      "id": "69799665-9aa4-498c-b9e6-8189b17e2016",
      "metadata": {
        "dc": {
          "key": "54"
        },
        "id": "69799665-9aa4-498c-b9e6-8189b17e2016",
        "run_control": {
          "frozen": true
        },
        "tags": [
          "context"
        ]
      },
      "source": [
        "## 8. Who made the last ten pull requests on a given file?\n",
        "<p>Open source projects suffer from fluctuating membership. This makes the problem of finding the right person more challenging: the person has to be knowledgeable <em>and</em> still be involved in the project. A person that contributed a lot in the past might no longer be available (or willing) to help. To get a better understanding, we need to investigate the more recent history of that particular part of the system. </p>\n",
        "<p>Like in the previous task, we will look at the history of  <code>src/compiler/scala/reflect/reify/phases/Calculate.scala</code>.</p>"
      ]
    },
    {
      "cell_type": "code",
      "execution_count": 14,
      "id": "peRUAE4-c3GN",
      "metadata": {
        "colab": {
          "base_uri": "https://localhost:8080/"
        },
        "id": "peRUAE4-c3GN",
        "outputId": "1a654aa3-ec3a-431a-dd3f-3b8b674e553a"
      },
      "outputs": [
        {
          "data": {
            "text/plain": [
              "51415       zuvizudar\n",
              "78353        retronym\n",
              "84155         xeno-by\n",
              "1234         retronym\n",
              "12514             soc\n",
              "12823    bjornregnell\n",
              "13381        retronym\n",
              "13779        retronym\n",
              "14970       starblood\n",
              "17127        retronym\n",
              "Name: user, dtype: object"
            ]
          },
          "execution_count": 14,
          "metadata": {},
          "output_type": "execute_result"
        }
      ],
      "source": [
        "dfCalculateScale.sort_values(by='date',ascending= False )['user'][0:10]"
      ]
    },
    {
      "cell_type": "markdown",
      "id": "5e4990cd-d89d-4c48-9b66-e83ffc7ff355",
      "metadata": {
        "dc": {
          "key": "61"
        },
        "id": "5e4990cd-d89d-4c48-9b66-e83ffc7ff355",
        "run_control": {
          "frozen": true
        },
        "tags": [
          "context"
        ]
      },
      "source": [
        "## 9. The pull requests of two special developers\n",
        "<p>Now that we have identified two potential contacts in the projects, we need to find the person who was most involved in the project in recent times. That person is most likely to answer our questions. For each calendar year, we are interested in understanding the number of pull requests the authors submitted. This will give us a high-level image of their contribution trend to the project.</p>"
      ]
    },
    {
      "cell_type": "code",
      "execution_count": 15,
      "id": "0znYCowQeGzs",
      "metadata": {
        "colab": {
          "base_uri": "https://localhost:8080/",
          "height": 425
        },
        "id": "0znYCowQeGzs",
        "outputId": "eca756d7-732c-475c-8b38-04b369bd2e1f"
      },
      "outputs": [
        {
          "data": {
            "text/html": [
              "<div>\n",
              "<style scoped>\n",
              "    .dataframe tbody tr th:only-of-type {\n",
              "        vertical-align: middle;\n",
              "    }\n",
              "\n",
              "    .dataframe tbody tr th {\n",
              "        vertical-align: top;\n",
              "    }\n",
              "\n",
              "    .dataframe thead th {\n",
              "        text-align: right;\n",
              "    }\n",
              "</style>\n",
              "<table border=\"1\" class=\"dataframe\">\n",
              "  <thead>\n",
              "    <tr style=\"text-align: right;\">\n",
              "      <th></th>\n",
              "      <th></th>\n",
              "      <th>pid</th>\n",
              "    </tr>\n",
              "    <tr>\n",
              "      <th>user</th>\n",
              "      <th>year</th>\n",
              "      <th></th>\n",
              "    </tr>\n",
              "  </thead>\n",
              "  <tbody>\n",
              "    <tr>\n",
              "      <th rowspan=\"6\" valign=\"top\">retronym</th>\n",
              "      <th>2012</th>\n",
              "      <td>737</td>\n",
              "    </tr>\n",
              "    <tr>\n",
              "      <th>2013</th>\n",
              "      <td>4260</td>\n",
              "    </tr>\n",
              "    <tr>\n",
              "      <th>2014</th>\n",
              "      <td>2133</td>\n",
              "    </tr>\n",
              "    <tr>\n",
              "      <th>2015</th>\n",
              "      <td>1785</td>\n",
              "    </tr>\n",
              "    <tr>\n",
              "      <th>2016</th>\n",
              "      <td>1387</td>\n",
              "    </tr>\n",
              "    <tr>\n",
              "      <th>2017</th>\n",
              "      <td>1128</td>\n",
              "    </tr>\n",
              "    <tr>\n",
              "      <th rowspan=\"5\" valign=\"top\">xeno-by</th>\n",
              "      <th>2011</th>\n",
              "      <td>147</td>\n",
              "    </tr>\n",
              "    <tr>\n",
              "      <th>2012</th>\n",
              "      <td>8409</td>\n",
              "    </tr>\n",
              "    <tr>\n",
              "      <th>2013</th>\n",
              "      <td>2873</td>\n",
              "    </tr>\n",
              "    <tr>\n",
              "      <th>2014</th>\n",
              "      <td>1211</td>\n",
              "    </tr>\n",
              "    <tr>\n",
              "      <th>2015</th>\n",
              "      <td>9</td>\n",
              "    </tr>\n",
              "  </tbody>\n",
              "</table>\n",
              "</div>"
            ],
            "text/plain": [
              "                pid\n",
              "user     year      \n",
              "retronym 2012   737\n",
              "         2013  4260\n",
              "         2014  2133\n",
              "         2015  1785\n",
              "         2016  1387\n",
              "         2017  1128\n",
              "xeno-by  2011   147\n",
              "         2012  8409\n",
              "         2013  2873\n",
              "         2014  1211\n",
              "         2015     9"
            ]
          },
          "execution_count": 15,
          "metadata": {},
          "output_type": "execute_result"
        }
      ],
      "source": [
        "from pandas._config import dates\n",
        "# Define Autors\n",
        "\n",
        "authors = ['xeno-by','retronym']\n",
        "\n",
        "#Filter dataFrame\n",
        "dataScalaUsers = dataScala[dataScala['user'].isin(authors)]\n",
        "\n",
        "#Count by year and month\n",
        "\n",
        "counts = dataScalaUsers.groupby(['user','year']).agg({'pid': 'count'})\n",
        "\n",
        "counts"
      ]
    },
    {
      "cell_type": "code",
      "execution_count": 16,
      "id": "KWuWZ6suhcNw",
      "metadata": {
        "colab": {
          "base_uri": "https://localhost:8080/",
          "height": 300
        },
        "id": "KWuWZ6suhcNw",
        "outputId": "523bfa77-15ac-4160-d9da-2476fb71852c"
      },
      "outputs": [
        {
          "data": {
            "text/html": [
              "<div>\n",
              "<style scoped>\n",
              "    .dataframe tbody tr th:only-of-type {\n",
              "        vertical-align: middle;\n",
              "    }\n",
              "\n",
              "    .dataframe tbody tr th {\n",
              "        vertical-align: top;\n",
              "    }\n",
              "\n",
              "    .dataframe thead th {\n",
              "        text-align: right;\n",
              "    }\n",
              "</style>\n",
              "<table border=\"1\" class=\"dataframe\">\n",
              "  <thead>\n",
              "    <tr style=\"text-align: right;\">\n",
              "      <th>user</th>\n",
              "      <th>retronym</th>\n",
              "      <th>xeno-by</th>\n",
              "    </tr>\n",
              "    <tr>\n",
              "      <th>year</th>\n",
              "      <th></th>\n",
              "      <th></th>\n",
              "    </tr>\n",
              "  </thead>\n",
              "  <tbody>\n",
              "    <tr>\n",
              "      <th>2011</th>\n",
              "      <td>0</td>\n",
              "      <td>147</td>\n",
              "    </tr>\n",
              "    <tr>\n",
              "      <th>2012</th>\n",
              "      <td>737</td>\n",
              "      <td>8409</td>\n",
              "    </tr>\n",
              "    <tr>\n",
              "      <th>2013</th>\n",
              "      <td>4260</td>\n",
              "      <td>2873</td>\n",
              "    </tr>\n",
              "    <tr>\n",
              "      <th>2014</th>\n",
              "      <td>2133</td>\n",
              "      <td>1211</td>\n",
              "    </tr>\n",
              "    <tr>\n",
              "      <th>2015</th>\n",
              "      <td>1785</td>\n",
              "      <td>9</td>\n",
              "    </tr>\n",
              "    <tr>\n",
              "      <th>2016</th>\n",
              "      <td>1387</td>\n",
              "      <td>0</td>\n",
              "    </tr>\n",
              "    <tr>\n",
              "      <th>2017</th>\n",
              "      <td>1128</td>\n",
              "      <td>0</td>\n",
              "    </tr>\n",
              "  </tbody>\n",
              "</table>\n",
              "</div>"
            ],
            "text/plain": [
              "user  retronym  xeno-by\n",
              "year                   \n",
              "2011         0      147\n",
              "2012       737     8409\n",
              "2013      4260     2873\n",
              "2014      2133     1211\n",
              "2015      1785        9\n",
              "2016      1387        0\n",
              "2017      1128        0"
            ]
          },
          "execution_count": 16,
          "metadata": {},
          "output_type": "execute_result"
        }
      ],
      "source": [
        "# Show plot\n",
        "import matplotlib.pyplot as plt\n",
        "\n",
        "# Girar tabla\n",
        "counts_wide = counts.pivot_table(index='year',columns='user',values='pid',fill_value=0)\n",
        "\n",
        "counts_wide"
      ]
    },
    {
      "cell_type": "code",
      "execution_count": 17,
      "id": "lsQzEqYEiywA",
      "metadata": {
        "colab": {
          "base_uri": "https://localhost:8080/",
          "height": 297
        },
        "id": "lsQzEqYEiywA",
        "outputId": "679a34f4-9e09-4490-f461-0a456cf8874a"
      },
      "outputs": [
        {
          "data": {
            "text/plain": [
              "<AxesSubplot:xlabel='year'>"
            ]
          },
          "execution_count": 17,
          "metadata": {},
          "output_type": "execute_result"
        },
        {
          "data": {
            "image/png": "[encoded data removed]",
            "text/plain": [
              "<Figure size 432x288 with 1 Axes>"
            ]
          },
          "metadata": {
            "needs_background": "light"
          },
          "output_type": "display_data"
        }
      ],
      "source": [
        "counts_wide.plot()"
      ]
    },
    {
      "cell_type": "markdown",
      "id": "e80f7107-f3f9-4442-87cc-cd329aeb48e4",
      "metadata": {
        "dc": {
          "key": "68"
        },
        "id": "e80f7107-f3f9-4442-87cc-cd329aeb48e4",
        "run_control": {
          "frozen": true
        },
        "tags": [
          "context"
        ]
      },
      "source": [
        "## 10. Visualizing the contributions of each developer\n",
        "<p>As mentioned before, it is important to make a distinction between the global expertise and contribution levels and the contribution levels at a more granular level (file, submodule, etc.) In our case, we want to see which of our two developers of interest have the most experience with the code in a given file. We will measure experience by the number of pull requests submitted that affect that file and how recent those pull requests were submitted.</p>"
      ]
    },
    {
      "cell_type": "code",
      "execution_count": 18,
      "id": "utrXIJ0hjO83",
      "metadata": {
        "colab": {
          "base_uri": "https://localhost:8080/",
          "height": 175
        },
        "id": "utrXIJ0hjO83",
        "outputId": "c7be860f-02e1-457a-a125-5418548bd592"
      },
      "outputs": [
        {
          "data": {
            "text/html": [
              "<div>\n",
              "<style scoped>\n",
              "    .dataframe tbody tr th:only-of-type {\n",
              "        vertical-align: middle;\n",
              "    }\n",
              "\n",
              "    .dataframe tbody tr th {\n",
              "        vertical-align: top;\n",
              "    }\n",
              "\n",
              "    .dataframe thead th {\n",
              "        text-align: right;\n",
              "    }\n",
              "</style>\n",
              "<table border=\"1\" class=\"dataframe\">\n",
              "  <thead>\n",
              "    <tr style=\"text-align: right;\">\n",
              "      <th>user</th>\n",
              "      <th>retronym</th>\n",
              "      <th>xeno-by</th>\n",
              "    </tr>\n",
              "    <tr>\n",
              "      <th>year</th>\n",
              "      <th></th>\n",
              "      <th></th>\n",
              "    </tr>\n",
              "  </thead>\n",
              "  <tbody>\n",
              "    <tr>\n",
              "      <th>2012</th>\n",
              "      <td>0</td>\n",
              "      <td>10</td>\n",
              "    </tr>\n",
              "    <tr>\n",
              "      <th>2013</th>\n",
              "      <td>4</td>\n",
              "      <td>0</td>\n",
              "    </tr>\n",
              "    <tr>\n",
              "      <th>2014</th>\n",
              "      <td>1</td>\n",
              "      <td>1</td>\n",
              "    </tr>\n",
              "  </tbody>\n",
              "</table>\n",
              "</div>"
            ],
            "text/plain": [
              "user  retronym  xeno-by\n",
              "year                   \n",
              "2012         0       10\n",
              "2013         4        0\n",
              "2014         1        1"
            ]
          },
          "execution_count": 18,
          "metadata": {},
          "output_type": "execute_result"
        }
      ],
      "source": [
        "#Filter dataFrame\n",
        "dataScalaUsers = dataScala[dataScala['user'].isin(authors)]\n",
        "\n",
        "dataScalaUsers = dataScalaUsers[dataScalaUsers['file']==file]\n",
        "\n",
        "#Count by year and month\n",
        "\n",
        "counts = dataScalaUsers.groupby(['user','year']).agg({'pid': 'count'})\n",
        "\n",
        "counts_wide = counts.pivot_table(index='year',columns='user',values='pid',fill_value=0)\n",
        "\n",
        "counts_wide"
      ]
    }
  ],
  "metadata": {
    "colab": {
      "collapsed_sections": [],
      "provenance": []
    },
    "editor": "DataCamp Workspace",
    "kernelspec": {
      "display_name": "Python 3.9.12 ('base')",
      "language": "python",
      "name": "python3"
    },
    "language_info": {
      "codemirror_mode": {
        "name": "ipython",
        "version": 3
      },
      "file_extension": ".py",
      "mimetype": "text/x-python",
      "name": "python",
      "nbconvert_exporter": "python",
      "pygments_lexer": "ipython3",
      "version": "3.9.12"
    },
    "vscode": {
      "interpreter": {
        "hash": "48ed48f5542fe07e8f725768fb6d295eb9c66c05001f1d4e389bf0879d8b38cd"
      }
    }
  },
  "nbformat": 4,
  "nbformat_minor": 5
}
