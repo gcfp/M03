{
 "cells": [
  {
   "attachments": {},
   "cell_type": "markdown",
   "metadata": {},
   "source": [
    "# REGRESION\n",
    "\n",
    "* Modelo estadístico que te vincula la relacion entre una variable respuesta y otras variables explicativas\n",
    "* A partir de una serie de valores explicativos te permite predecir valores de la variable respuestas\n"
   ]
  },
  {
   "cell_type": "code",
   "execution_count": 27,
   "metadata": {},
   "outputs": [
    {
     "data": {
      "text/html": [
       "<div>\n",
       "<style scoped>\n",
       "    .dataframe tbody tr th:only-of-type {\n",
       "        vertical-align: middle;\n",
       "    }\n",
       "\n",
       "    .dataframe tbody tr th {\n",
       "        vertical-align: top;\n",
       "    }\n",
       "\n",
       "    .dataframe thead th {\n",
       "        text-align: right;\n",
       "    }\n",
       "</style>\n",
       "<table border=\"1\" class=\"dataframe\">\n",
       "  <thead>\n",
       "    <tr style=\"text-align: right;\">\n",
       "      <th></th>\n",
       "      <th>species</th>\n",
       "      <th>mass_g</th>\n",
       "      <th>length_cm</th>\n",
       "    </tr>\n",
       "  </thead>\n",
       "  <tbody>\n",
       "    <tr>\n",
       "      <th>0</th>\n",
       "      <td>Bream</td>\n",
       "      <td>242.0</td>\n",
       "      <td>23.2</td>\n",
       "    </tr>\n",
       "    <tr>\n",
       "      <th>1</th>\n",
       "      <td>Bream</td>\n",
       "      <td>290.0</td>\n",
       "      <td>24.0</td>\n",
       "    </tr>\n",
       "    <tr>\n",
       "      <th>2</th>\n",
       "      <td>Bream</td>\n",
       "      <td>340.0</td>\n",
       "      <td>23.9</td>\n",
       "    </tr>\n",
       "    <tr>\n",
       "      <th>3</th>\n",
       "      <td>Bream</td>\n",
       "      <td>363.0</td>\n",
       "      <td>26.3</td>\n",
       "    </tr>\n",
       "    <tr>\n",
       "      <th>4</th>\n",
       "      <td>Bream</td>\n",
       "      <td>430.0</td>\n",
       "      <td>26.5</td>\n",
       "    </tr>\n",
       "  </tbody>\n",
       "</table>\n",
       "</div>"
      ],
      "text/plain": [
       "  species  mass_g  length_cm\n",
       "0   Bream   242.0       23.2\n",
       "1   Bream   290.0       24.0\n",
       "2   Bream   340.0       23.9\n",
       "3   Bream   363.0       26.3\n",
       "4   Bream   430.0       26.5"
      ]
     },
     "execution_count": 27,
     "metadata": {},
     "output_type": "execute_result"
    }
   ],
   "source": [
    "import pandas as pd\n",
    "import numpy as np\n",
    "\n",
    "df_fish = pd.read_csv('fish.csv')\n",
    "df_fish.head()\n"
   ]
  },
  {
   "cell_type": "code",
   "execution_count": 28,
   "metadata": {},
   "outputs": [
    {
     "data": {
      "text/html": [
       "<div>\n",
       "<style scoped>\n",
       "    .dataframe tbody tr th:only-of-type {\n",
       "        vertical-align: middle;\n",
       "    }\n",
       "\n",
       "    .dataframe tbody tr th {\n",
       "        vertical-align: top;\n",
       "    }\n",
       "\n",
       "    .dataframe thead tr th {\n",
       "        text-align: left;\n",
       "    }\n",
       "\n",
       "    .dataframe thead tr:last-of-type th {\n",
       "        text-align: right;\n",
       "    }\n",
       "</style>\n",
       "<table border=\"1\" class=\"dataframe\">\n",
       "  <thead>\n",
       "    <tr>\n",
       "      <th></th>\n",
       "      <th colspan=\"8\" halign=\"left\">mass_g</th>\n",
       "      <th colspan=\"8\" halign=\"left\">length_cm</th>\n",
       "    </tr>\n",
       "    <tr>\n",
       "      <th></th>\n",
       "      <th>count</th>\n",
       "      <th>mean</th>\n",
       "      <th>std</th>\n",
       "      <th>min</th>\n",
       "      <th>25%</th>\n",
       "      <th>50%</th>\n",
       "      <th>75%</th>\n",
       "      <th>max</th>\n",
       "      <th>count</th>\n",
       "      <th>mean</th>\n",
       "      <th>std</th>\n",
       "      <th>min</th>\n",
       "      <th>25%</th>\n",
       "      <th>50%</th>\n",
       "      <th>75%</th>\n",
       "      <th>max</th>\n",
       "    </tr>\n",
       "    <tr>\n",
       "      <th>species</th>\n",
       "      <th></th>\n",
       "      <th></th>\n",
       "      <th></th>\n",
       "      <th></th>\n",
       "      <th></th>\n",
       "      <th></th>\n",
       "      <th></th>\n",
       "      <th></th>\n",
       "      <th></th>\n",
       "      <th></th>\n",
       "      <th></th>\n",
       "      <th></th>\n",
       "      <th></th>\n",
       "      <th></th>\n",
       "      <th></th>\n",
       "      <th></th>\n",
       "    </tr>\n",
       "  </thead>\n",
       "  <tbody>\n",
       "    <tr>\n",
       "      <th>Bream</th>\n",
       "      <td>35.0</td>\n",
       "      <td>617.828571</td>\n",
       "      <td>209.205709</td>\n",
       "      <td>242.0</td>\n",
       "      <td>462.50</td>\n",
       "      <td>610.0</td>\n",
       "      <td>717.00</td>\n",
       "      <td>1000.0</td>\n",
       "      <td>35.0</td>\n",
       "      <td>30.305714</td>\n",
       "      <td>3.593699</td>\n",
       "      <td>23.2</td>\n",
       "      <td>28.000</td>\n",
       "      <td>30.40</td>\n",
       "      <td>31.950</td>\n",
       "      <td>38.0</td>\n",
       "    </tr>\n",
       "    <tr>\n",
       "      <th>Perch</th>\n",
       "      <td>56.0</td>\n",
       "      <td>382.239286</td>\n",
       "      <td>347.617717</td>\n",
       "      <td>5.9</td>\n",
       "      <td>120.00</td>\n",
       "      <td>207.5</td>\n",
       "      <td>692.50</td>\n",
       "      <td>1100.0</td>\n",
       "      <td>56.0</td>\n",
       "      <td>25.735714</td>\n",
       "      <td>8.561572</td>\n",
       "      <td>7.5</td>\n",
       "      <td>19.825</td>\n",
       "      <td>23.25</td>\n",
       "      <td>34.125</td>\n",
       "      <td>41.1</td>\n",
       "    </tr>\n",
       "    <tr>\n",
       "      <th>Pike</th>\n",
       "      <td>17.0</td>\n",
       "      <td>718.705882</td>\n",
       "      <td>494.140765</td>\n",
       "      <td>200.0</td>\n",
       "      <td>345.00</td>\n",
       "      <td>510.0</td>\n",
       "      <td>950.00</td>\n",
       "      <td>1650.0</td>\n",
       "      <td>17.0</td>\n",
       "      <td>42.476471</td>\n",
       "      <td>9.029087</td>\n",
       "      <td>30.0</td>\n",
       "      <td>35.500</td>\n",
       "      <td>40.10</td>\n",
       "      <td>48.300</td>\n",
       "      <td>59.0</td>\n",
       "    </tr>\n",
       "    <tr>\n",
       "      <th>Roach</th>\n",
       "      <td>20.0</td>\n",
       "      <td>152.050000</td>\n",
       "      <td>88.828916</td>\n",
       "      <td>0.0</td>\n",
       "      <td>104.25</td>\n",
       "      <td>147.5</td>\n",
       "      <td>171.75</td>\n",
       "      <td>390.0</td>\n",
       "      <td>20.0</td>\n",
       "      <td>20.645000</td>\n",
       "      <td>3.459917</td>\n",
       "      <td>12.9</td>\n",
       "      <td>18.900</td>\n",
       "      <td>20.50</td>\n",
       "      <td>22.025</td>\n",
       "      <td>29.5</td>\n",
       "    </tr>\n",
       "  </tbody>\n",
       "</table>\n",
       "</div>"
      ],
      "text/plain": [
       "        mass_g                                                                \\\n",
       "         count        mean         std    min     25%    50%     75%     max   \n",
       "species                                                                        \n",
       "Bream     35.0  617.828571  209.205709  242.0  462.50  610.0  717.00  1000.0   \n",
       "Perch     56.0  382.239286  347.617717    5.9  120.00  207.5  692.50  1100.0   \n",
       "Pike      17.0  718.705882  494.140765  200.0  345.00  510.0  950.00  1650.0   \n",
       "Roach     20.0  152.050000   88.828916    0.0  104.25  147.5  171.75   390.0   \n",
       "\n",
       "        length_cm                                                          \n",
       "            count       mean       std   min     25%    50%     75%   max  \n",
       "species                                                                    \n",
       "Bream        35.0  30.305714  3.593699  23.2  28.000  30.40  31.950  38.0  \n",
       "Perch        56.0  25.735714  8.561572   7.5  19.825  23.25  34.125  41.1  \n",
       "Pike         17.0  42.476471  9.029087  30.0  35.500  40.10  48.300  59.0  \n",
       "Roach        20.0  20.645000  3.459917  12.9  18.900  20.50  22.025  29.5  "
      ]
     },
     "execution_count": 28,
     "metadata": {},
     "output_type": "execute_result"
    }
   ],
   "source": [
    "df_fish.groupby('species').describe()"
   ]
  },
  {
   "cell_type": "code",
   "execution_count": 29,
   "metadata": {},
   "outputs": [
    {
     "data": {
      "text/html": [
       "<div>\n",
       "<style scoped>\n",
       "    .dataframe tbody tr th:only-of-type {\n",
       "        vertical-align: middle;\n",
       "    }\n",
       "\n",
       "    .dataframe tbody tr th {\n",
       "        vertical-align: top;\n",
       "    }\n",
       "\n",
       "    .dataframe thead th {\n",
       "        text-align: right;\n",
       "    }\n",
       "</style>\n",
       "<table border=\"1\" class=\"dataframe\">\n",
       "  <thead>\n",
       "    <tr style=\"text-align: right;\">\n",
       "      <th></th>\n",
       "      <th>mass_g</th>\n",
       "      <th>length_cm</th>\n",
       "    </tr>\n",
       "  </thead>\n",
       "  <tbody>\n",
       "    <tr>\n",
       "      <th>mass_g</th>\n",
       "      <td>1.000000</td>\n",
       "      <td>0.906956</td>\n",
       "    </tr>\n",
       "    <tr>\n",
       "      <th>length_cm</th>\n",
       "      <td>0.906956</td>\n",
       "      <td>1.000000</td>\n",
       "    </tr>\n",
       "  </tbody>\n",
       "</table>\n",
       "</div>"
      ],
      "text/plain": [
       "             mass_g  length_cm\n",
       "mass_g     1.000000   0.906956\n",
       "length_cm  0.906956   1.000000"
      ]
     },
     "execution_count": 29,
     "metadata": {},
     "output_type": "execute_result"
    }
   ],
   "source": [
    "df_fish.corr()"
   ]
  },
  {
   "cell_type": "code",
   "execution_count": 30,
   "metadata": {},
   "outputs": [
    {
     "data": {
      "image/png": "[encoded data removed]",
      "text/plain": [
       "<Figure size 640x480 with 1 Axes>"
      ]
     },
     "metadata": {},
     "output_type": "display_data"
    }
   ],
   "source": [
    "# Ver relación entre las variables en scatterplot\n",
    "\n",
    "import matplotlib.pyplot as plt\n",
    "import seaborn as sns\n",
    "\n",
    "sns.regplot(x='length_cm', y='mass_g', data=df_fish)\n",
    "plt.show()"
   ]
  },
  {
   "attachments": {},
   "cell_type": "markdown",
   "metadata": {},
   "source": [
    "# Cálculo del Modelo"
   ]
  },
  {
   "cell_type": "code",
   "execution_count": 31,
   "metadata": {},
   "outputs": [
    {
     "name": "stdout",
     "output_type": "stream",
     "text": [
      "161.76095880106982\n"
     ]
    }
   ],
   "source": [
    "from statsmodels.formula.api import ols\n",
    "\n",
    "mdl_peso_vs_longitud = ols('mass_g ~ length_cm', data=df_fish).fit()\n",
    "\n",
    "# Ver los parametros\n",
    "parametros = mdl_peso_vs_longitud.params\n",
    "\n",
    "y = parametros[0] + parametros[1] * 20\n",
    "print(y)\n"
   ]
  },
  {
   "cell_type": "code",
   "execution_count": 35,
   "metadata": {},
   "outputs": [
    {
     "name": "stdout",
     "output_type": "stream",
     "text": [
      "         mass_g\n",
      "0   1208.738318\n",
      "1   1243.637563\n",
      "2   1278.536809\n",
      "3   1313.436054\n",
      "4   1348.335299\n",
      "5   1383.234545\n",
      "6   1418.133790\n",
      "7   1453.033035\n",
      "8   1487.932281\n",
      "9   1522.831526\n",
      "10  1557.730771\n",
      "11  1592.630016\n",
      "12  1627.529262\n",
      "13  1662.428507\n",
      "14  1697.327752\n",
      "15  1732.226998\n",
      "16  1767.126243\n",
      "17  1802.025488\n",
      "18  1836.924734\n",
      "19  1871.823979\n"
     ]
    }
   ],
   "source": [
    "#Predecir masa de pecees de rio\n",
    "data_explicativa = mdl_peso_vs_longitud.predict({'length_cm': np.arange(50,70)})"
   ]
  }
 ],
 "metadata": {
  "kernelspec": {
   "display_name": "base",
   "language": "python",
   "name": "python3"
  },
  "language_info": {
   "codemirror_mode": {
    "name": "ipython",
    "version": 3
   },
   "file_extension": ".py",
   "mimetype": "text/x-python",
   "name": "python",
   "nbconvert_exporter": "python",
   "pygments_lexer": "ipython3",
   "version": "3.9.13 (main, Aug 25 2022, 23:51:50) [MSC v.1916 64 bit (AMD64)]"
  },
  "orig_nbformat": 4,
  "vscode": {
   "interpreter": {
    "hash": "48ed48f5542fe07e8f725768fb6d295eb9c66c05001f1d4e389bf0879d8b38cd"
   }
  }
 },
 "nbformat": 4,
 "nbformat_minor": 2
}
