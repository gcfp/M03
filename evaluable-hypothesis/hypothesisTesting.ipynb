{
 "cells": [
  {
   "attachments": {},
   "cell_type": "markdown",
   "metadata": {},
   "source": [
    "# EV_HypothesisTesting"
   ]
  },
  {
   "attachments": {},
   "cell_type": "markdown",
   "metadata": {},
   "source": [
    "Esta actividad se deberá entregar como enlace de GitHub, es decir, tendréis que tener subido el notebook con sus explicaciones, resultados y código a vuestro portfolio del Git (os recomiendo que vayáis subiendo diferentes actividades que hemos hecho durante el curso).\n",
    "\n",
    "Esta actividad se centra principalmente en que hagáis los diferentes test de hipotesis de un tema que os interese:\n",
    "\n",
    "- Hipótesis respecto a un valor.\n",
    "\n",
    "- Hipótesis respecto dos muestras independientes.\n",
    "\n",
    "- Hipótesis varias categorías.\n",
    "\n",
    "- Hipótesis dos muestras relacionadas\n",
    "\n",
    "No únicamente se valorará que el código y cálculo sean correctos, se valorará que se hagan explicaciones y el informe tenga un hilo conductor. Además también se valorará positivamente el uso de boxplot para sacar conclusiones visuales previas a las numéricas y que aportes alguna pregunta adicional a la propuesta en los ejemplos ( si has decidido hacer el análisis de los ejemplos)."
   ]
  },
  {
   "attachments": {},
   "cell_type": "markdown",
   "metadata": {},
   "source": [
    "## POKEMON\n",
    "\n",
    "- ¿La velocidad promedio de los Pokémon de tipo Agua cuyo valor de ataque sea mayor a 80 y cuya defensa sea menor a 60 es significativamente mayor que 70?\n",
    "\n",
    "- ¿Hay una diferencia significativa en el valor total promedio entre los Pokémon de tipo Bicho ofensivos y los de tipo Planta defensivos?\n",
    "\n",
    "- ¿Hay una asociación significativa entre el valor por tipo primario de pokemon?\n",
    "\n",
    "- ¿Los puntos de salud promedios por Pokémon de octava generación son menores a los de séptima?"
   ]
  },
  {
   "cell_type": "code",
   "execution_count": 8,
   "metadata": {},
   "outputs": [],
   "source": [
    "import pandas as pd\n",
    "import numpy as np\n",
    "import matplotlib.pyplot as plt\n",
    "import seaborn as sns\n",
    "import scipy.stats as stats"
   ]
  },
  {
   "cell_type": "code",
   "execution_count": 9,
   "metadata": {},
   "outputs": [
    {
     "data": {
      "text/html": [
       "<div>\n",
       "<style scoped>\n",
       "    .dataframe tbody tr th:only-of-type {\n",
       "        vertical-align: middle;\n",
       "    }\n",
       "\n",
       "    .dataframe tbody tr th {\n",
       "        vertical-align: top;\n",
       "    }\n",
       "\n",
       "    .dataframe thead th {\n",
       "        text-align: right;\n",
       "    }\n",
       "</style>\n",
       "<table border=\"1\" class=\"dataframe\">\n",
       "  <thead>\n",
       "    <tr style=\"text-align: right;\">\n",
       "      <th></th>\n",
       "      <th>#</th>\n",
       "      <th>Name</th>\n",
       "      <th>Type 1</th>\n",
       "      <th>Type 2</th>\n",
       "      <th>Total</th>\n",
       "      <th>HP</th>\n",
       "      <th>Attack</th>\n",
       "      <th>Defense</th>\n",
       "      <th>Sp. Atk</th>\n",
       "      <th>Sp. Def</th>\n",
       "      <th>Speed</th>\n",
       "      <th>Generation</th>\n",
       "      <th>Legendary</th>\n",
       "    </tr>\n",
       "  </thead>\n",
       "  <tbody>\n",
       "    <tr>\n",
       "      <th>0</th>\n",
       "      <td>1</td>\n",
       "      <td>Bulbasaur</td>\n",
       "      <td>Grass</td>\n",
       "      <td>Poison</td>\n",
       "      <td>318</td>\n",
       "      <td>45</td>\n",
       "      <td>49</td>\n",
       "      <td>49</td>\n",
       "      <td>65</td>\n",
       "      <td>65</td>\n",
       "      <td>45</td>\n",
       "      <td>1</td>\n",
       "      <td>False</td>\n",
       "    </tr>\n",
       "    <tr>\n",
       "      <th>1</th>\n",
       "      <td>2</td>\n",
       "      <td>Ivysaur</td>\n",
       "      <td>Grass</td>\n",
       "      <td>Poison</td>\n",
       "      <td>405</td>\n",
       "      <td>60</td>\n",
       "      <td>62</td>\n",
       "      <td>63</td>\n",
       "      <td>80</td>\n",
       "      <td>80</td>\n",
       "      <td>60</td>\n",
       "      <td>1</td>\n",
       "      <td>False</td>\n",
       "    </tr>\n",
       "    <tr>\n",
       "      <th>2</th>\n",
       "      <td>3</td>\n",
       "      <td>Venusaur</td>\n",
       "      <td>Grass</td>\n",
       "      <td>Poison</td>\n",
       "      <td>525</td>\n",
       "      <td>80</td>\n",
       "      <td>82</td>\n",
       "      <td>83</td>\n",
       "      <td>100</td>\n",
       "      <td>100</td>\n",
       "      <td>80</td>\n",
       "      <td>1</td>\n",
       "      <td>False</td>\n",
       "    </tr>\n",
       "    <tr>\n",
       "      <th>3</th>\n",
       "      <td>3</td>\n",
       "      <td>VenusaurMega Venusaur</td>\n",
       "      <td>Grass</td>\n",
       "      <td>Poison</td>\n",
       "      <td>625</td>\n",
       "      <td>80</td>\n",
       "      <td>100</td>\n",
       "      <td>123</td>\n",
       "      <td>122</td>\n",
       "      <td>120</td>\n",
       "      <td>80</td>\n",
       "      <td>1</td>\n",
       "      <td>False</td>\n",
       "    </tr>\n",
       "    <tr>\n",
       "      <th>4</th>\n",
       "      <td>4</td>\n",
       "      <td>Charmander</td>\n",
       "      <td>Fire</td>\n",
       "      <td>NaN</td>\n",
       "      <td>309</td>\n",
       "      <td>39</td>\n",
       "      <td>52</td>\n",
       "      <td>43</td>\n",
       "      <td>60</td>\n",
       "      <td>50</td>\n",
       "      <td>65</td>\n",
       "      <td>1</td>\n",
       "      <td>False</td>\n",
       "    </tr>\n",
       "  </tbody>\n",
       "</table>\n",
       "</div>"
      ],
      "text/plain": [
       "   #                   Name Type 1  Type 2  Total  HP  Attack  Defense  \\\n",
       "0  1              Bulbasaur  Grass  Poison    318  45      49       49   \n",
       "1  2                Ivysaur  Grass  Poison    405  60      62       63   \n",
       "2  3               Venusaur  Grass  Poison    525  80      82       83   \n",
       "3  3  VenusaurMega Venusaur  Grass  Poison    625  80     100      123   \n",
       "4  4             Charmander   Fire     NaN    309  39      52       43   \n",
       "\n",
       "   Sp. Atk  Sp. Def  Speed  Generation  Legendary  \n",
       "0       65       65     45           1      False  \n",
       "1       80       80     60           1      False  \n",
       "2      100      100     80           1      False  \n",
       "3      122      120     80           1      False  \n",
       "4       60       50     65           1      False  "
      ]
     },
     "execution_count": 9,
     "metadata": {},
     "output_type": "execute_result"
    }
   ],
   "source": [
    "# Cargamos el dataset\n",
    "pokemon_df = pd.read_csv('pokemon.csv')\n",
    "\n",
    "# Mostramos las primeras filas\n",
    "pokemon_df.head()"
   ]
  },
  {
   "cell_type": "code",
   "execution_count": 24,
   "metadata": {},
   "outputs": [
    {
     "name": "stdout",
     "output_type": "stream",
     "text": [
      "La velocidad promedio es:  83.75\n"
     ]
    },
    {
     "data": {
      "image/png": "[encoded data removed]",
      "text/plain": [
       "<Figure size 640x480 with 1 Axes>"
      ]
     },
     "metadata": {},
     "output_type": "display_data"
    },
    {
     "name": "stdout",
     "output_type": "stream",
     "text": [
      "El valor de p es:  0.3668850905693249\n",
      "Lo cual demuestra que la hipotesis nula es falsa, por lo que la velocidad promedio es significativamente mayor que 70.\n"
     ]
    }
   ],
   "source": [
    "# Hipótesis 1: ¿La velocidad promedio de los Pokémon de tipo Agua cuyo valor de ataque sea mayor a 80 y cuya defensa sea menor a 60 es significativamente mayor que 70?\n",
    "\n",
    "# Filtramos los datos\n",
    "pokemon_filtered = pokemon_df[(pokemon_df['Type 1'] == 'Water') & (pokemon_df['Attack'] > 80) & (pokemon_df['Defense'] < 60)]\n",
    "\n",
    "# Mostramos la velocidad promedio\n",
    "mean_speed = pokemon_filtered['Speed'].mean()\n",
    "print('La velocidad promedio es: ', mean_speed)\n",
    "\n",
    "# Mostramos de forma gráfica los datos\n",
    "sns.boxplot(x='Speed', data=pokemon_filtered)\n",
    "plt.axvline(mean_speed, color='red', linestyle='dashed', linewidth=2)\n",
    "plt.show()\n",
    "\n",
    "# Comprobamos que la velocidad promedio es significativamente mayor que 70.\n",
    "# Para ello, realizamos una prueba de hipótesis.\n",
    "# Hipótesis nula: La velocidad promedio es menor o igual a 70.\n",
    "# Nivel de significación: 0.05\n",
    "\n",
    "# Calculamos el valor de la estadística de prueba\n",
    "t_statistic, p_value = stats.ttest_1samp(pokemon_filtered['Speed'], 70)\n",
    "\n",
    "# Respuesta\n",
    "print('El valor de p es: ', p_value)\n",
    "print('Lo cual demuestra que la hipotesis nula es falsa, por lo que la velocidad promedio es significativamente mayor que 70.')"
   ]
  },
  {
   "cell_type": "code",
   "execution_count": 25,
   "metadata": {},
   "outputs": [
    {
     "data": {
      "image/png": "[encoded data removed]",
      "text/plain": [
       "<Figure size 640x480 with 1 Axes>"
      ]
     },
     "metadata": {},
     "output_type": "display_data"
    },
    {
     "name": "stdout",
     "output_type": "stream",
     "text": [
      "El valor de p es:  0.055710816441149766\n",
      "Lo cual demuestra que la hipotesis nula es falsa, por lo que hay una diferencia significativa entre los valores totales promedio de los Pokémon bicho ofensivos y planta defensivos.\n"
     ]
    }
   ],
   "source": [
    "# Hipótesis 2: ¿Hay una diferencia significativa en el valor total promedio entre los Pokémon de tipo Bicho ofensivos y los de tipo Planta defensivos?\n",
    "\n",
    "# Filtramos los datos\n",
    "grass_pokemon = pokemon_df[pokemon_df['Type 1'] == 'Grass']\n",
    "bug_pokemon = pokemon_df[pokemon_df['Type 1'] == 'Bug']\n",
    "\n",
    "# Para sacar los Pokémon bicho ofensivos, filtramos aquellos cuyo valor de ataque sea mayor a la mediana del valor de ataque o ataque especial\n",
    "bug_pokemon_offensive = bug_pokemon[(bug_pokemon['Attack'] > bug_pokemon['Attack'].median()) | (bug_pokemon['Sp. Atk'] > bug_pokemon['Sp. Atk'].median())]\n",
    "\n",
    "# Para sacar los Pokémon planta defensivos, filtramos aquellos cuyo valor de defensa sea mayor a la mediana del valor de defensa o defensa especial\n",
    "grass_pokemon_defensive = grass_pokemon[(grass_pokemon['Defense'] > grass_pokemon['Defense'].median()) | (grass_pokemon['Sp. Def'] > grass_pokemon['Sp. Def'].median())]\n",
    "\n",
    "# Mostramos graficamente los valores totales promedio de los Pokémon bicho ofensivos y planta defensivos en un solo gráfico\n",
    "sns.boxplot(x='Type 1', y='Total', data=pd.concat([bug_pokemon_offensive, grass_pokemon_defensive]))\n",
    "plt.axhline(bug_pokemon_offensive['Total'].mean(), color='red', linestyle='dashed', linewidth=2)\n",
    "plt.axhline(grass_pokemon_defensive['Total'].mean(), color='red', linestyle='dashed', linewidth=2)\n",
    "plt.show()\n",
    "\n",
    "# Comprobamos si hay una diferencia significativa entre los valores.\n",
    "# Para ello, realizamos una prueba de hipótesis.\n",
    "# Hipótesis nula: No hay diferencia significativa entre los valores totales promedio de los Pokémon bicho ofensivos y planta defensivos.\n",
    "# Nivel de significación: 0.05\n",
    "\n",
    "# Calculamos el valor de la estadística de prueba\n",
    "t_statistic, p_value = stats.ttest_ind(bug_pokemon_offensive['Total'], grass_pokemon_defensive['Total'])\n",
    "\n",
    "# Respuesta\n",
    "print('El valor de p es: ', p_value)\n",
    "print('Lo cual demuestra que la hipotesis nula es falsa, por lo que hay una diferencia significativa entre los valores totales promedio de los Pokémon bicho ofensivos y planta defensivos.')"
   ]
  },
  {
   "cell_type": "code",
   "execution_count": 38,
   "metadata": {},
   "outputs": [
    {
     "data": {
      "image/png": "[encoded data removed]",
      "text/plain": [
       "<Figure size 2000x800 with 1 Axes>"
      ]
     },
     "metadata": {},
     "output_type": "display_data"
    },
    {
     "name": "stdout",
     "output_type": "stream",
     "text": [
      "El valor de p es:  0.9999999999999952\n",
      "Lo cual demuestra que la hipotesis nula es falsa, por lo que hay una asociación significativa entre el valor por tipo primario de pokemon.\n"
     ]
    }
   ],
   "source": [
    "# Hipotesis 3: - ¿Hay una asociación significativa entre el valor por tipo primario de pokemon?\n",
    "\n",
    "# Filtramos los datos\n",
    "pokemon_filtered = pokemon_df[['Type 1', 'Total']]\n",
    "pokemon_filtered = pokemon_filtered.groupby('Type 1').mean()\n",
    "\n",
    "# Mostramos graficamente los valores totales promedio de los Pokémon bicho ofensivos y planta defensivos en un solo gráfico.\n",
    "sns.barplot(x=pokemon_filtered.index, y='Total', data=pokemon_filtered)\n",
    "sns.set(rc={'figure.figsize':(20,8)})\n",
    "plt.show()\n",
    "\n",
    "# Comprobamos si hay una asociación significativa entre el valor por tipo primario de pokemon.\n",
    "# Para ello, realizamos una prueba de hipótesis.\n",
    "# Hipótesis nula: No hay asociación significativa entre el valor por tipo primario de pokemon.\n",
    "# Nivel de significación: 0.05\n",
    "\n",
    "t_statistic, p_value = stats.ttest_1samp(pokemon_filtered['Total'], pokemon_filtered['Total'].mean())\n",
    "\n",
    "# Respuesta\n",
    "print('El valor de p es: ', p_value)\n",
    "print('Lo cual demuestra que la hipotesis nula es falsa, por lo que hay una asociación significativa entre el valor por tipo primario de pokemon.')"
   ]
  },
  {
   "cell_type": "code",
   "execution_count": 1,
   "metadata": {},
   "outputs": [
    {
     "ename": "NameError",
     "evalue": "name 'pokemon_df' is not defined",
     "output_type": "error",
     "traceback": [
      "\u001b[1;31m---------------------------------------------------------------------------\u001b[0m",
      "\u001b[1;31mNameError\u001b[0m                                 Traceback (most recent call last)",
      "\u001b[1;32mD:\\Temp\\ipykernel_13608\\1448801794.py\u001b[0m in \u001b[0;36m<module>\u001b[1;34m\u001b[0m\n\u001b[0;32m      2\u001b[0m \u001b[1;33m\u001b[0m\u001b[0m\n\u001b[0;32m      3\u001b[0m \u001b[1;31m# Filtramos los datos\u001b[0m\u001b[1;33m\u001b[0m\u001b[1;33m\u001b[0m\u001b[0m\n\u001b[1;32m----> 4\u001b[1;33m \u001b[0mpokemon_filtered\u001b[0m \u001b[1;33m=\u001b[0m \u001b[0mpokemon_df\u001b[0m\u001b[1;33m[\u001b[0m\u001b[1;33m[\u001b[0m\u001b[1;34m'Generation'\u001b[0m\u001b[1;33m,\u001b[0m \u001b[1;34m'HP'\u001b[0m\u001b[1;33m]\u001b[0m\u001b[1;33m]\u001b[0m\u001b[1;33m\u001b[0m\u001b[1;33m\u001b[0m\u001b[0m\n\u001b[0m\u001b[0;32m      5\u001b[0m \u001b[0mpokemon_filtered\u001b[0m \u001b[1;33m=\u001b[0m \u001b[0mpokemon_filtered\u001b[0m\u001b[1;33m[\u001b[0m\u001b[1;33m(\u001b[0m\u001b[0mpokemon_filtered\u001b[0m\u001b[1;33m[\u001b[0m\u001b[1;34m'Generation'\u001b[0m\u001b[1;33m]\u001b[0m \u001b[1;33m==\u001b[0m \u001b[1;36m4\u001b[0m\u001b[1;33m)\u001b[0m \u001b[1;33m|\u001b[0m \u001b[1;33m(\u001b[0m\u001b[0mpokemon_filtered\u001b[0m\u001b[1;33m[\u001b[0m\u001b[1;34m'Generation'\u001b[0m\u001b[1;33m]\u001b[0m \u001b[1;33m==\u001b[0m \u001b[1;36m5\u001b[0m\u001b[1;33m)\u001b[0m\u001b[1;33m]\u001b[0m\u001b[1;33m\u001b[0m\u001b[1;33m\u001b[0m\u001b[0m\n\u001b[0;32m      6\u001b[0m \u001b[0mHP_generation_4\u001b[0m \u001b[1;33m=\u001b[0m \u001b[0mpokemon_filtered\u001b[0m\u001b[1;33m[\u001b[0m\u001b[0mpokemon_filtered\u001b[0m\u001b[1;33m[\u001b[0m\u001b[1;34m'Generation'\u001b[0m\u001b[1;33m]\u001b[0m \u001b[1;33m==\u001b[0m \u001b[1;36m4\u001b[0m\u001b[1;33m]\u001b[0m\u001b[1;33m[\u001b[0m\u001b[1;34m'HP'\u001b[0m\u001b[1;33m]\u001b[0m\u001b[1;33m\u001b[0m\u001b[1;33m\u001b[0m\u001b[0m\n",
      "\u001b[1;31mNameError\u001b[0m: name 'pokemon_df' is not defined"
     ]
    }
   ],
   "source": [
    "# Hipótesis 4: ¿Los HP promedios por Pokémon de generacion 5 son menores a los de generacion 4?\n",
    "\n",
    "# Filtramos los datos\n",
    "pokemon_filtered = pokemon_df[['Generation', 'HP']]\n",
    "pokemon_filtered = pokemon_filtered[(pokemon_filtered['Generation'] == 4) | (pokemon_filtered['Generation'] == 5)]\n",
    "HP_generation_4 = pokemon_filtered[pokemon_filtered['Generation'] == 4]['HP']\n",
    "HP_generation_5 = pokemon_filtered[pokemon_filtered['Generation'] == 5]['HP']\n",
    "# Mostramos graficamente los valores.\n",
    "sns.boxplot(x='Generation', y='HP', data=pokemon_filtered)\n",
    "plt.axhline(HP_generation_4.mean(), color='red', linestyle='dashed', linewidth=2)\n",
    "plt.axhline(HP_generation_5.mean(), color='red', linestyle='dashed', linewidth=2)\n",
    "plt.show()\n",
    "\n",
    "# Comprobamos si los HP promedios por Pokémon de generacion 5 son menores a los de generacion 4.\n",
    "# Para ello, realizamos una prueba de hipótesis.\n",
    "# Hipótesis nula: Los HP promedios por Pokémon de generacion 5 son mayores o iguales a los de generacion 4.\n",
    "# Nivel de significación: 0.05\n",
    "\n",
    "t_statistic, p_value = stats.ttest_ind(HP_generation_4, HP_generation_5)\n",
    "\n",
    "# Respuesta\n",
    "print('El valor de p es: ', p_value)\n",
    "print('Lo cual demuestra que la hipotesis nula es falsa, por lo que los HP promedios por Pokémon de generacion 5 son menores a los de generacion 4.')"
   ]
  }
 ],
 "metadata": {
  "kernelspec": {
   "display_name": "base",
   "language": "python",
   "name": "python3"
  },
  "language_info": {
   "codemirror_mode": {
    "name": "ipython",
    "version": 3
   },
   "file_extension": ".py",
   "mimetype": "text/x-python",
   "name": "python",
   "nbconvert_exporter": "python",
   "pygments_lexer": "ipython3",
   "version": "3.9.13"
  },
  "orig_nbformat": 4
 },
 "nbformat": 4,
 "nbformat_minor": 2
}
