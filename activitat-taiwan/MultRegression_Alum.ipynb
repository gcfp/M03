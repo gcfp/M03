{
  "cells": [
    {
      "cell_type": "markdown",
      "metadata": {
        "id": "Ef6kuwlE72Uh"
      },
      "source": [
        "## REGRESSION: ONE NUMERIC, ONE CATEGORICAL TO PREDICT NUMERIC"
      ]
    },
    {
      "cell_type": "markdown",
      "metadata": {
        "id": "njx9ZV5H3ej2"
      },
      "source": [
        "A partir del dataSet de Taiwan:\n",
        "\n",
        "\n",
        "*   Visualiza correctamente ( escojiendo el gráfico indicado), el precio en función de la dist al metro y en función de la antiguedad de la vivienda.\n",
        "*   Calcula el modelo para cada una de las variables, y en función de las dos variables conjuntas.\n",
        "*  Muestra gráficamente la regresión lineal del modelo conjunto con sus predicciones.\n",
        "* Predice el precio de una casa con las diferentes antiguedades que se encuentre a una distáncia de 2500 al metro más cercano.\n",
        "* Compara el error de los modelos e interperta el resultado.\n",
        "\n"
      ]
    },
    {
      "cell_type": "code",
      "execution_count": 1,
      "metadata": {
        "id": "27ojswJK5oyh"
      },
      "outputs": [
        {
          "data": {
            "text/html": [
              "<div>\n",
              "<style scoped>\n",
              "    .dataframe tbody tr th:only-of-type {\n",
              "        vertical-align: middle;\n",
              "    }\n",
              "\n",
              "    .dataframe tbody tr th {\n",
              "        vertical-align: top;\n",
              "    }\n",
              "\n",
              "    .dataframe thead th {\n",
              "        text-align: right;\n",
              "    }\n",
              "</style>\n",
              "<table border=\"1\" class=\"dataframe\">\n",
              "  <thead>\n",
              "    <tr style=\"text-align: right;\">\n",
              "      <th></th>\n",
              "      <th>dist_to_mrt_m</th>\n",
              "      <th>n_convenience</th>\n",
              "      <th>house_age_years</th>\n",
              "      <th>price_twd_msq</th>\n",
              "    </tr>\n",
              "  </thead>\n",
              "  <tbody>\n",
              "    <tr>\n",
              "      <th>0</th>\n",
              "      <td>84.87882</td>\n",
              "      <td>10</td>\n",
              "      <td>30 to 45</td>\n",
              "      <td>11.467474</td>\n",
              "    </tr>\n",
              "    <tr>\n",
              "      <th>1</th>\n",
              "      <td>306.59470</td>\n",
              "      <td>9</td>\n",
              "      <td>15 to 30</td>\n",
              "      <td>12.768533</td>\n",
              "    </tr>\n",
              "    <tr>\n",
              "      <th>2</th>\n",
              "      <td>561.98450</td>\n",
              "      <td>5</td>\n",
              "      <td>0 to 15</td>\n",
              "      <td>14.311649</td>\n",
              "    </tr>\n",
              "    <tr>\n",
              "      <th>3</th>\n",
              "      <td>561.98450</td>\n",
              "      <td>5</td>\n",
              "      <td>0 to 15</td>\n",
              "      <td>16.580938</td>\n",
              "    </tr>\n",
              "    <tr>\n",
              "      <th>4</th>\n",
              "      <td>390.56840</td>\n",
              "      <td>5</td>\n",
              "      <td>0 to 15</td>\n",
              "      <td>13.040847</td>\n",
              "    </tr>\n",
              "  </tbody>\n",
              "</table>\n",
              "</div>"
            ],
            "text/plain": [
              "   dist_to_mrt_m  n_convenience house_age_years  price_twd_msq\n",
              "0       84.87882             10        30 to 45      11.467474\n",
              "1      306.59470              9        15 to 30      12.768533\n",
              "2      561.98450              5         0 to 15      14.311649\n",
              "3      561.98450              5         0 to 15      16.580938\n",
              "4      390.56840              5         0 to 15      13.040847"
            ]
          },
          "execution_count": 1,
          "metadata": {},
          "output_type": "execute_result"
        }
      ],
      "source": [
        "\n",
        "#A partir del dataSet de Taiwan:\n",
        "\n",
        "import pandas as pd\n",
        "import numpy as np\n",
        "import matplotlib.pyplot as plt\n",
        "import seaborn as sns\n",
        "\n",
        "taiwan_df = pd.read_csv('taiwan.csv')\n",
        "\n",
        "#Visualiza correctamente ( escojiendo el gráfico indicado), el precio en función de la dist al metro y en función de la antiguedad de la vivienda.\n",
        "#Calcula el modelo para cada una de las variables, y en función de las dos variables conjuntas.\n",
        "#Muestra gráficamente la regresión lineal del modelo conjunto con sus predicciones.\n",
        "#Predice el precio de una casa con las diferentes antiguedades que se encuentre a una distáncia de 2500 al metro más cercano.\n",
        "#Compara el error de los modelos e interperta el resultado.\n",
        "\n",
        "\n"
      ]
    },
    {
      "cell_type": "markdown",
      "metadata": {
        "id": "MPliGOcs5lJW"
      },
      "source": [
        "\n",
        "\n",
        "*   Crea un modelo para cada una de las categorias\n",
        "*   Muestra en un gráfico las predicciones (en negro), respecto el gráfico original con sus linea de regresión.\n",
        "* Predice el precio de una casa con las diferentes antiguedades que se encuentre a una distáncia de 2500 al metro más cercano. Compara con el apartado anterior\n",
        "* Compara el error de los modelos e interperta el resultado.\n",
        "\n",
        "\n",
        "\n"
      ]
    },
    {
      "cell_type": "code",
      "execution_count": null,
      "metadata": {
        "id": "O2Wq7t_J3Uay"
      },
      "outputs": [],
      "source": []
    },
    {
      "cell_type": "markdown",
      "metadata": {
        "id": "R9ImS5iZ8F0t"
      },
      "source": [
        "## REGRESSION: TWO NUMERIC TO PREDICT NUMERIC"
      ]
    },
    {
      "cell_type": "markdown",
      "metadata": {
        "id": "i6e7QCcD8K-C"
      },
      "source": [
        "* Crea un gráfico 3D que relacione el precio de las viviendas versus la distáncia al metro y el número de supermercados. Responder V/F:\n",
        "\n",
        "- El precio de la vivienda disminuye cuando disminuye el número de tienda.\n",
        "\n",
        "- Hay una casa con un precio excepcionalmente alto por la cantidad de tiendas de conveniencia cercanas.\n",
        "\n",
        "- Cuanto más lejos esté la estación de MRT más cercana, menor será el precio de la vivienda.\n",
        "\n",
        "- Tiende a haber una relación positiva entre el número de tiendas de conveniencia y la distancia a la estación MRT más cercana.\n"
      ]
    },
    {
      "cell_type": "markdown",
      "metadata": {
        "id": "GZr4IYxhMrjy"
      },
      "source": []
    },
    {
      "cell_type": "code",
      "execution_count": null,
      "metadata": {
        "id": "SwhvZnAZ8E9-"
      },
      "outputs": [],
      "source": []
    },
    {
      "cell_type": "markdown",
      "metadata": {
        "id": "iE6rSO5v8uYL"
      },
      "source": [
        "* La idea del anterior punto es que te dieras cuenta que el gráfico 3D dificulta su comprensión. Piensa y dibuja la relación con otro gráfico (2d) que permita sacar mejores conclusiones. (Consejo, como siguen escalas distintas mejor hacer raíz cuadrada de la distáncia)"
      ]
    },
    {
      "cell_type": "code",
      "execution_count": null,
      "metadata": {
        "id": "mRxLXPeg-F3_"
      },
      "outputs": [],
      "source": []
    },
    {
      "cell_type": "markdown",
      "metadata": {
        "id": "-t5qfeS5CjG6"
      },
      "source": [
        "\n",
        "\n",
        "Me voy a comprar una casas, dudo entre casas de dos barrio. En el barrio 1 hay 4 supermercados, el barrio dos 3 supermercados. Quiero predecir el precio de las casas para las distancias al metro más cercano de (400, 800 y 1200km).\n",
        "\n",
        "* Predice su precio de manera conjunta (No una a una). Tip: Usa para predecir el modelo el sqrt de la distancia.\n",
        "* Muéstra en un gráfico solapado los valores originales y los predecidos usando un color y un marcador distinto.\n",
        "\n"
      ]
    },
    {
      "cell_type": "code",
      "execution_count": null,
      "metadata": {
        "id": "8qGy_IiPMw7H"
      },
      "outputs": [],
      "source": []
    },
    {
      "cell_type": "markdown",
      "metadata": {
        "id": "CRYut7cCMwbg"
      },
      "source": [
        "## MULTIPLE REGRESSION"
      ]
    },
    {
      "cell_type": "markdown",
      "metadata": {
        "id": "Co3BQCEhM2Qx"
      },
      "source": [
        "\n",
        "\n",
        "*   Muestra gráficamente el gráfico que relaciona el precio con la distancia y el nuúmero de supermercados para todas la categorias de antiguedad de viviendas. Tip: sns FacetGrid\n",
        "\n",
        "\n"
      ]
    },
    {
      "cell_type": "code",
      "execution_count": null,
      "metadata": {
        "id": "LJYJQ-vXNGdP"
      },
      "outputs": [],
      "source": []
    },
    {
      "cell_type": "markdown",
      "metadata": {
        "id": "n8jT9ZK-NGuX"
      },
      "source": [
        "Respecto a mi duda anterior sobre donde comprarme una casa, las del barrio 1 son todas muy viejas (entre 30 y 45). En cambio las del barrio 2 son nuevas.\n",
        "Al final me he quedado entre tres opciones:\n",
        "\n",
        "*   Casa Barrio 1 distancia media al metro (400m)\n",
        "*   Casa Barrio 2 nueva (4 años) lejana al metro (1000m)\n",
        "*   Casa Barrio 2 de 23 años de antiguedad y cercana al metro 200m\n",
        "\n",
        "Prediceme los precios para saber si me las podré permitir:\n",
        "\n"
      ]
    },
    {
      "cell_type": "code",
      "execution_count": null,
      "metadata": {
        "id": "3gtz0kNwOPCW"
      },
      "outputs": [],
      "source": []
    }
  ],
  "metadata": {
    "colab": {
      "provenance": []
    },
    "kernelspec": {
      "display_name": "base",
      "language": "python",
      "name": "python3"
    },
    "language_info": {
      "codemirror_mode": {
        "name": "ipython",
        "version": 3
      },
      "file_extension": ".py",
      "mimetype": "text/x-python",
      "name": "python",
      "nbconvert_exporter": "python",
      "pygments_lexer": "ipython3",
      "version": "3.9.13"
    },
    "vscode": {
      "interpreter": {
        "hash": "48ed48f5542fe07e8f725768fb6d295eb9c66c05001f1d4e389bf0879d8b38cd"
      }
    }
  },
  "nbformat": 4,
  "nbformat_minor": 0
}
