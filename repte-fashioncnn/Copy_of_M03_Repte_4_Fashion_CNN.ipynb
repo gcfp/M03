{
  "cells": [
    {
      "attachments": {},
      "cell_type": "markdown",
      "metadata": {
        "id": "P9iqewdWEIxq"
      },
      "source": [
        "Nom 1: Guillem Calaf"
      ]
    },
    {
      "cell_type": "markdown",
      "metadata": {
        "id": "31QNYpMU6k4W"
      },
      "source": [
        "# Repte 4: Fashion CNN"
      ]
    },
    {
      "cell_type": "markdown",
      "metadata": {
        "id": "2UkgQ3eg6sNh"
      },
      "source": [
        "## Enunciat\n",
        "\n",
        "En aquest repte classficarem les diferents peces de roba fent servir una **Xarxa Neuronal Convolucional**. "
      ]
    },
    {
      "cell_type": "code",
      "execution_count": null,
      "metadata": {
        "id": "Y2LuZSRs6UFI"
      },
      "outputs": [],
      "source": [
        "# Descarrega i prepara les dades del dataset fashion_mnist. En aquest cas, no \n",
        "# transformarem la sortida del model a un vector de 0' i 1's, per tant, haurem \n",
        "# d'escollir bé la funció de pèrdua a l'hora de fer l'entrenament de la xarxa.\n",
        "\n",
        "# Importem les llibreries necessàries\n",
        "import tensorflow as tf\n",
        "from tensorflow import keras\n",
        "import numpy as np\n",
        "import matplotlib.pyplot as plt\n",
        "\n",
        "# Carreguem el dataset fashion_mnist\n",
        "fashion_mnist = keras.datasets.fashion_mnist\n",
        "\n",
        "# Separem les dades en conjunt d'entrenament i conjunt de test\n",
        "(train_images, train_labels), (test_images, test_labels) = fashion_mnist.load_data()\n"
      ]
    },
    {
      "cell_type": "code",
      "execution_count": null,
      "metadata": {
        "id": "yiQoIl917qOO"
      },
      "outputs": [],
      "source": [
        "# Crea una Xarxa Neuronal amb 2 capes Convolucionals de 64 i 128 filtres, de\n",
        "# mides 7x7 i 3x3. A cada capa li aplicarem la operació MaxPooling 2x2. Afegeix\n",
        "# també una capa densa de 64 neurones abans de la capa de sortida. Experimenta\n",
        "# amb les diferents opcions de l'hiperparàmetre padding.\n",
        "model = keras.Sequential([\n",
        "    keras.layers.Conv2D(64, (7, 7), padding='same', activation='relu', input_shape=(28, 28, 1)),\n",
        "    keras.layers.MaxPooling2D((2, 2)),\n",
        "    keras.layers.Conv2D(128, (3, 3), padding='same', activation='relu'),\n",
        "    keras.layers.MaxPooling2D((2, 2)),\n",
        "    keras.layers.Flatten(),\n",
        "    keras.layers.Dense(64, activation='relu'),\n",
        "    keras.layers.Dense(10, activation='softmax')\n",
        "])\n"
      ]
    },
    {
      "cell_type": "code",
      "execution_count": null,
      "metadata": {
        "id": "AEMr9fKk9Nip"
      },
      "outputs": [],
      "source": [
        "# Entrena el model i visualitza el resultat de l'evaluació amb les dades de validació\n",
        "model.compile(optimizer='adam',\n",
        "                loss='sparse_categorical_crossentropy',\n",
        "                metrics=['accuracy'])\n",
        "\n",
        "model.fit(train_images, train_labels, epochs=10)\n",
        "test_loss, test_acc = model.evaluate(test_images, test_labels)\n",
        "print('Test accuracy:', test_acc)\n"
      ]
    },
    {
      "cell_type": "markdown",
      "metadata": {
        "id": "dbbKgK5T-rUQ"
      },
      "source": [
        "La capa **BatchNormalization** normalitza les entrades de la capa de manera que la mitja de la seva activació de sortida sigui 0 i la desviació estàndard 1.\n",
        "\n",
        "La capa **Dropout** ajuda a evitar els error per sobreentrenament (overfitting). Aquesta tècnica es basa en ignorar certs conjunts de neurones de manera aleatòria durant la fase d'entrenament."
      ]
    },
    {
      "cell_type": "code",
      "execution_count": null,
      "metadata": {
        "id": "dyQkzhIs-fjR"
      },
      "outputs": [],
      "source": [
        "# Crea i entrena una CNN amb 4 capes convolucionals de 32, 32, 64 i 128 filtres\n",
        "# i mida de 3x3. En comptes de la operació MaxPooling, aplicarem les capes\n",
        "# BatchNormalization i Dropout al 25% a cadascuna d'elles. Configurarem el padding\n",
        "# de manera que la sortida i l'entrada siguin de la mateixa mida.\n",
        "#\n",
        "# Per finalitzar la nostra xarxa, afegirem 2 capes denses de 512 i 128 neurones\n",
        "# amb les capes BatchNormalization i Dropout al 50% abans de la capa de sortida.\n",
        "\n",
        "model = keras.Sequential([\n",
        "    keras.layers.Conv2D(32, (3, 3), padding='same', activation='relu', input_shape=(28, 28, 1)),\n",
        "    keras.layers.BatchNormalization(),\n",
        "    keras.layers.Dropout(0.25),\n",
        "    keras.layers.Conv2D(32, (3, 3), padding='same', activation='relu'),\n",
        "    keras.layers.BatchNormalization(),\n",
        "    keras.layers.Dropout(0.25),\n",
        "    keras.layers.Conv2D(64, (3, 3), padding='same', activation='relu'),\n",
        "    keras.layers.BatchNormalization(),\n",
        "    keras.layers.Dropout(0.25),\n",
        "    keras.layers.Conv2D(128, (3, 3), padding='same', activation='relu'),\n",
        "    keras.layers.BatchNormalization(),\n",
        "    keras.layers.Dropout(0.25),\n",
        "    keras.layers.Flatten(),\n",
        "    keras.layers.Dense(512, activation='relu'),\n",
        "    keras.layers.BatchNormalization(),\n",
        "    keras.layers.Dropout(0.5),\n",
        "    keras.layers.Dense(128, activation='relu'),\n",
        "    keras.layers.BatchNormalization(),\n",
        "    keras.layers.Dropout(0.5),\n",
        "    keras.layers.Dense(10, activation='softmax')\n",
        "])\n",
        "\n",
        "model.compile(optimizer='adam', loss='sparse_categorical_crossentropy', metrics=['accuracy'])\n",
        "model.fit(train_images, train_labels, epochs=10)\n",
        "test_loss, test_acc = model.evaluate(test_images, test_labels)\n",
        "print('Test accuracy:', test_acc)\n"
      ]
    }
  ],
  "metadata": {
    "colab": {
      "provenance": []
    },
    "kernelspec": {
      "display_name": "base",
      "language": "python",
      "name": "python3"
    },
    "language_info": {
      "codemirror_mode": {
        "name": "ipython",
        "version": 3
      },
      "file_extension": ".py",
      "mimetype": "text/x-python",
      "name": "python",
      "nbconvert_exporter": "python",
      "pygments_lexer": "ipython3",
      "version": "3.9.13 (main, Aug 25 2022, 23:51:50) [MSC v.1916 64 bit (AMD64)]"
    },
    "vscode": {
      "interpreter": {
        "hash": "48ed48f5542fe07e8f725768fb6d295eb9c66c05001f1d4e389bf0879d8b38cd"
      }
    }
  },
  "nbformat": 4,
  "nbformat_minor": 0
}
