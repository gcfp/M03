{
 "cells": [
  {
   "cell_type": "markdown",
   "metadata": {},
   "source": [
    "# P1-PYTHON BÀSIC\n",
    "### Guillem Calaf Vidal"
   ]
  },
  {
   "cell_type": "markdown",
   "metadata": {},
   "source": [
    "## Importaciones de Modulos"
   ]
  },
  {
   "cell_type": "code",
   "execution_count": 81,
   "metadata": {},
   "outputs": [],
   "source": [
    "import random"
   ]
  },
  {
   "cell_type": "markdown",
   "metadata": {},
   "source": [
    "## Funciones para Juego 1"
   ]
  },
  {
   "cell_type": "code",
   "execution_count": 82,
   "metadata": {},
   "outputs": [],
   "source": [
    "# Comprueba si el input es un número y si este es igual, más grande o más pequeño a otro número\n",
    "# Retorna si el jugador ha ganado o no\n",
    "def comprovaNumero(numeroEscollit:str, numeroAleatori:int):\n",
    "    guanyar = False\n",
    "    if numeroEscollit.isdigit():\n",
    "        numeroEscollit = int(numeroEscollit)\n",
    "        if numeroEscollit >= 1 and numeroEscollit <= 10:\n",
    "            if numeroAleatori == numeroEscollit:\n",
    "                print(\"L'has encertat, el número era\", numeroAleatori)\n",
    "                guanyar = True\n",
    "            else:\n",
    "                if numeroAleatori < numeroEscollit:\n",
    "                    print(\"El número aleatori és menor a\", numeroEscollit)\n",
    "                else: \n",
    "                    print(\"El número aleatori és major a\", numeroEscollit)\n",
    "        else:\n",
    "            print(\"Has de seleccionar un número entre 1 i 10\")\n",
    "    else:\n",
    "        print(\"L'entrada no és válida, has d'inserir un número\")\n",
    "    return guanyar"
   ]
  },
  {
   "cell_type": "markdown",
   "metadata": {},
   "source": [
    "## Juego 1: Adivina Número"
   ]
  },
  {
   "cell_type": "code",
   "execution_count": 83,
   "metadata": {},
   "outputs": [],
   "source": [
    "def adivinaNumero():\n",
    "    # Variables usadas del Juego 1\n",
    "    numeroEscollit = 0\n",
    "    numeroAleatori = random.randint(1, 10)\n",
    "    intents = 3\n",
    "    guanyar = False\n",
    "    # Funcionalidad del Juego 1\n",
    "    while intents != 0 and not guanyar:\n",
    "        numeroEscollit = input(\"Adivina el número (1-10): \")\n",
    "        guanyar = comprovaNumero(numeroEscollit, numeroAleatori)\n",
    "        if not guanyar:\n",
    "            intents -= 1\n",
    "            print(\"Et queden\",intents,\"intents restants\")\n",
    "    if guanyar:\n",
    "        print(\"El joc s'ha acabat, has guanyat amb\",intents,\"intents restants\")\n",
    "    else:\n",
    "        print(\"El joc s'ha acabat, has perdut, el número era\", numeroAleatori)"
   ]
  },
  {
   "cell_type": "markdown",
   "metadata": {},
   "source": [
    "## Funciones para Juego 2"
   ]
  },
  {
   "cell_type": "code",
   "execution_count": 84,
   "metadata": {},
   "outputs": [],
   "source": [
    "# Comprueba si la opción elegida por el jugador está en la lista y si ha ganado, ha perdido o ha empatado\n",
    "# Retorna los puntos del jugador y de la maquina\n",
    "def comprovaOpcio(opcions:list, opcioEscollida:str, opcioAleatoria:str, puntsJugador:int, puntsMaquina:int):\n",
    "    if opcioEscollida in opcions:\n",
    "        if opcioEscollida == opcioAleatoria:\n",
    "            print(\"Empat, la máquina ha escollit\", opcioAleatoria, puntsJugador, \"-\", puntsMaquina)\n",
    "        elif opcions[opcions.index(opcioEscollida)-1] == opcions[opcions.index(opcioAleatoria)]:\n",
    "            puntsJugador += 1\n",
    "            print(\"Has guanyat la ronda, la máquina ha escollit\", opcioAleatoria, puntsJugador, \"-\", puntsMaquina)\n",
    "        else:\n",
    "            puntsMaquina += 1\n",
    "            print(\"Has perdut la ronda, la máquina ha escollit\", opcioAleatoria, puntsJugador, \"-\", puntsMaquina)\n",
    "    else:\n",
    "        print(\"Has d'escollir pedra, paper o tisora\")\n",
    "    return puntsJugador, puntsMaquina"
   ]
  },
  {
   "cell_type": "markdown",
   "metadata": {},
   "source": [
    "## Juego 2: Piedra, Papel, Tijeras"
   ]
  },
  {
   "cell_type": "code",
   "execution_count": 85,
   "metadata": {},
   "outputs": [],
   "source": [
    "def pedraPaperTisora():\n",
    "    # Variables usadas del Juego 2\n",
    "    opcions = [\"pedra\", \"paper\", \"tisora\"]\n",
    "    opcioEscollida = \"\"\n",
    "    opcioAleatoria = \"\"\n",
    "    puntsJugador = 0\n",
    "    puntsMaquina = 0\n",
    "    # Funcionalidad del Juego 2\n",
    "    while puntsJugador != 3 and puntsMaquina != 3:\n",
    "        opcioAleatoria = random.choice(opcions)\n",
    "        opcioEscollida = input(\"Escolleix pedra, paper o tisora: \").lower()\n",
    "        puntsJugador, puntsMaquina = comprovaOpcio(opcions, opcioEscollida, opcioAleatoria, puntsJugador, puntsMaquina)\n",
    "    if puntsJugador == 3:\n",
    "        print(\"Has guanyat a la màquina\", puntsJugador, \"-\", puntsMaquina)\n",
    "    else:\n",
    "        print(\"La màquina t'ha guanyat\", puntsJugador, \"-\", puntsMaquina)"
   ]
  },
  {
   "cell_type": "markdown",
   "metadata": {},
   "source": [
    "## Funciones para Juego 3"
   ]
  },
  {
   "cell_type": "code",
   "execution_count": 86,
   "metadata": {},
   "outputs": [],
   "source": [
    "# Comprueba si la letra del jugador está en la palabra aleatoria\n",
    "# Retorna el estado de la partida\n",
    "def comprovaLletra(lletraJugador:str, paraulaAleatoria:str, tauler:list, intents:int):\n",
    "    guanyar = False\n",
    "    if len(lletraJugador) == 1 and not lletraJugador.isdigit():\n",
    "        lletraJugador = lletraJugador.upper()\n",
    "        if lletraJugador in paraulaAleatoria:\n",
    "            for pos, char in enumerate(paraulaAleatoria):\n",
    "                if char == lletraJugador:\n",
    "                    tauler[pos] = char\n",
    "            print(\"La lletra\", lletraJugador, \"es troba a la paraula\")\n",
    "            if \"_\" not in tauler:\n",
    "                guanyar = True\n",
    "                return guanyar, intents\n",
    "        else:\n",
    "            print(\"La lletra\", lletraJugador, \"no es troba a la paraula\")\n",
    "        intents -= 1\n",
    "        print(\"Et queden\",intents,\"intents\")\n",
    "    else:\n",
    "        print(\"Has d'introduir una sola lletra\")\n",
    "    return guanyar, intents"
   ]
  },
  {
   "cell_type": "markdown",
   "metadata": {},
   "source": [
    "## Juego 3: Ahorcado"
   ]
  },
  {
   "cell_type": "code",
   "execution_count": 87,
   "metadata": {},
   "outputs": [],
   "source": [
    "def penjat():\n",
    "    # Variables usadas del Juego 3\n",
    "    lletraJugador = \"\"\n",
    "    guanyar = False\n",
    "    fitxer = open(\"PalabrasAleatorias.txt\", \"r\")\n",
    "    llistaParaules = fitxer.read().split(\";\")\n",
    "    paraulaAleatoria = random.choice(llistaParaules)\n",
    "    longitudParaula = len(paraulaAleatoria)\n",
    "    intents = longitudParaula * 2\n",
    "    tauler = [\"_\"] * longitudParaula\n",
    "    # Funcionalidad del Juego 3\n",
    "    while intents != 0 and not guanyar:\n",
    "        print(' '.join(tauler))\n",
    "        lletraJugador = input(\"Escriu una lletra\")\n",
    "        guanyar, intents = comprovaLletra(lletraJugador, paraulaAleatoria, tauler, intents)\n",
    "    if guanyar:\n",
    "        print(\"Has guanyat el penjat amb\", intents, \"intents restants, la paraula era\", paraulaAleatoria)\n",
    "    else:\n",
    "        print(\"Has perdut i t'han penjat, la paraula era\", paraulaAleatoria)"
   ]
  },
  {
   "cell_type": "markdown",
   "metadata": {},
   "source": [
    "## Menu Principal"
   ]
  },
  {
   "cell_type": "code",
   "execution_count": 88,
   "metadata": {},
   "outputs": [
    {
     "name": "stdout",
     "output_type": "stream",
     "text": [
      "_ _ _ _ _\n",
      "La lletra A es troba a la paraula\n",
      "Et queden 9 intents\n",
      "_ _ A _ A\n",
      "La lletra E no es troba a la paraula\n",
      "Et queden 8 intents\n",
      "_ _ A _ A\n",
      "La lletra I no es troba a la paraula\n",
      "Et queden 7 intents\n",
      "_ _ A _ A\n",
      "La lletra O no es troba a la paraula\n",
      "Et queden 6 intents\n",
      "_ _ A _ A\n",
      "La lletra U no es troba a la paraula\n",
      "Et queden 5 intents\n",
      "_ _ A _ A\n",
      "Has d'introduir una sola lletra\n",
      "_ _ A _ A\n",
      "La lletra R es troba a la paraula\n",
      "Et queden 4 intents\n",
      "_ R A _ A\n",
      "La lletra G es troba a la paraula\n",
      "Et queden 3 intents\n",
      "G R A _ A\n",
      "La lletra S es troba a la paraula\n",
      "Has guanyat el penjat amb 3 intents restants, la paraula era GRASA\n",
      "Esperem tornar-te a veure!\n"
     ]
    }
   ],
   "source": [
    "jocEscollit = -1\n",
    "\n",
    "while jocEscollit != 0:\n",
    "    jocEscollit = input(\"Selecciona el número del joc: 1 - Adivina Número | 2 - Pedra, Paper, Tisores | 3 - Penjat | 0 - Sortir\")\n",
    "    if jocEscollit.isdigit():\n",
    "        jocEscollit = int(jocEscollit)\n",
    "        if jocEscollit == 1:\n",
    "            adivinaNumero()\n",
    "        elif jocEscollit == 2:\n",
    "            pedraPaperTisora()\n",
    "        elif jocEscollit == 3:\n",
    "            penjat()\n",
    "        elif jocEscollit == 0:\n",
    "            print(\"Esperem tornar-te a veure!\")\n",
    "        else:\n",
    "            print(\"El número ha de ser entre 1 i 3\")\n",
    "    else: \n",
    "        print(\"L'entrada no és válida, has d'inserir un número\")"
   ]
  }
 ],
 "metadata": {
  "kernelspec": {
   "display_name": "Python 3.9.12 ('base')",
   "language": "python",
   "name": "python3"
  },
  "language_info": {
   "codemirror_mode": {
    "name": "ipython",
    "version": 3
   },
   "file_extension": ".py",
   "mimetype": "text/x-python",
   "name": "python",
   "nbconvert_exporter": "python",
   "pygments_lexer": "ipython3",
   "version": "3.9.12"
  },
  "orig_nbformat": 4,
  "vscode": {
   "interpreter": {
    "hash": "a935bca3b37d84336fa1fb1c7d2fc238a71f9aaded0bc6b24228a0541d6f2741"
   }
  }
 },
 "nbformat": 4,
 "nbformat_minor": 2
}
