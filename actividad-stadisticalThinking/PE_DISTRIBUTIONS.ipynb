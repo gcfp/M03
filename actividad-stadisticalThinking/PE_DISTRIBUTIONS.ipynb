{
  "nbformat": 4,
  "nbformat_minor": 0,
  "metadata": {
    "colab": {
      "provenance": []
    },
    "kernelspec": {
      "name": "python3",
      "display_name": "Python 3"
    },
    "language_info": {
      "name": "python"
    }
  },
  "cells": [
    {
      "cell_type": "markdown",
      "source": [
        "## A1: HACKER STATISTICS\n",
        "\n",
        "Vamos a simular el lanzamiento de dos dados 100 veces:\n",
        "\n",
        "* mediante un histograma indica los números a los que más me sale a cuenta apostar?\n",
        "\n",
        "* Indica la probabilidad de que me salga dos veces el mismo número\n",
        "\n",
        "* Si te sale tres veces dados repetidos, te vas a la carcel, cual es la probabilidad de que eso suceda?\n",
        "\n",
        "Repite lo mismo simulando 10000 lanzamiento de los datos"
      ],
      "metadata": {
        "id": "t1QYbsti7htp"
      }
    },
    {
      "cell_type": "code",
      "source": [],
      "metadata": {
        "id": "YQd9DRh_7b98"
      },
      "execution_count": null,
      "outputs": []
    },
    {
      "cell_type": "markdown",
      "source": [
        "## A2: BINOMIAL\n",
        "\n",
        "Somos un banco y sabemos que la probabilidad de que un usuario al que le hacemos un prestamo deje de pagar es de p=0.05. \n",
        "\n",
        "Vamos a hacer una simulación y dejar 100 prestamos: ¿Cuántos nos han dejado de pagar?\n",
        "\n"
      ],
      "metadata": {
        "id": "7nKKgkiZ789b"
      }
    },
    {
      "cell_type": "code",
      "source": [
        "# Binomial 100 prestamos"
      ],
      "metadata": {
        "id": "pX3J6VuP8Om2"
      },
      "execution_count": null,
      "outputs": []
    },
    {
      "cell_type": "markdown",
      "source": [
        "Ahora vamos a dejar 100 prestamos 1000 veces. ¿Cuantas veces nos han dejado de pagar más de 7 usuarios?"
      ],
      "metadata": {
        "id": "OGQ1Kr7c8O6P"
      }
    },
    {
      "cell_type": "code",
      "source": [
        "# Calcula binomial 1000 p=0.05 1000 repeticiones\n",
        "\n",
        "# Muestra histograma\n",
        "\n",
        "# responde la pregunta"
      ],
      "metadata": {
        "id": "rKD_67QV86RI"
      },
      "execution_count": null,
      "outputs": []
    },
    {
      "cell_type": "markdown",
      "source": [
        "Si nos dejan de pagar más de 10 veces al dejar 100 prestamos, entramos en bancarota cual es la probabilidad de que eso haya sucedido en nuestro experimiento?\n",
        "\n",
        "Coincide con la probabilidad real (scipy stats binomial.cdf)"
      ],
      "metadata": {
        "id": "_p_IoCoT86xH"
      }
    },
    {
      "cell_type": "code",
      "source": [
        "# Muestra  gràfico ecdf\n",
        "\n",
        "\n",
        "#Haz el cálculo\n",
        "# Compute the number of 100-loan simulations with 10 or more defaults: n_lose_money\n",
        "\n",
        "\n",
        "# Compute and print probability of losing money\n"
      ],
      "metadata": {
        "id": "qAuNkhmf9den"
      },
      "execution_count": null,
      "outputs": []
    },
    {
      "cell_type": "code",
      "source": [
        "# Cual es el resultado si envez de dejar 1000 veces 1000 prestamos dejamos 100000 veces"
      ],
      "metadata": {
        "id": "4F1vKyddHkja"
      },
      "execution_count": null,
      "outputs": []
    },
    {
      "cell_type": "code",
      "source": [
        "from scipy.stats import binom\n",
        "import numpy as np\n",
        "\n",
        "# Calcula de manera inferencial\n",
        "\n"
      ],
      "metadata": {
        "colab": {
          "base_uri": "https://localhost:8080/"
        },
        "id": "kh8auiJc_sci",
        "outputId": "598f3961-e2b1-467b-c48e-808fda47c29f"
      },
      "execution_count": null,
      "outputs": [
        {
          "output_type": "stream",
          "name": "stdout",
          "text": [
            "Probability of losing money = 0.02779\n",
            "0.02818829416341606\n"
          ]
        }
      ]
    },
    {
      "cell_type": "markdown",
      "source": [
        "## ACTIVIDAD 3 - POISSON\n",
        "Pensando en Sergio Ramos, la probabilidad de que un jugador concreto meta un gol que ha acabado siendo decisivo una eliminatoria a partir del minuto 92, ha pasado 25 veces en 540 eliminatorias.\n",
        "\n",
        "\n",
        "* ¿Cual és la probabilidad que un jugador decida dos o màs eliminatorias con un gol a partir del min 92 (simula 10000 eliminatorias)?\n",
        "\n",
        "* Si sergio Ramos ha jugado 54 eliminatorias y ha decidido dos veces, ¿cual es su probabilidad de que decida dos eliminatòrias o màs un jugador como él ?\n",
        "\n",
        "* ¿Cual és la porbabilidad de que un jugador como Sergio Ramos decida concretamente 2 elminatorias (pmf)"
      ],
      "metadata": {
        "id": "qygh6qnHHuEH"
      }
    },
    {
      "cell_type": "code",
      "source": [
        "# Draw 10,000 samples out of Poisson distribution: n_goals92\n",
        "\n",
        "# Comprueba que suceda 2 veces o màs\n",
        "\n"
      ],
      "metadata": {
        "id": "qETIJwq7JZ0P"
      },
      "execution_count": null,
      "outputs": []
    },
    {
      "cell_type": "code",
      "source": [
        "# Comprueba en el caso de Sergio Ramos"
      ],
      "metadata": {
        "id": "264my1oUpDMt"
      },
      "execution_count": null,
      "outputs": []
    },
    {
      "cell_type": "markdown",
      "source": [
        "## ACTIVIDAD 3 - NORMAL\n",
        "\n",
        "Disponemos de un dataSet con los tratos de Amir (no diferenciamos entre ganados y perdidos).\n",
        "\n",
        "*   Muestra en un histograma el campo 'amount' de Amir. ¿ Qué distribución sigue? Obtén sus parámetros estadísiticos básicos (media, desviación)\n",
        "\n"
      ],
      "metadata": {
        "id": "81GnkMTvpHmt"
      }
    },
    {
      "cell_type": "code",
      "source": [],
      "metadata": {
        "id": "UviefbtGrPgi"
      },
      "execution_count": null,
      "outputs": []
    },
    {
      "cell_type": "markdown",
      "source": [
        "Responde las siguientes preguntas sobre los tratos de Amir:\n",
        "\n",
        "\n",
        "*   ¿Cuál es la probabilidad de cerrar un trato menor de 7500€?\n",
        "*   ¿Cuál es la probabilidad de cerrar un trato mayor de 1000€?\n",
        "*   ¿Cuál es la probabilidad de cerrar un trato entre 3000€ y 5000€?\n",
        "*   ¿Cuál es la cantidad a partir de la qual el 25% de los tratos son menores que ellas?\n",
        "\n"
      ],
      "metadata": {
        "id": "1quik25TrPq9"
      }
    },
    {
      "cell_type": "code",
      "source": [],
      "metadata": {
        "id": "TMUYPT_fr9OP"
      },
      "execution_count": null,
      "outputs": []
    },
    {
      "cell_type": "markdown",
      "source": [
        "## ACTIVIDAD 3 - EXPONENCIAL\n",
        "\n",
        "Sabemos que un reparitdor del BurguerKing es capaz de realizar un pedido cada 0.15h. Responde a las siguientes preguntas:\n",
        "\n",
        "*   ¿Cual es la probabilidad de que tarde más de 25 min en hacer un pedido?\n",
        "*   ¿Cual es la probabilidad de que tarde entre 15min y 25 min?\n",
        "\n"
      ],
      "metadata": {
        "id": "Qzegaj0Z1NKX"
      }
    },
    {
      "cell_type": "code",
      "source": [],
      "metadata": {
        "id": "qS1zMl0D15gw"
      },
      "execution_count": null,
      "outputs": []
    }
  ]
}