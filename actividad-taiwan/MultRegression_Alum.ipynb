{
  "nbformat": 4,
  "nbformat_minor": 0,
  "metadata": {
    "colab": {
      "provenance": []
    },
    "kernelspec": {
      "name": "python3",
      "display_name": "Python 3"
    },
    "language_info": {
      "name": "python"
    }
  },
  "cells": [
    {
      "cell_type": "markdown",
      "source": [
        "## REGRESSION: ONE NUMERIC, ONE CATEGORICAL TO PREDICT NUMERIC"
      ],
      "metadata": {
        "id": "Ef6kuwlE72Uh"
      }
    },
    {
      "cell_type": "markdown",
      "source": [
        "A partir del dataSet de Taiwan:\n",
        "\n",
        "\n",
        "*   Visualiza correctamente ( escojiendo el gráfico indicado), el precio en función de la dist al metro y en función de la antiguedad de la vivienda.\n",
        "*   Calcula el modelo para cada una de las variables, y en función de las dos variables conjuntas.\n",
        "*  Muestra gráficamente la regresión lineal del modelo conjunto con sus predicciones.\n",
        "* Predice el precio de una casa con las diferentes antiguedades que se encuentre a una distáncia de 2500 al metro más cercano.\n",
        "* Compara el error de los modelos e interperta el resultado.\n",
        "\n"
      ],
      "metadata": {
        "id": "njx9ZV5H3ej2"
      }
    },
    {
      "cell_type": "code",
      "source": [],
      "metadata": {
        "id": "27ojswJK5oyh"
      },
      "execution_count": null,
      "outputs": []
    },
    {
      "cell_type": "markdown",
      "source": [
        "\n",
        "\n",
        "*   Crea un modelo para cada una de las categorias\n",
        "*   Muestra en un gráfico las predicciones (en negro), respecto el gráfico original con sus linea de regresión.\n",
        "* Predice el precio de una casa con las diferentes antiguedades que se encuentre a una distáncia de 2500 al metro más cercano. Compara con el apartado anterior\n",
        "* Compara el error de los modelos e interperta el resultado.\n",
        "\n",
        "\n",
        "\n"
      ],
      "metadata": {
        "id": "MPliGOcs5lJW"
      }
    },
    {
      "cell_type": "code",
      "execution_count": null,
      "metadata": {
        "id": "O2Wq7t_J3Uay"
      },
      "outputs": [],
      "source": []
    },
    {
      "cell_type": "markdown",
      "source": [
        "## REGRESSION: TWO NUMERIC TO PREDICT NUMERIC"
      ],
      "metadata": {
        "id": "R9ImS5iZ8F0t"
      }
    },
    {
      "cell_type": "markdown",
      "source": [
        "* Crea un gráfico 3D que relacione el precio de las viviendas versus la distáncia al metro y el número de supermercados. Responder V/F:\n",
        "\n",
        "- El precio de la vivienda disminuye cuando disminuye el número de tienda.\n",
        "\n",
        "- Hay una casa con un precio excepcionalmente alto por la cantidad de tiendas de conveniencia cercanas.\n",
        "\n",
        "- Cuanto más lejos esté la estación de MRT más cercana, menor será el precio de la vivienda.\n",
        "\n",
        "- Tiende a haber una relación positiva entre el número de tiendas de conveniencia y la distancia a la estación MRT más cercana.\n"
      ],
      "metadata": {
        "id": "i6e7QCcD8K-C"
      }
    },
    {
      "cell_type": "markdown",
      "source": [],
      "metadata": {
        "id": "GZr4IYxhMrjy"
      }
    },
    {
      "cell_type": "code",
      "source": [],
      "metadata": {
        "id": "SwhvZnAZ8E9-"
      },
      "execution_count": null,
      "outputs": []
    },
    {
      "cell_type": "markdown",
      "source": [
        "* La idea del anterior punto es que te dieras cuenta que el gráfico 3D dificulta su comprensión. Piensa y dibuja la relación con otro gráfico (2d) que permita sacar mejores conclusiones. (Consejo, como siguen escalas distintas mejor hacer raíz cuadrada de la distáncia)"
      ],
      "metadata": {
        "id": "iE6rSO5v8uYL"
      }
    },
    {
      "cell_type": "code",
      "source": [],
      "metadata": {
        "id": "mRxLXPeg-F3_"
      },
      "execution_count": null,
      "outputs": []
    },
    {
      "cell_type": "markdown",
      "source": [
        "\n",
        "\n",
        "Me voy a comprar una casas, dudo entre casas de dos barrio. En el barrio 1 hay 4 supermercados, el barrio dos 3 supermercados. Quiero predecir el precio de las casas para las distancias al metro más cercano de (400, 800 y 1200km).\n",
        "\n",
        "* Predice su precio de manera conjunta (No una a una). Tip: Usa para predecir el modelo el sqrt de la distancia.\n",
        "* Muéstra en un gráfico solapado los valores originales y los predecidos usando un color y un marcador distinto.\n",
        "\n"
      ],
      "metadata": {
        "id": "-t5qfeS5CjG6"
      }
    },
    {
      "cell_type": "code",
      "source": [],
      "metadata": {
        "id": "8qGy_IiPMw7H"
      },
      "execution_count": null,
      "outputs": []
    },
    {
      "cell_type": "markdown",
      "source": [
        "## MULTIPLE REGRESSION"
      ],
      "metadata": {
        "id": "CRYut7cCMwbg"
      }
    },
    {
      "cell_type": "markdown",
      "source": [
        "\n",
        "\n",
        "*   Muestra gráficamente el gráfico que relaciona el precio con la distancia y el nuúmero de supermercados para todas la categorias de antiguedad de viviendas. Tip: sns FacetGrid\n",
        "\n",
        "\n"
      ],
      "metadata": {
        "id": "Co3BQCEhM2Qx"
      }
    },
    {
      "cell_type": "code",
      "source": [],
      "metadata": {
        "id": "LJYJQ-vXNGdP"
      },
      "execution_count": null,
      "outputs": []
    },
    {
      "cell_type": "markdown",
      "source": [
        "Respecto a mi duda anterior sobre donde comprarme una casa, las del barrio 1 son todas muy viejas (entre 30 y 45). En cambio las del barrio 2 son nuevas.\n",
        "Al final me he quedado entre tres opciones:\n",
        "\n",
        "*   Casa Barrio 1 distancia media al metro (400m)\n",
        "*   Casa Barrio 2 nueva (4 años) lejana al metro (1000m)\n",
        "*   Casa Barrio 2 de 23 años de antiguedad y cercana al metro 200m\n",
        "\n",
        "Prediceme los precios para saber si me las podré permitir:\n",
        "\n"
      ],
      "metadata": {
        "id": "n8jT9ZK-NGuX"
      }
    },
    {
      "cell_type": "code",
      "source": [],
      "metadata": {
        "id": "3gtz0kNwOPCW"
      },
      "execution_count": null,
      "outputs": []
    }
  ]
}