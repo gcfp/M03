{
  "cells": [
    {
      "cell_type": "markdown",
      "id": "2bb3958f",
      "metadata": {
        "id": "2bb3958f"
      },
      "source": [
        "# Llibreries científiques en Python - pandas"
      ]
    },
    {
      "cell_type": "markdown",
      "id": "35efa36d",
      "metadata": {
        "id": "35efa36d"
      },
      "source": [
        "## Series"
      ]
    },
    {
      "cell_type": "markdown",
      "id": "8a522e84",
      "metadata": {
        "id": "8a522e84"
      },
      "source": [
        "Una sèrie és un vector unidimensional amb etiquetes als eixos i\n",
        "dades homogènies.Repassem què impliquen cadascuna d'aquestes característiques amb uns\n",
        "exemples.La sèrie ens permet representar un conjunt de dades unidimensionals,\n",
        "per exemple, una llista d'enters, decimals o de cadenes de caràcters:"
      ]
    },
    {
      "cell_type": "markdown",
      "id": "uudg6SDYWtuC",
      "metadata": {
        "id": "uudg6SDYWtuC"
      },
      "source": [
        "## DataFrames\n",
        "\n",
        "Un dataframe és una taula bidimensional amb etiquetes als eixos\n",
        "i dades potencialment heterogènies. El dataframe és l' estructura\n",
        "principal de treball amb la llibreria pandas.A diferència d'una sèrie, un dataframe és bidimensional:"
      ]
    },
    {
      "cell_type": "markdown",
      "id": "u-PvqWp1BpPF",
      "metadata": {
        "id": "u-PvqWp1BpPF"
      },
      "source": [
        "### Operacions bàsiques - DataFrame"
      ]
    },
    {
      "cell_type": "markdown",
      "id": "5c_ESMJ7CTdW",
      "metadata": {
        "id": "5c_ESMJ7CTdW"
      },
      "source": [
        "#### Lectura sobre Fitxer\n",
        "\n",
        "Pandas ens permet carregar les dades d'un fitxer CSV directament a un dataframe a través de la funció read_csv.\n",
        "\n",
        "Ara carregarem les dades del fitxer [marvel-wikia-data.csv](https://github.com/fivethirtyeight/data/tree/master/comic-characters) \n",
        "\n"
      ]
    },
    {
      "cell_type": "code",
      "execution_count": 2,
      "id": "2ce5f659",
      "metadata": {},
      "outputs": [
        {
          "data": {
            "text/plain": [
              "'import pandas as pd\\nimport matplotlib.pyplot as plt\\ndataMarvel = pd.read_csv(\\'marvel-wikia-data.csv\\')\\nprint(dataMarvel.loc[20:25, [\\'name\\', \\'APPEARANCES\\']])\\nmale = dataMarvel[dataMarvel.SEX == \"Male Characters\"]\\nfemale = dataMarvel[dataMarvel.SEX == \"Female Characters\"]\\nnonbinary = dataMarvel[(dataMarvel.SEX != \"Female Characters\") & (dataMarvel.SEX != \"Male Characters\")]\\npopularFem = female.sort_values(\\'APPEARANCES\\',ascending = False)[0:3][[\\'name\\', \\'APPEARANCES\\']]\\nsecPop = dataMarvel[(dataMarvel.APPEARANCES > 2000) & (dataMarvel.ID == \\'Secret Identity\\')]\\ngrouped = dataMarvel.groupby(\"ALIGN\")\\nfor name, group in grouped:\\n    print(name, len(group))\\ngrouped.agg({\\'APPEARANCES\\': \\'min\\'})\\nnew_dataset = dataMarvel[[\\'name\\', \\'ID\\', \\'HAIR\\']][0:100]\\nnew_dataset.to_csv(\"marvel-wikia-data-reduced.csv\", encoding=\\'utf-8\\')\\napp_name = dataMarvel.groupby([\\'name\\'])[\\'APPEARANCES\\'].sum()\\napp_name_top10 = app_name.sort_values(ascending=False)[0:10]\\napp_name_top10.plot(kind=\\'bar\\')\\nplt.title(\\'Top 10 appearances characters\\')\\nplt.show()\\ndata_years = dataMarvel.groupby(\\'Year\\')[\\'page_id\\'].count()\\ndata_years.plot(x=\\'Year\\', y=\\'page_id\\', kind=\\'line\\')\\nplt.show()\\ndata_years.hist()'"
            ]
          },
          "execution_count": 2,
          "metadata": {},
          "output_type": "execute_result"
        }
      ],
      "source": [
        "\"\"\"import pandas as pd\n",
        "import matplotlib.pyplot as plt\n",
        "dataMarvel = pd.read_csv('marvel-wikia-data.csv')\n",
        "print(dataMarvel.loc[20:25, ['name', 'APPEARANCES']])\n",
        "male = dataMarvel[dataMarvel.SEX == \"Male Characters\"]\n",
        "female = dataMarvel[dataMarvel.SEX == \"Female Characters\"]\n",
        "nonbinary = dataMarvel[(dataMarvel.SEX != \"Female Characters\") & (dataMarvel.SEX != \"Male Characters\")]\n",
        "popularFem = female.sort_values('APPEARANCES',ascending = False)[0:3][['name', 'APPEARANCES']]\n",
        "secPop = dataMarvel[(dataMarvel.APPEARANCES > 2000) & (dataMarvel.ID == 'Secret Identity')]\n",
        "grouped = dataMarvel.groupby(\"ALIGN\")\n",
        "for name, group in grouped:\n",
        "    print(name, len(group))\n",
        "grouped.agg({'APPEARANCES': 'min'})\n",
        "new_dataset = dataMarvel[['name', 'ID', 'HAIR']][0:100]\n",
        "new_dataset.to_csv(\"marvel-wikia-data-reduced.csv\", encoding='utf-8')\n",
        "app_name = dataMarvel.groupby(['name'])['APPEARANCES'].sum()\n",
        "app_name_top10 = app_name.sort_values(ascending=False)[0:10]\n",
        "app_name_top10.plot(kind='bar')\n",
        "plt.title('Top 10 appearances characters')\n",
        "plt.show()\n",
        "data_years = dataMarvel.groupby('Year')['page_id'].count()\n",
        "data_years.plot(x='Year', y='page_id', kind='line')\n",
        "plt.show()\n",
        "data_years.hist()\"\"\""
      ]
    },
    {
      "cell_type": "markdown",
      "id": "FptI6KOXFyLT",
      "metadata": {
        "id": "FptI6KOXFyLT"
      },
      "source": [
        "####  Estadístiques bàsiques"
      ]
    },
    {
      "cell_type": "markdown",
      "id": "9LjtXjwbGUh4",
      "metadata": {
        "id": "9LjtXjwbGUh4"
      },
      "source": [
        "#### Selecció de dades"
      ]
    },
    {
      "cell_type": "markdown",
      "id": "gjPdZRkJZy5w",
      "metadata": {
        "id": "gjPdZRkJZy5w"
      },
      "source": [
        "#### Agregació de dades"
      ]
    },
    {
      "cell_type": "markdown",
      "id": "sUFyuu6CM37C",
      "metadata": {
        "id": "sUFyuu6CM37C"
      },
      "source": [
        "#### Exportar a CSV"
      ]
    },
    {
      "cell_type": "markdown",
      "id": "dL7l7AkZ-inu",
      "metadata": {
        "id": "dL7l7AkZ-inu"
      },
      "source": [
        "### Visualitzacions de DataFrame"
      ]
    },
    {
      "cell_type": "markdown",
      "id": "JZv-ryBXAOR4",
      "metadata": {
        "id": "JZv-ryBXAOR4"
      },
      "source": [
        "Aprofitant el dataFrame anterior realitzarme una serie de visualitzacions les quals ens ajudaran a extreure conclusions de diferents anàlisis"
      ]
    },
    {
      "cell_type": "markdown",
      "id": "4J2tRFWrAlES",
      "metadata": {
        "id": "4J2tRFWrAlES"
      },
      "source": [
        "#### Bar chart\n",
        "\n",
        "Pasem a analitzar els 10 personatges que més apareixen als còmics de marvel:"
      ]
    },
    {
      "cell_type": "markdown",
      "id": "GdBiJInNB-xS",
      "metadata": {
        "id": "GdBiJInNB-xS"
      },
      "source": [
        "#### Line Bar\n",
        "\n",
        "Com han variat les creacions dels personatges durant els anys:"
      ]
    },
    {
      "cell_type": "markdown",
      "id": "cHXu5D5QEovl",
      "metadata": {
        "id": "cHXu5D5QEovl"
      },
      "source": [
        "#### Histograma\n",
        "\n",
        "Veiem la distribució respecte els anys"
      ]
    },
    {
      "cell_type": "markdown",
      "id": "5b3Ji3dTE2O3",
      "metadata": {
        "id": "5b3Ji3dTE2O3"
      },
      "source": [
        "#### Scatter plot"
      ]
    },
    {
      "cell_type": "markdown",
      "id": "wH5t4RVAUP1j",
      "metadata": {
        "id": "wH5t4RVAUP1j"
      },
      "source": [
        "## ACTIVITAT\n",
        "\n",
        "Analitzarem els incendis al brasil entre l'any 1998 i el 2007. https://www.kaggle.com/datasets/gustavomodelli/forest-fires-in-brazil"
      ]
    },
    {
      "cell_type": "markdown",
      "id": "-2Xx3HbVUf8Q",
      "metadata": {
        "id": "-2Xx3HbVUf8Q"
      },
      "source": [
        "\n",
        "Carregueu les dades de l'arxiu amazon.csv , que podeu trobar a la carpeta data, en un dataframe. Aquest conjunt de dades recull informació sobre el nombre d'incendis en boscos a Brasil entre el 1998 i el 2017.  Mostreu el número de files del dataframe i els noms de les columnes."
      ]
    },
    {
      "cell_type": "code",
      "execution_count": 3,
      "id": "MjFc9tEdUjhL",
      "metadata": {
        "id": "MjFc9tEdUjhL"
      },
      "outputs": [
        {
          "name": "stdout",
          "output_type": "stream",
          "text": [
            "6454 Index(['year', 'state', 'month', 'number', 'date'], dtype='object')\n"
          ]
        }
      ],
      "source": [
        "import pandas as pd\n",
        "import matplotlib.pyplot as plt\n",
        "\n",
        "dataAmazon = pd.read_csv('amazon.csv', encoding='ISO-8859-1')\n",
        "print(len(dataAmazon), dataAmazon.keys())"
      ]
    },
    {
      "cell_type": "markdown",
      "id": "_l4bamJ6Vd2-",
      "metadata": {
        "id": "_l4bamJ6Vd2-"
      },
      "source": [
        "Agrupeu les dades carregades a l'exercici 1 per any i, per cada any, mostreu el nombre total d'incendis que hi va haver en tot el país."
      ]
    },
    {
      "cell_type": "code",
      "execution_count": 4,
      "id": "n551qWyjVenV",
      "metadata": {
        "id": "n551qWyjVenV"
      },
      "outputs": [],
      "source": [
        "nombreIncendis = dataAmazon.groupby(['year'])['number'].sum()"
      ]
    },
    {
      "cell_type": "markdown",
      "id": "8Rd7JVChHv7z",
      "metadata": {
        "id": "8Rd7JVChHv7z"
      },
      "source": [
        "Mostra gràficament la lína temporal del nombre d'incendis al brasil durant els darrers anys"
      ]
    },
    {
      "cell_type": "code",
      "execution_count": 5,
      "id": "2f2jP4U6H-dO",
      "metadata": {
        "id": "2f2jP4U6H-dO"
      },
      "outputs": [
        {
          "data": {
            "image/png": "[encoded data removed]",
            "text/plain": [
              "<Figure size 432x288 with 1 Axes>"
            ]
          },
          "metadata": {
            "needs_background": "light"
          },
          "output_type": "display_data"
        }
      ],
      "source": [
        "nombreIncendis.plot(kind='bar')\n",
        "plt.title('Incendis Forestals darrers anys')\n",
        "plt.show()"
      ]
    },
    {
      "cell_type": "markdown",
      "id": "K2o-M6h6I7df",
      "metadata": {
        "id": "K2o-M6h6I7df"
      },
      "source": [
        "Mostreu gràficament la suma total d'incendis per mes per detectar els mesos on es produeixen més incendis per mes\n",
        "\n"
      ]
    },
    {
      "cell_type": "code",
      "execution_count": 9,
      "id": "yM02dAUQJM6N",
      "metadata": {
        "id": "yM02dAUQJM6N"
      },
      "outputs": [
        {
          "data": {
            "image/png": "[encoded data removed]",
            "text/plain": [
              "<Figure size 432x288 with 1 Axes>"
            ]
          },
          "metadata": {
            "needs_background": "light"
          },
          "output_type": "display_data"
        }
      ],
      "source": [
        "incendisMes = dataAmazon.groupby('month').agg('number').sum()\n",
        "incendisMes.plot(kind='bar')\n",
        "plt.title('Incendis Mes')\n",
        "plt.show()"
      ]
    },
    {
      "cell_type": "markdown",
      "id": "dr-UdyojJX_W",
      "metadata": {
        "id": "dr-UdyojJX_W"
      },
      "source": [
        "Mostreu també la mitja d'incendis anual, mensual i per estat"
      ]
    },
    {
      "cell_type": "code",
      "execution_count": null,
      "id": "2BZHM2i4JdHs",
      "metadata": {
        "id": "2BZHM2i4JdHs"
      },
      "outputs": [],
      "source": []
    },
    {
      "cell_type": "markdown",
      "id": "kJHXmw0iVfBB",
      "metadata": {
        "id": "kJHXmw0iVfBB"
      },
      "source": [
        "Mostreu els estats de Brasil on van enregistrar més de 800 incendis al mes, comptant els mesos de juny, juliol i agost. Heu de mostrar com a resultat una llista dels estats sense repetir.\n",
        "\n",
        "** La funció unique us pot ser útil"
      ]
    },
    {
      "cell_type": "code",
      "execution_count": null,
      "id": "J3FnjUiTVqlD",
      "metadata": {
        "id": "J3FnjUiTVqlD"
      },
      "outputs": [],
      "source": []
    },
    {
      "cell_type": "markdown",
      "id": "gVlW9rB-IS5U",
      "metadata": {
        "id": "gVlW9rB-IS5U"
      },
      "source": [
        "Mostra  gràficament la distrbució d'incendis per estat durant els mesos de juny, juliol i agost"
      ]
    },
    {
      "cell_type": "code",
      "execution_count": null,
      "id": "C4PbmM_qIvuE",
      "metadata": {
        "id": "C4PbmM_qIvuE"
      },
      "outputs": [],
      "source": []
    },
    {
      "cell_type": "markdown",
      "id": "zEkPSpHwVq0u",
      "metadata": {
        "id": "zEkPSpHwVq0u"
      },
      "source": [
        "Volem buscar aquells estats on durant l'any 2017 van ocórrer més de 800 incendis al mes, durant qualsevol dels mesos de l'any. Heu de mostrar per pantalla l'estat, el mes (o els mesos si la condició es compleix en varis mesos) i el nombre total d'incendis enregistrats en el mes corresponent."
      ]
    },
    {
      "cell_type": "code",
      "execution_count": null,
      "id": "VKF0hKMCV1s8",
      "metadata": {
        "id": "VKF0hKMCV1s8"
      },
      "outputs": [],
      "source": []
    },
    {
      "cell_type": "markdown",
      "id": "3OTe-9dxV3sq",
      "metadata": {
        "id": "3OTe-9dxV3sq"
      },
      "source": [
        "Creeu una còpia del dataframe original per posteriroment exportar-lo a un csv afegint una nova columna que ens indicarà per cada fila el nivell de risc d'aquella fila. Definim tres nivells de risc:\n",
        "high : si s'ha enregistrat una fila amb més de 800 incendis medium : si s'ha enregistrat una fila amb un nombre d'incendis entre 400 i 800low : si s'ha enregistrat una fila amb menys de 400 incendis\n",
        "Mostreu per pantalla aquelles files que corresponguin a un nivell de risc alt ( high )."
      ]
    },
    {
      "cell_type": "code",
      "execution_count": null,
      "id": "pjCZWi7VWExT",
      "metadata": {
        "id": "pjCZWi7VWExT"
      },
      "outputs": [],
      "source": []
    }
  ],
  "metadata": {
    "colab": {
      "collapsed_sections": [
        "518d4e0f",
        "65103d5f",
        "34780f34"
      ],
      "provenance": []
    },
    "kernelspec": {
      "display_name": "Python 3.9.12 ('base')",
      "language": "python",
      "name": "python3"
    },
    "language_info": {
      "codemirror_mode": {
        "name": "ipython",
        "version": 3
      },
      "file_extension": ".py",
      "mimetype": "text/x-python",
      "name": "python",
      "nbconvert_exporter": "python",
      "pygments_lexer": "ipython3",
      "version": "3.9.12"
    },
    "toc": {
      "base_numbering": 1,
      "nav_menu": {},
      "number_sections": true,
      "sideBar": true,
      "skip_h1_title": false,
      "title_cell": "Table of Contents",
      "title_sidebar": "Contents",
      "toc_cell": false,
      "toc_position": {},
      "toc_section_display": true,
      "toc_window_display": false
    },
    "vscode": {
      "interpreter": {
        "hash": "48ed48f5542fe07e8f725768fb6d295eb9c66c05001f1d4e389bf0879d8b38cd"
      }
    }
  },
  "nbformat": 4,
  "nbformat_minor": 5
}
